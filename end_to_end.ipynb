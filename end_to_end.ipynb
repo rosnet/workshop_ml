{
  "nbformat": 4,
  "nbformat_minor": 0,
  "metadata": {
    "kernelspec": {
      "display_name": "Python 3",
      "language": "python",
      "name": "python3"
    },
    "language_info": {
      "codemirror_mode": {
        "name": "ipython",
        "version": 3
      },
      "file_extension": ".py",
      "mimetype": "text/x-python",
      "name": "python",
      "nbconvert_exporter": "python",
      "pygments_lexer": "ipython3",
      "version": "3.6.1"
    },
    "colab": {
      "name": "NER Extractor with Regular Expression.ipynb",
      "provenance": []
    }
  },
  "cells": [
    {
      "cell_type": "code",
      "metadata": {
        "id": "8gdM4brhrckA",
        "outputId": "ed678c3b-94bd-4d23-bfce-2dee8eb256d7",
        "colab": {
          "base_uri": "https://localhost:8080/"
        }
      },
      "source": [
        "import os\r\n",
        "import json\r\n",
        "import string\r\n",
        "import nltk\r\n",
        "from nltk import word_tokenize, FreqDist\r\n",
        "from nltk.corpus import stopwords\r\n",
        "nltk.download('punkt')"
      ],
      "execution_count": 6,
      "outputs": [
        {
          "output_type": "stream",
          "text": [
            "[nltk_data] Downloading package punkt to /root/nltk_data...\n",
            "[nltk_data]   Unzipping tokenizers/punkt.zip.\n"
          ],
          "name": "stdout"
        },
        {
          "output_type": "execute_result",
          "data": {
            "text/plain": [
              "True"
            ]
          },
          "metadata": {
            "tags": []
          },
          "execution_count": 6
        }
      ]
    },
    {
      "cell_type": "code",
      "metadata": {
        "id": "5Qlu6EW3revE",
        "outputId": "46c1e723-a02d-4d28-aaa3-46aec640cca0",
        "colab": {
          "base_uri": "https://localhost:8080/"
        }
      },
      "source": [
        "#use nltk.download() and download only books. Using full download will takeup time and bandwidth\r\n",
        "nltk.download(\"punkt\")\r\n",
        "nltk.download(\"stopwords\")\r\n",
        "nltk.download('wordnet')\r\n",
        "!pip install newspaper3k"
      ],
      "execution_count": 7,
      "outputs": [
        {
          "output_type": "stream",
          "text": [
            "[nltk_data] Downloading package punkt to /root/nltk_data...\n",
            "[nltk_data]   Package punkt is already up-to-date!\n",
            "[nltk_data] Downloading package stopwords to /root/nltk_data...\n",
            "[nltk_data]   Unzipping corpora/stopwords.zip.\n",
            "[nltk_data] Downloading package wordnet to /root/nltk_data...\n",
            "[nltk_data]   Unzipping corpora/wordnet.zip.\n",
            "Collecting newspaper3k\n",
            "\u001b[?25l  Downloading https://files.pythonhosted.org/packages/d7/b9/51afecb35bb61b188a4b44868001de348a0e8134b4dfa00ffc191567c4b9/newspaper3k-0.2.8-py3-none-any.whl (211kB)\n",
            "\u001b[K     |████████████████████████████████| 215kB 4.2MB/s \n",
            "\u001b[?25hCollecting tldextract>=2.0.1\n",
            "\u001b[?25l  Downloading https://files.pythonhosted.org/packages/7e/62/b6acd3129c5615b9860e670df07fd55b76175b63e6b7f68282c7cad38e9e/tldextract-3.1.0-py2.py3-none-any.whl (87kB)\n",
            "\u001b[K     |████████████████████████████████| 92kB 7.8MB/s \n",
            "\u001b[?25hCollecting feedfinder2>=0.0.4\n",
            "  Downloading https://files.pythonhosted.org/packages/35/82/1251fefec3bb4b03fd966c7e7f7a41c9fc2bb00d823a34c13f847fd61406/feedfinder2-0.0.4.tar.gz\n",
            "Requirement already satisfied: PyYAML>=3.11 in /usr/local/lib/python3.6/dist-packages (from newspaper3k) (3.13)\n",
            "Collecting feedparser>=5.2.1\n",
            "\u001b[?25l  Downloading https://files.pythonhosted.org/packages/1c/21/faf1bac028662cc8adb2b5ef7a6f3999a765baa2835331df365289b0ca56/feedparser-6.0.2-py3-none-any.whl (80kB)\n",
            "\u001b[K     |████████████████████████████████| 81kB 8.1MB/s \n",
            "\u001b[?25hRequirement already satisfied: lxml>=3.6.0 in /usr/local/lib/python3.6/dist-packages (from newspaper3k) (4.2.6)\n",
            "Collecting jieba3k>=0.35.1\n",
            "\u001b[?25l  Downloading https://files.pythonhosted.org/packages/a9/cb/2c8332bcdc14d33b0bedd18ae0a4981a069c3513e445120da3c3f23a8aaa/jieba3k-0.35.1.zip (7.4MB)\n",
            "\u001b[K     |████████████████████████████████| 7.4MB 36.9MB/s \n",
            "\u001b[?25hRequirement already satisfied: python-dateutil>=2.5.3 in /usr/local/lib/python3.6/dist-packages (from newspaper3k) (2.8.1)\n",
            "Requirement already satisfied: nltk>=3.2.1 in /usr/local/lib/python3.6/dist-packages (from newspaper3k) (3.2.5)\n",
            "Requirement already satisfied: requests>=2.10.0 in /usr/local/lib/python3.6/dist-packages (from newspaper3k) (2.23.0)\n",
            "Requirement already satisfied: Pillow>=3.3.0 in /usr/local/lib/python3.6/dist-packages (from newspaper3k) (7.0.0)\n",
            "Requirement already satisfied: beautifulsoup4>=4.4.1 in /usr/local/lib/python3.6/dist-packages (from newspaper3k) (4.6.3)\n",
            "Collecting cssselect>=0.9.2\n",
            "  Downloading https://files.pythonhosted.org/packages/3b/d4/3b5c17f00cce85b9a1e6f91096e1cc8e8ede2e1be8e96b87ce1ed09e92c5/cssselect-1.1.0-py2.py3-none-any.whl\n",
            "Collecting tinysegmenter==0.3\n",
            "  Downloading https://files.pythonhosted.org/packages/17/82/86982e4b6d16e4febc79c2a1d68ee3b707e8a020c5d2bc4af8052d0f136a/tinysegmenter-0.3.tar.gz\n",
            "Requirement already satisfied: idna in /usr/local/lib/python3.6/dist-packages (from tldextract>=2.0.1->newspaper3k) (2.10)\n",
            "Collecting requests-file>=1.4\n",
            "  Downloading https://files.pythonhosted.org/packages/77/86/cdb5e8eaed90796aa83a6d9f75cfbd37af553c47a291cd47bc410ef9bdb2/requests_file-1.5.1-py2.py3-none-any.whl\n",
            "Requirement already satisfied: filelock>=3.0.8 in /usr/local/lib/python3.6/dist-packages (from tldextract>=2.0.1->newspaper3k) (3.0.12)\n",
            "Requirement already satisfied: six in /usr/local/lib/python3.6/dist-packages (from feedfinder2>=0.0.4->newspaper3k) (1.15.0)\n",
            "Collecting sgmllib3k\n",
            "  Downloading https://files.pythonhosted.org/packages/9e/bd/3704a8c3e0942d711c1299ebf7b9091930adae6675d7c8f476a7ce48653c/sgmllib3k-1.0.0.tar.gz\n",
            "Requirement already satisfied: chardet<4,>=3.0.2 in /usr/local/lib/python3.6/dist-packages (from requests>=2.10.0->newspaper3k) (3.0.4)\n",
            "Requirement already satisfied: certifi>=2017.4.17 in /usr/local/lib/python3.6/dist-packages (from requests>=2.10.0->newspaper3k) (2020.12.5)\n",
            "Requirement already satisfied: urllib3!=1.25.0,!=1.25.1,<1.26,>=1.21.1 in /usr/local/lib/python3.6/dist-packages (from requests>=2.10.0->newspaper3k) (1.24.3)\n",
            "Building wheels for collected packages: feedfinder2, jieba3k, tinysegmenter, sgmllib3k\n",
            "  Building wheel for feedfinder2 (setup.py) ... \u001b[?25l\u001b[?25hdone\n",
            "  Created wheel for feedfinder2: filename=feedfinder2-0.0.4-cp36-none-any.whl size=3358 sha256=3b510e04a11cde8874537c027fa801547d98335f96b2fb7c36032ec0477ac167\n",
            "  Stored in directory: /root/.cache/pip/wheels/de/03/ca/778e3a7a627e3d98836cc890e7cb40c7575424cfd3340f40ed\n",
            "  Building wheel for jieba3k (setup.py) ... \u001b[?25l\u001b[?25hdone\n",
            "  Created wheel for jieba3k: filename=jieba3k-0.35.1-cp36-none-any.whl size=7398406 sha256=951dd40866b62184825f5ecd121d912f2936d966b9138869acda07c7c921bd1c\n",
            "  Stored in directory: /root/.cache/pip/wheels/83/15/9c/a3f1f67e7f7181170ad37d32e503c35da20627c013f438ed34\n",
            "  Building wheel for tinysegmenter (setup.py) ... \u001b[?25l\u001b[?25hdone\n",
            "  Created wheel for tinysegmenter: filename=tinysegmenter-0.3-cp36-none-any.whl size=13538 sha256=cf395d4dc428afa5a146b641ef7d6c89bee7cbd1044a92e310b626d2cae1db5f\n",
            "  Stored in directory: /root/.cache/pip/wheels/81/2b/43/a02ede72324dd40cdd7ca53aad718c7710628e91b8b0dc0f02\n",
            "  Building wheel for sgmllib3k (setup.py) ... \u001b[?25l\u001b[?25hdone\n",
            "  Created wheel for sgmllib3k: filename=sgmllib3k-1.0.0-cp36-none-any.whl size=6066 sha256=693f1d47b3c75d8e58570fd47efd57e39cb6b98906d45484ed8df31b2972e1ab\n",
            "  Stored in directory: /root/.cache/pip/wheels/f1/80/5a/444ba08a550cdd241bd9baf8bae44be750efe370adb944506a\n",
            "Successfully built feedfinder2 jieba3k tinysegmenter sgmllib3k\n",
            "Installing collected packages: requests-file, tldextract, feedfinder2, sgmllib3k, feedparser, jieba3k, cssselect, tinysegmenter, newspaper3k\n",
            "Successfully installed cssselect-1.1.0 feedfinder2-0.0.4 feedparser-6.0.2 jieba3k-0.35.1 newspaper3k-0.2.8 requests-file-1.5.1 sgmllib3k-1.0.0 tinysegmenter-0.3 tldextract-3.1.0\n"
          ],
          "name": "stdout"
        }
      ]
    },
    {
      "cell_type": "code",
      "metadata": {
        "id": "43LKKP9hre4f",
        "outputId": "42757a1e-c96e-4472-b578-4bff2a2eb908",
        "colab": {
          "base_uri": "https://localhost:8080/"
        }
      },
      "source": [
        "#get a demo article and load it to memory\r\n",
        "from newspaper import Article\r\n",
        "url = 'https://www.vox.com/recode/22221173/elon-musk-tesla-foundation-philanthropy-wealthiest-person'\r\n",
        "article = Article(url)\r\n",
        "article.download()\r\n",
        "# data = open('Demo_Article.json','r')\r\n",
        "article.html\r\n",
        "article.parse()\r\n",
        "article.authors"
      ],
      "execution_count": 10,
      "outputs": [
        {
          "output_type": "execute_result",
          "data": {
            "text/plain": [
              "['Theodore Schleifer',\n",
              " 'Li Zhou',\n",
              " 'Ella Nilsen',\n",
              " 'Ian Millhiser',\n",
              " 'Rebecca Heilweil',\n",
              " 'Andrew Prokop',\n",
              " 'Anna North',\n",
              " 'Melinda Fakuade',\n",
              " 'Jan']"
            ]
          },
          "metadata": {
            "tags": []
          },
          "execution_count": 10
        }
      ]
    },
    {
      "cell_type": "code",
      "metadata": {
        "id": "7CFqgSikrfAK",
        "outputId": "3102d312-f2bd-4bb1-b521-7bc894827c45",
        "colab": {
          "base_uri": "https://localhost:8080/"
        }
      },
      "source": [
        "len(article.text)"
      ],
      "execution_count": 11,
      "outputs": [
        {
          "output_type": "execute_result",
          "data": {
            "text/plain": [
              "7795"
            ]
          },
          "metadata": {
            "tags": []
          },
          "execution_count": 11
        }
      ]
    },
    {
      "cell_type": "code",
      "metadata": {
        "id": "EnKwiEbbrfHX",
        "outputId": "de45f16a-2065-4ac3-8356-7e90441722d7",
        "colab": {
          "base_uri": "https://localhost:8080/"
        }
      },
      "source": [
        "# Convert the free text into tokens\r\n",
        "tokens = word_tokenize(article.text)\r\n",
        "print(tokens)\r\n"
      ],
      "execution_count": 13,
      "outputs": [
        {
          "output_type": "stream",
          "text": [
            "['The', 'richest', 'person', 'in', 'the', 'world', 'would', 'like', 'your', 'help', 'giving', 'away', 'his', 'billions', 'of', 'dollars', '.', 'One', 'of', 'the', 'first', 'things', 'that', 'Elon', 'Musk', ',', 'the', 'founder', 'and', 'CEO', 'of', 'Tesla', ',', 'did', 'upon', 'climbing', 'to', 'the', 'top', 'of', 'American', 'capitalism', 'last', 'week', 'was', 'to', 'ask', 'for', 'any', 'advice', 'about', 'how', 'to', 'climb', 'the', 'ranks', 'of', 'philanthropy', '.', 'Now', 'that', 'he', 'has', 'more', 'money', 'than', 'anyone', 'else', 'on', 'the', 'planet', ',', 'Musk', 'is', 'likely', 'to', 'come', 'under', 'far', 'greater', 'scrutiny', 'than', 'he', 'ever', 'has', 'about', 'how', 'he', 'gives', 'it', 'away', '—', 'or', 'doesn', '’', 't', '.', 'Amazon', 'founder', 'Jeff', 'Bezos', ',', 'whom', 'Musk', 'displaced', 'from', 'the', 'top', 'ranking', ',', 'drew', 'more', 'and', 'more', 'negative', 'attention', 'for', 'his', 'penny-pinching', 'philanthropy', 'as', 'he', 'became', 'wealthier', 'and', 'wealthier', ',', 'and', 'Musk', 'will', 'probably', 'encounter', 'a', 'similar', 'dynamic', '.', 'Bezos', 'turned', 'to', 'Twitter', 'for', 'advice', 'as', 'that', 'scrutiny', 'mounted', ',', 'and', 'Musk', 'is', 'following', 'the', 'same', 'playbook', '.', 'Btw', ',', 'critical', 'feedback', 'is', 'always', 'super', 'appreciated', ',', 'as', 'well', 'as', 'ways', 'to', 'donate', 'money', 'that', 'really', 'make', 'a', 'difference', '(', 'way', 'harder', 'than', 'it', 'seems', ')', '—', 'Elon', 'Musk', '(', '@', 'elonmusk', ')', 'January', '8', ',', '2021', 'Musk', '’', 's', 'tweet', 'lays', 'bare', 'two', 'truths', ':', 'He', 'is', 'certainly', 'correct', 'that', 'billionaire', 'philanthropy', 'is', 'difficult', '—', 'many', 'of', 'his', 'fellow', 'tech', 'titans', 'have', 'struggled', 'to', 'give', 'away', 'their', 'money', 'effectively', '.', 'But', 'it', '’', 's', 'also', 'true', 'that', 'many', 'billionaires', 'have', 'declined', 'to', 'give', 'away', 'large', 'amounts', 'of', 'their', 'money', ',', 'partially', 'out', 'of', 'fear', 'of', 'screwing', 'up', 'at', 'making', 'a', 'difference', ',', 'and', 'that', 'describes', 'Musk', '’', 's', 'own', 'giving', 'up', 'to', 'this', 'point', '.', 'Musk', 'has', 'given', 'relatively', 'small', 'amounts', 'of', 'his', 'wealth', ',', 'a', 'history', 'that', 'his', 'tweet', 'and', 'his', 'rise', 'to', 'top-billionaire', 'status', 'is', 'highlighting', '.', 'Musk', '’', 's', 'main', 'charitable', 'vehicle', 'has', 'been', 'the', 'Musk', 'Foundation', ',', 'which', 'he', 'founded', 'in', '2002', '.', 'In', 'an', 'age', 'of', 'philanthropic', 'showmanship', ',', 'the', 'Musk', 'Foundation', 'is', 'almost', 'entertaining', 'in', 'its', 'simplicity', 'and', 'yet', 'is', 'strikingly', 'opaque', ':', 'The', 'entire', 'website', 'is', '33', 'words', 'on', 'a', 'plain-text', 'Yahoo', 'page', 'with', 'no', 'links', ',', 'staff', 'information', ',', 'or', 'contact', 'forms', '(', '“', 'I', 'wrote', 'that', 'masterpiece', 'myself', 'in', 'HTML', '1.0', ',', '”', 'Musk', 'said', 'at', 'one', 'point', '.', ')', 'All', 'that', 'is', 'included', 'is', 'five', 'bullet', 'points', 'outlining', 'the', 'fields', 'that', 'the', 'foundation', 'supports', '.', 'Musk', 'has', 'also', 'signed', 'the', 'Giving', 'Pledge', '—', 'the', 'commitment', 'to', 'give', 'away', 'at', 'least', 'half', 'of', 'one', '’', 's', 'money', 'to', 'charity', '—', 'but', 'he', 'is', 'one', 'of', 'its', 'few', 'signatories', 'not', 'to', 'make', 'their', 'pledge', 'letter', 'publicly', 'available', 'on', 'the', 'program', '’', 's', 'website', '.', 'The', 'main', 'place', 'where', 'Musk', 'has', 'been', 'more', 'voluble', ',', 'naturally', ',', 'is', 'on', 'Twitter', ',', 'where', 'he', 'periodically', 'reveals', 'tidbits', 'about', 'his', 'philanthropic', 'thinking', 'to', 'Tesla', 'fans', 'who', 'beseech', 'him', 'for', 'gifts', 'or', 'details', '.', 'Sometimes', 'he', '’', 'll', 'promise', 'to', 'award', 'money', 'from', 'his', 'foundation', 'to', 'followers', 'who', 'tweet', 'at', 'him', '.', 'Until', '2016', ',', 'Musk', 'gave', 'relatively', 'little', 'money', 'to', 'his', 'foundation', 'which', 'then', 'gave', 'little', 'to', 'nonprofits', ',', 'according', 'to', 'the', 'tax', 'filings', 'that', 'foundations', 'must', 'file', '.', 'Then', 'in', 'May', '2016', ',', 'Musk', 'donated', '$', '250', 'million', 'in', 'Tesla', 'stock', 'to', 'his', 'foundation', ',', 'but', 'that', 'money', 'has', 'also', 'been', 'slow', 'to', 'get', 'out', 'the', 'door', '.', 'So', 'during', 'the', '16-year', 'period', 'between', 'the', 'foundation', '’', 's', 'founding', 'in', '2002', 'and', 'mid-2018', ',', 'the', 'last', 'year', 'on', 'file', ',', 'the', 'philanthropy', 'has', 'only', 'given', 'about', '$', '25', 'million', 'directly', 'to', 'nonprofit', 'groups', ',', 'with', '$', '10', 'million', 'of', 'that', 'going', 'to', 'support', 'OpenAI', ',', 'a', 'nonprofit', 'founded', 'by', 'Musk', 'and', 'entrepreneur', 'Sam', 'Altman', '.', 'After', '2016', ',', 'the', 'foundation', 'routed', 'about', '$', '50', 'million', 'to', 'donor-advised', 'funds', '(', 'DAFs', ')', ',', 'which', 'are', 'separate', 'philanthropic', 'vehicles', 'that', 'don', '’', 't', 'disclose', 'their', 'gifts', 'and', 'also', 'allow', 'foundations', 'to', 'circumvent', 'a', 'requirement', 'to', 'send', '5', 'percent', 'of', 'their', 'assets', 'elsewhere', 'every', 'year', '.', 'A', 'Musk', 'spokesperson', 'told', 'Forbes', 'last', 'year', 'that', 'those', 'DAFs', 'had', 'donated', 'a', 'total', 'of', '$', '75', 'million', 'over', 'their', 'lifetimes', 'to', 'nonprofits', '.', 'That', '$', '75', 'million', ',', 'when', 'combined', 'with', 'his', 'foundation', '’', 's', '$', '25', 'million', 'worth', 'of', 'direct', 'gifts', 'through', '2018', ',', 'means', 'Musk', 'has', 'given', 'away', 'about', '$', '100', 'million', 'to', 'charity', 'through', 'his', 'foundation', 'and', 'his', 'DAFs', '.', '(', 'This', 'figure', 'doesn', '’', 't', 'include', 'money', 'possibly', 'donated', 'by', 'his', 'foundation', 'after', '2018', 'or', 'money', 'donated', 'not', 'through', 'a', 'foundation', 'or', 'DAF', '.', ')', 'That', 'math', 'works', 'out', 'to', 'Musk', 'donating', 'about', '0.05', 'percent', 'of', 'his', 'current', 'net', 'worth', 'to', 'charity', 'so', 'far', '.', 'That', 'figure', 'also', 'tracks', 'with', 'what', 'Musk', 'has', 'said', 'publicly', '—', 'in', '2018', ',', 'he', 'said', 'that', 'he', 'had', 'sold', 'about', '$', '100', 'million', 'worth', 'of', 'Tesla', 'stock', 'to', 'finance', 'his', 'charity', '.', 'Representatives', 'for', 'Musk', 'didn', '’', 't', 'respond', 'to', 'Recode', '’', 's', 'request', 'for', 'comment', '.', 'Because', 'around', 'three-quarters', 'of', 'Musk', '’', 's', 'donations', 'to', 'date', 'have', 'come', 'through', 'DAFs', ',', 'which', 'don', '’', 't', 'have', 'to', 'file', 'similar', 'public', 'tax', 'documents', ',', 'it', 'is', 'harder', 'to', 'track', 'what', 'specific', 'nonprofits', 'he', 'is', 'supporting', '.', 'That', '’', 's', 'somewhat', 'intentional', ':', 'Musk', 'has', 'said', 'his', 'grants', 'are', '“', '(', 'almost', 'always', ')', 'anonymous', ',', '”', 'although', 'that', 'would', 'only', 'be', 'technically', 'true', 'for', 'donations', 'from', 'outside', 'the', 'walls', 'of', 'the', 'foundation', '(', 'though', 'Musk', 'has', 'said', 'incorrectly', 'that', 'his', 'foundation', 'donations', 'are', '“', 'anonymous', ',', '”', 'too', '.', ')', 'There', 'have', 'been', 'some', 'announcements', 'of', 'major', 'gifts', 'from', 'grantees', ',', 'though', '.', 'In', 'addition', 'to', 'the', '$', '10', 'million', 'from', 'the', 'foundation', 'to', 'OpenAI', ',', 'Musk', 'donated', 'at', 'least', '$', '10', 'million', 'to', 'the', 'Future', 'of', 'Life', 'Institute', ',', 'which', 'researches', 'safety', 'in', 'artificial', 'intelligence', ';', '$', '10', 'million', 'for', 'a', 'prize', 'focused', 'on', 'promoting', 'global', 'literacy', ';', 'and', '$', '6', 'million', 'to', 'the', 'Sierra', 'Club', ',', 'a', 'donation', 'that', 'was', 'originally', 'anonymous', 'and', 'then', 'made', 'public', 'after', 'Musk', 'encouraged', 'the', 'organization', 'to', 'do', 'so', '.', 'Musk', 'has', 'also', 'said', 'that', 'he', 'is', '“', 'one', 'of', 'the', 'top', 'donors', '”', 'to', 'the', 'American', 'Civil', 'Liberties', 'Union', ',', 'without', 'disclosing', 'a', 'precise', 'amount', '.', 'But', 'those', 'donations', 'all', 'happened', 'at', 'a', 'quainter', 'time', 'in', 'Musk', '’', 's', 'wealth', 'history', '.', 'Just', 'a', 'year', 'ago', ',', 'Musk', 'was', 'testifying', 'under', 'oath', 'that', 'he', 'was', 'worth', 'about', '$', '20', 'billion', ',', 'although', 'as', 'with', 'other', 'billionaire', 'tech', 'founders', ',', 'most', 'of', 'that', 'money', 'resides', 'in', 'illiquid', 'stock', 'that', 'a', 'CEO', 'is', 'often', 'reluctant', 'to', 'sell', '.', 'Now', 'Bloomberg', 'estimates', 'his', 'net', 'worth', 'as', 'over', '10', 'times', 'that', '.', 'And', 'as', 'he', 'is', 'now', 'the', 'world', '’', 's', 'wealthiest', 'person', ',', 'more', 'eyeballs', 'will', 'be', 'on', 'his', 'every', 'move', '.', 'Progressive', 'activists', 'and', 'politicians', 'have', 'increasingly', 'turned', 'their', 'ire', 'on', 'a', 'few', 'high-profile', 'billionaires', '—', 'sending', 'a', 'guillotine', 'to', 'Bezos', '’', 's', 'mansion', 'at', 'one', 'point', ',', 'for', 'instance', '—', 'as', 'a', 'way', 'to', 'criticize', 'American', 'income', 'inequality', '.', 'Billionaires', ',', 'though', ',', 'have', 'used', 'their', 'philanthropy', 'as', 'a', 'counterargument', 'to', 'higher', 'taxes', 'that', 'would', 'close', 'inequality', ',', 'pointing', 'to', 'the', 'good', 'they', 'are', 'doing', 'today', 'for', 'the', 'world', 'with', 'the', 'fortunes', '.', 'Musk', ',', 'who', 'has', 'bristled', 'at', 'the', 'label', '“', 'billionaire', '”', 'and', 'recently', 'moved', 'himself', 'and', 'his', 'foundation', 'to', 'Texas', ',', 'has', 'said', 'that', 'his', 'big', 'philanthropic', 'investments', 'are', 'still', 'decades', 'away', ',', 'which', 'could', 'frustrate', 'the', 'left', '.', 'The', 'entrepreneur', 'has', 'said', 'that', 'while', 'he', 'would', 'sell', 'some', 'more', 'Tesla', 'shares', '“', 'every', 'few', 'years', '”', 'for', 'philanthropy', ',', '“', 'major', 'disbursements', '”', 'from', 'his', 'charities', 'will', 'only', 'come', 'in', 'about', '20', 'years', ',', '“', 'when', 'Tesla', 'is', 'in', 'steady', 'state.', '”', 'That', 'would', 'be', 'around', 'when', 'Musk', 'is', 'nearing', '70', 'years', 'old', '.', 'But', 'he', 'does', 'appear', 'to', 'have', 'a', 'clear', 'idea', 'of', 'how', 'he', 'wants', 'to', 'spend', 'his', 'fortune', 'at', 'that', 'point', '.', 'He', 'has', 'already', 'outlined', 'two', 'broad', 'buckets', 'for', 'his', 'wealth', ':', 'half', 'for', 'Earth', ',', 'and', 'half', 'for', 'Mars', '.', '“', 'Will', 'use', 'that', 'to', 'make', 'life', 'multiplanetary', ',', 'help', 'education', '&', 'environment', 'on', 'Earth', 'w', 'my', 'foundation', '.', 'Just', 'don', '’', 't', 'want', 'us', 'to', 'be', 'sad', 'about', 'the', 'future', ',', '”', 'he', 'said', 'of', 'his', 'wealth', 'in', '2018', '.', '“', 'About', 'half', 'my', 'money', 'is', 'intended', 'for', 'problems', 'on', 'Earth', ',', 'half', 'to', 'help', 'establish', 'a', 'self-sustaining', 'city', 'on', 'Mars', 'to', 'ensure', 'continuation', 'of', 'life', 'in', 'case', 'we', 'get', 'hit', 'by', 'a', 'meteor', 'or', 'WW3', 'happens', '&', 'we', 'destroy', 'ourselves', ',', '”', 'he', 'told', 'another', 'follower', 'a', 'few', 'months', 'later', '.', 'He', '’', 's', 'already', 'starting', 'to', 'make', 'some', 'more', 'gifts', '.', 'On', 'Friday', ',', 'Barstool', 'Sports', 'announced', 'that', 'Musk', 'had', 'made', 'a', 'fund', 'that', 'it', 'organized', 'to', 'support', 'by', 'Barstool', 'Sports', 'for', 'small', 'businesses', '.', 'Musk', 'is', 'not', 'as', 'showy', 'with', 'his', 'material', 'comforts', 'as', 'other', 'tech', 'billionaires', '—', 'he', 'is', 'in', 'the', 'process', 'of', 'selling', 'all', 'of', 'his', 'homes', ',', 'and', 'has', 'not', 'displayed', 'the', 'same', 'taste', 'for', 'yachts', 'or', 'other', 'trifles', '.', 'From', 'Musk', '’', 's', 'point', 'of', 'view', ',', 'he', '’', 's', 'saving', 'up', '.', '“', 'It', '’', 's', 'going', 'to', 'take', 'a', 'lot', 'of', 'resources', 'to', 'build', 'a', 'city', 'on', 'Mars', ',', '”', 'he', 'told', 'an', 'interviewer', 'last', 'month', '.', '“', 'I', 'want', 'to', 'be', 'able', 'to', 'contribute', 'as', 'much', 'as', 'possible', '.', '”']\n"
          ],
          "name": "stdout"
        }
      ]
    },
    {
      "cell_type": "code",
      "metadata": {
        "id": "lJJeaI4PrfN4",
        "outputId": "78dee7ed-b31b-4756-bf9f-d984ba3a3725",
        "colab": {
          "base_uri": "https://localhost:8080/"
        }
      },
      "source": [
        "#identify unique words and single char words\r\n",
        "print(len(tokens))\r\n",
        "unique = set(tokens)\r\n",
        "print('# of Unique tokens',len(unique))\r\n",
        "print('# of tokens / len of unique tokens',len(tokens)/len(unique))"
      ],
      "execution_count": 14,
      "outputs": [
        {
          "output_type": "stream",
          "text": [
            "1545\n",
            "# of Unique tokens 572\n",
            "# of tokens / len of unique tokens 2.7010489510489513\n"
          ],
          "name": "stdout"
        }
      ]
    },
    {
      "cell_type": "code",
      "metadata": {
        "id": "tnft7v0ZrfVm",
        "outputId": "56f61611-1e96-4e2b-b22e-2957a63473c4",
        "colab": {
          "base_uri": "https://localhost:8080/"
        }
      },
      "source": [
        "#lets sort here\r\n",
        "sorted(unique)\r\n",
        "single=[w for w in unique if len(w) == 1 ]\r\n",
        "print(len(single))\r\n",
        "single"
      ],
      "execution_count": 15,
      "outputs": [
        {
          "output_type": "stream",
          "text": [
            "22\n"
          ],
          "name": "stdout"
        },
        {
          "output_type": "execute_result",
          "data": {
            "text/plain": [
              "['”',\n",
              " '’',\n",
              " ';',\n",
              " 's',\n",
              " '“',\n",
              " '@',\n",
              " '6',\n",
              " '(',\n",
              " '8',\n",
              " ':',\n",
              " '—',\n",
              " ')',\n",
              " 'A',\n",
              " 'a',\n",
              " '$',\n",
              " '.',\n",
              " ',',\n",
              " 'I',\n",
              " 'w',\n",
              " '5',\n",
              " '&',\n",
              " 't']"
            ]
          },
          "metadata": {
            "tags": []
          },
          "execution_count": 15
        }
      ]
    },
    {
      "cell_type": "code",
      "metadata": {
        "id": "bQCC98MWzabD",
        "outputId": "69fe66d9-1da0-4467-8807-5632a24162a3",
        "colab": {
          "base_uri": "https://localhost:8080/",
          "height": 295
        }
      },
      "source": [
        "# Frequency distribution of the words\r\n",
        "%matplotlib inline\r\n",
        "tokens.count('gluten')\r\n",
        "fd = nltk.FreqDist(tokens)\r\n",
        "fd.most_common(10)\r\n",
        "fd.plot(10)"
      ],
      "execution_count": 16,
      "outputs": [
        {
          "output_type": "display_data",
          "data": {
            "image/png": "[encoded data removed]",
            "text/plain": [
              "<Figure size 432x288 with 1 Axes>"
            ]
          },
          "metadata": {
            "tags": [],
            "needs_background": "light"
          }
        }
      ]
    },
    {
      "cell_type": "code",
      "metadata": {
        "id": "yMURej7MzmWr",
        "outputId": "8e065404-f890-4b83-e95a-ae530686d984",
        "colab": {
          "base_uri": "https://localhost:8080/"
        }
      },
      "source": [
        "# How long are the words?\r\n",
        "fd_wlen = nltk.FreqDist([len(w) for w in unique])\r\n",
        "fd_wlen"
      ],
      "execution_count": 17,
      "outputs": [
        {
          "output_type": "execute_result",
          "data": {
            "text/plain": [
              "FreqDist({1: 22,\n",
              "          2: 33,\n",
              "          3: 57,\n",
              "          4: 98,\n",
              "          5: 78,\n",
              "          6: 69,\n",
              "          7: 60,\n",
              "          8: 51,\n",
              "          9: 39,\n",
              "          10: 24,\n",
              "          11: 17,\n",
              "          12: 13,\n",
              "          13: 4,\n",
              "          14: 3,\n",
              "          15: 4})"
            ]
          },
          "metadata": {
            "tags": []
          },
          "execution_count": 17
        }
      ]
    },
    {
      "cell_type": "code",
      "metadata": {
        "id": "pmzFc7t5z6kw",
        "outputId": "09e8a01a-7db2-448e-e472-3ec7ad5167eb",
        "colab": {
          "base_uri": "https://localhost:8080/"
        }
      },
      "source": [
        "#text preprocessing: remove punctuations\r\n",
        "tokens_nop = [ t for t in tokens if t not in string.punctuation + \"\".join(['’' , '“', '”' , '—']) ]\r\n",
        "tokens_nop\r\n",
        "\r\n",
        "# Convert all characters to Lower case\r\n",
        "tokens_lower=[ t.lower() for t in tokens_nop ]\r\n",
        "\r\n",
        "# Create a stopword list from the standard list of stopwords available in nltk\r\n",
        "stop = stopwords.words('english')\r\n",
        "\r\n",
        "# Remove all these stopwords from the text\r\n",
        "tokens_nostop=[ t for t in tokens_lower if t not in stop ]\r\n",
        "\r\n",
        "#remove number like characters \r\n",
        "tokens_nostop = [x for x in tokens_nostop if not any(c.isdigit() for c in x)]\r\n",
        "FreqDist(tokens_nostop).most_common(10)"
      ],
      "execution_count": 24,
      "outputs": [
        {
          "output_type": "execute_result",
          "data": {
            "text/plain": [
              "[('musk', 36),\n",
              " ('foundation', 17),\n",
              " ('million', 13),\n",
              " ('money', 12),\n",
              " ('said', 9),\n",
              " ('away', 7),\n",
              " ('one', 6),\n",
              " ('tesla', 6),\n",
              " ('philanthropy', 6),\n",
              " ('also', 6)]"
            ]
          },
          "metadata": {
            "tags": []
          },
          "execution_count": 24
        }
      ]
    },
    {
      "cell_type": "code",
      "metadata": {
        "id": "kp0H-Cf3zzJ5",
        "outputId": "6fef53bb-c056-4420-d015-87b3b546bd59",
        "colab": {
          "base_uri": "https://localhost:8080/"
        }
      },
      "source": [
        "# The snowball stemmer -  which supports 13 non-English languages as well!\r\n",
        "snowball = nltk.SnowballStemmer('english')\r\n",
        "tokens_snow = [ snowball.stem(t) for t in tokens_nostop ]\r\n",
        "print(tokens_snow[:10])"
      ],
      "execution_count": 25,
      "outputs": [
        {
          "output_type": "stream",
          "text": [
            "['richest', 'person', 'world', 'would', 'like', 'help', 'give', 'away', 'billion', 'dollar']\n"
          ],
          "name": "stdout"
        }
      ]
    },
    {
      "cell_type": "code",
      "metadata": {
        "collapsed": true,
        "id": "gR0u6WPeuYsX",
        "colab": {
          "base_uri": "https://localhost:8080/"
        },
        "outputId": "e809cc9d-a063-4f1c-d421-273cbc6a4e3d"
      },
      "source": [
        "import spacy\n",
        "nlp = spacy.load(\"en_core_web_sm\")\n",
        "doc =  nlp(\"Elon Musk first passed Bezos to claim the title of world’s richest person last Friday, but then dropped to the No. two spot on Monday as Tesla shares fell nearly 8%.\")\n",
        "for token in doc:\n",
        "    print(token.text, token.pos_, token.dep_)"
      ],
      "execution_count": 4,
      "outputs": [
        {
          "output_type": "stream",
          "text": [
            "Elon PROPN compound\n",
            "Musk PROPN nsubj\n",
            "first ADV advmod\n",
            "passed VERB ROOT\n",
            "Bezos PROPN dobj\n",
            "to PART aux\n",
            "claim VERB advcl\n",
            "the DET det\n",
            "title NOUN dobj\n",
            "of ADP prep\n",
            "world NOUN pobj\n",
            "’s PART punct\n",
            "richest ADJ amod\n",
            "person NOUN appos\n",
            "last ADJ amod\n",
            "Friday PROPN npadvmod\n",
            ", PUNCT punct\n",
            "but CCONJ cc\n",
            "then ADV advmod\n",
            "dropped VERB conj\n",
            "to ADP prep\n",
            "the DET det\n",
            "No NOUN dep\n",
            ". NOUN nmod\n",
            "two NUM nummod\n",
            "spot NOUN pobj\n",
            "on ADP prep\n",
            "Monday PROPN pobj\n",
            "as SCONJ mark\n",
            "Tesla PROPN compound\n",
            "shares NOUN nsubj\n",
            "fell VERB advcl\n",
            "nearly ADV advmod\n",
            "8 NUM nummod\n",
            "% NOUN npadvmod\n",
            ". PUNCT punct\n"
          ],
          "name": "stdout"
        }
      ]
    },
    {
      "cell_type": "code",
      "metadata": {
        "id": "YAIiJpJpvCIN",
        "colab": {
          "base_uri": "https://localhost:8080/"
        },
        "outputId": "f6c010a0-ba25-45cc-88bd-677a195ba99d"
      },
      "source": [
        "for ent in doc.ents:\r\n",
        "    print(ent.text, ent.start_char, ent.end_char, ent.label_)"
      ],
      "execution_count": 5,
      "outputs": [
        {
          "output_type": "stream",
          "text": [
            "Elon Musk 0 9 PERSON\n",
            "Bezos 23 28 PERSON\n",
            "last Friday 74 85 DATE\n",
            "two 115 118 CARDINAL\n",
            "Monday 127 133 DATE\n",
            "Tesla 137 142 ORG\n",
            "nearly 8% 155 164 PERCENT\n"
          ],
          "name": "stdout"
        }
      ]
    },
    {
      "cell_type": "code",
      "metadata": {
        "collapsed": true,
        "id": "KP2jsQtDuYsc"
      },
      "source": [
        "sent = '''Professor Tan Eng Chye, NUS Deputy President and Provost, and Professor \n",
        "Menahem Ben-Sasson, President of HUJ signed the joint degree agreement at NUS, \n",
        "in the presence of Ambassador of Israel to Singapore Her Excellency Amira Arnon \n",
        "and about 30 invited guests, on July 03, 2013.\n",
        "'''"
      ],
      "execution_count": null,
      "outputs": []
    },
    {
      "cell_type": "code",
      "metadata": {
        "id": "VcPxMaSVvMt8",
        "colab": {
          "base_uri": "https://localhost:8080/"
        },
        "outputId": "5682c2f8-c7ad-4169-b994-4ef43e41f303"
      },
      "source": [
        "doc = nlp(sent)\r\n",
        "for ent in doc.ents:\r\n",
        "    print(ent.text, ent.start_char, ent.end_char, ent.label_)"
      ],
      "execution_count": null,
      "outputs": [
        {
          "output_type": "stream",
          "text": [
            "Tan Eng Chye 10 22 PERSON\n",
            "NUS 24 27 ORG\n",
            "Provost 49 56 ORG\n",
            "Menahem Ben-Sasson 73 91 PERSON\n",
            "HUJ 106 109 ORG\n",
            "NUS 147 150 ORG\n",
            "Israel 186 192 GPE\n",
            "Singapore 196 205 GPE\n",
            "Amira Arnon 221 232 PERSON\n",
            "about 30 238 246 CARDINAL\n",
            "July 03, 2013 266 279 DATE\n"
          ],
          "name": "stdout"
        }
      ]
    },
    {
      "cell_type": "markdown",
      "metadata": {
        "id": "H76JPLHGuYsd"
      },
      "source": [
        "POST Tag followed by NE Chunk"
      ]
    },
    {
      "cell_type": "code",
      "metadata": {
        "id": "IGIXUFubuYse",
        "colab": {
          "base_uri": "https://localhost:8080/"
        },
        "outputId": "923905e0-65d9-4f2a-c567-d5bfa2379761"
      },
      "source": [
        "for chunk in doc.noun_chunks:\n",
        "    print(chunk.text, chunk.root.text, chunk.root.dep_,\n",
        "            chunk.root.head.text)"
      ],
      "execution_count": null,
      "outputs": [
        {
          "output_type": "stream",
          "text": [
            "Professor Tan Eng Chye Chye nsubj signed\n",
            "NUS Deputy President President appos Chye\n",
            "Provost Provost conj President\n",
            "Professor Professor conj Chye\n",
            "Menahem Ben-Sasson Sasson conj Professor\n",
            "President President appos Sasson\n",
            "HUJ HUJ pobj of\n",
            "the joint degree agreement agreement dobj signed\n",
            "NUS NUS pobj at\n",
            "the presence presence pobj in\n",
            "Ambassador Ambassador pobj of\n",
            "Israel Israel pobj of\n",
            "Her Excellency Excellency dobj Singapore\n",
            "Amira Arnon Arnon appos Excellency\n",
            "about 30 invited guests guests dobj Singapore\n",
            "July July pobj on\n"
          ],
          "name": "stdout"
        }
      ]
    },
    {
      "cell_type": "code",
      "metadata": {
        "id": "4LQ7Ul4guYsf"
      },
      "source": [
        "# object and subject constants\n",
        "OBJECT_DEPS = {\"dobj\", \"dative\", \"attr\", \"oprd\"}\n",
        "SUBJECT_DEPS = {\"nsubj\", \"nsubjpass\", \"csubj\", \"agent\", \"expl\"}\n",
        "# tags that define wether the word is wh-\n",
        "WH_WORDS = {\"WP\", \"WP$\", \"WRB\"}\n",
        "\n",
        "# extract the subject, object and verb from the input\n",
        "def extract_svo(doc):\n",
        "    sub = []\n",
        "    at = []\n",
        "    ve = []\n",
        "    for token in doc:\n",
        "        # is this a verb?\n",
        "        if token.pos_ == \"VERB\":\n",
        "            ve.append(token.text)\n",
        "        # is this the object?\n",
        "        if token.dep_ in OBJECT_DEPS or token.head.dep_ in OBJECT_DEPS:\n",
        "            at.append(token.text)\n",
        "        # is this the subject?\n",
        "        if token.dep_ in SUBJECT_DEPS or token.head.dep_ in SUBJECT_DEPS:\n",
        "            sub.append(token.text)\n",
        "    return \" \".join(sub).strip().lower(), \" \".join(ve).strip().lower(), \" \".join(at).strip().lower()\n",
        "\n",
        "def is_question(doc):\n",
        "    # is the first token a verb?\n",
        "    if len(doc) > 0 and doc[0].pos_ == \"VERB\":\n",
        "        return True, \"\"\n",
        "    # go over all words\n",
        "    for token in doc:\n",
        "        # is it a wh- word?\n",
        "        if token.tag_ in WH_WORDS:\n",
        "            return True, token.text.lower()\n",
        "    return False, \"\""
      ],
      "execution_count": null,
      "outputs": []
    },
    {
      "cell_type": "code",
      "metadata": {
        "collapsed": true,
        "id": "2Q00-eZsuYsf"
      },
      "source": [
        "subject, verb, attribute = extract_svo(doc)"
      ],
      "execution_count": null,
      "outputs": []
    },
    {
      "cell_type": "code",
      "metadata": {
        "collapsed": true,
        "id": "rlpB_iH1uYsf",
        "colab": {
          "base_uri": "https://localhost:8080/",
          "height": 37
        },
        "outputId": "af040e17-ef91-456a-b805-c6f0600c7028"
      },
      "source": [
        "subject"
      ],
      "execution_count": null,
      "outputs": [
        {
          "output_type": "execute_result",
          "data": {
            "application/vnd.google.colaboratory.intrinsic+json": {
              "type": "string"
            },
            "text/plain": [
              "'professor tan eng chye , president , and professor'"
            ]
          },
          "metadata": {
            "tags": []
          },
          "execution_count": 8
        }
      ]
    },
    {
      "cell_type": "code",
      "metadata": {
        "id": "1xV2L2W4w-dK",
        "colab": {
          "base_uri": "https://localhost:8080/",
          "height": 37
        },
        "outputId": "a88103bd-5338-4b10-b04b-421af1c6c00a"
      },
      "source": [
        "verb"
      ],
      "execution_count": null,
      "outputs": [
        {
          "output_type": "execute_result",
          "data": {
            "application/vnd.google.colaboratory.intrinsic+json": {
              "type": "string"
            },
            "text/plain": [
              "'signed invited'"
            ]
          },
          "metadata": {
            "tags": []
          },
          "execution_count": 9
        }
      ]
    },
    {
      "cell_type": "code",
      "metadata": {
        "id": "w-qY-WmixBIA",
        "colab": {
          "base_uri": "https://localhost:8080/",
          "height": 37
        },
        "outputId": "31e89516-8842-41dd-a9ed-5bb71859739a"
      },
      "source": [
        "attribute"
      ],
      "execution_count": null,
      "outputs": [
        {
          "output_type": "execute_result",
          "data": {
            "application/vnd.google.colaboratory.intrinsic+json": {
              "type": "string"
            },
            "text/plain": [
              "'the degree agreement her excellency arnon 30 invited guests'"
            ]
          },
          "metadata": {
            "tags": []
          },
          "execution_count": 10
        }
      ]
    }
  ]
}