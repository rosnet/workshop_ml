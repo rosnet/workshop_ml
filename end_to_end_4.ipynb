{
  "nbformat": 4,
  "nbformat_minor": 0,
  "metadata": {
    "kernelspec": {
      "display_name": "Python 3",
      "language": "python",
      "name": "python3"
    },
    "language_info": {
      "codemirror_mode": {
        "name": "ipython",
        "version": 3
      },
      "file_extension": ".py",
      "mimetype": "text/x-python",
      "name": "python",
      "nbconvert_exporter": "python",
      "pygments_lexer": "ipython3",
      "version": "3.6.1"
    },
    "colab": {
      "name": "NER Extractor with Regular Expression.ipynb",
      "provenance": []
    }
  },
  "cells": [
    {
      "cell_type": "code",
      "metadata": {
        "id": "8gdM4brhrckA"
      },
      "source": [
        "import os\r\n",
        "import json\r\n",
        "import string\r\n",
        "import nltk\r\n",
        "from nltk import word_tokenize, FreqDist\r\n",
        "from nltk.corpus import stopwords\r\n",
        "import pprint\r\n"
      ],
      "execution_count": 53,
      "outputs": []
    },
    {
      "cell_type": "code",
      "metadata": {
        "id": "5Qlu6EW3revE",
        "colab": {
          "base_uri": "https://localhost:8080/"
        },
        "outputId": "e01fecb7-f71e-44c9-d35b-ddaf91c46632"
      },
      "source": [
        "#use nltk.download() and download only books. Using full download will takeup time and bandwidth\r\n",
        "nltk.download(\"punkt\")\r\n",
        "nltk.download(\"stopwords\")\r\n",
        "nltk.download('wordnet')\r\n",
        "!pip install newspaper3k\r\n",
        "!pip install flair\r\n",
        "!pip install --upgrade \"ibm-watson>=4.7.1\""
      ],
      "execution_count": 49,
      "outputs": [
        {
          "output_type": "stream",
          "text": [
            "[nltk_data] Downloading package punkt to /root/nltk_data...\n",
            "[nltk_data]   Package punkt is already up-to-date!\n",
            "[nltk_data] Downloading package stopwords to /root/nltk_data...\n",
            "[nltk_data]   Package stopwords is already up-to-date!\n",
            "[nltk_data] Downloading package wordnet to /root/nltk_data...\n",
            "[nltk_data]   Package wordnet is already up-to-date!\n",
            "Requirement already satisfied: newspaper3k in /usr/local/lib/python3.6/dist-packages (0.2.8)\n",
            "Requirement already satisfied: cssselect>=0.9.2 in /usr/local/lib/python3.6/dist-packages (from newspaper3k) (1.1.0)\n",
            "Requirement already satisfied: python-dateutil>=2.5.3 in /usr/local/lib/python3.6/dist-packages (from newspaper3k) (2.8.1)\n",
            "Requirement already satisfied: nltk>=3.2.1 in /usr/local/lib/python3.6/dist-packages (from newspaper3k) (3.2.5)\n",
            "Requirement already satisfied: PyYAML>=3.11 in /usr/local/lib/python3.6/dist-packages (from newspaper3k) (3.13)\n",
            "Requirement already satisfied: Pillow>=3.3.0 in /usr/local/lib/python3.6/dist-packages (from newspaper3k) (7.0.0)\n",
            "Requirement already satisfied: feedparser>=5.2.1 in /usr/local/lib/python3.6/dist-packages (from newspaper3k) (6.0.2)\n",
            "Requirement already satisfied: beautifulsoup4>=4.4.1 in /usr/local/lib/python3.6/dist-packages (from newspaper3k) (4.6.3)\n",
            "Requirement already satisfied: tinysegmenter==0.3 in /usr/local/lib/python3.6/dist-packages (from newspaper3k) (0.3)\n",
            "Requirement already satisfied: jieba3k>=0.35.1 in /usr/local/lib/python3.6/dist-packages (from newspaper3k) (0.35.1)\n",
            "Requirement already satisfied: tldextract>=2.0.1 in /usr/local/lib/python3.6/dist-packages (from newspaper3k) (3.1.0)\n",
            "Requirement already satisfied: lxml>=3.6.0 in /usr/local/lib/python3.6/dist-packages (from newspaper3k) (4.2.6)\n",
            "Requirement already satisfied: requests>=2.10.0 in /usr/local/lib/python3.6/dist-packages (from newspaper3k) (2.23.0)\n",
            "Requirement already satisfied: feedfinder2>=0.0.4 in /usr/local/lib/python3.6/dist-packages (from newspaper3k) (0.0.4)\n",
            "Requirement already satisfied: six>=1.5 in /usr/local/lib/python3.6/dist-packages (from python-dateutil>=2.5.3->newspaper3k) (1.15.0)\n",
            "Requirement already satisfied: sgmllib3k in /usr/local/lib/python3.6/dist-packages (from feedparser>=5.2.1->newspaper3k) (1.0.0)\n",
            "Requirement already satisfied: idna in /usr/local/lib/python3.6/dist-packages (from tldextract>=2.0.1->newspaper3k) (2.10)\n",
            "Requirement already satisfied: requests-file>=1.4 in /usr/local/lib/python3.6/dist-packages (from tldextract>=2.0.1->newspaper3k) (1.5.1)\n",
            "Requirement already satisfied: filelock>=3.0.8 in /usr/local/lib/python3.6/dist-packages (from tldextract>=2.0.1->newspaper3k) (3.0.12)\n",
            "Requirement already satisfied: urllib3!=1.25.0,!=1.25.1,<1.26,>=1.21.1 in /usr/local/lib/python3.6/dist-packages (from requests>=2.10.0->newspaper3k) (1.24.3)\n",
            "Requirement already satisfied: chardet<4,>=3.0.2 in /usr/local/lib/python3.6/dist-packages (from requests>=2.10.0->newspaper3k) (3.0.4)\n",
            "Requirement already satisfied: certifi>=2017.4.17 in /usr/local/lib/python3.6/dist-packages (from requests>=2.10.0->newspaper3k) (2020.12.5)\n",
            "Requirement already satisfied: flair in /usr/local/lib/python3.6/dist-packages (0.7)\n",
            "Requirement already satisfied: langdetect in /usr/local/lib/python3.6/dist-packages (from flair) (1.0.8)\n",
            "Requirement already satisfied: tabulate in /usr/local/lib/python3.6/dist-packages (from flair) (0.8.7)\n",
            "Requirement already satisfied: regex in /usr/local/lib/python3.6/dist-packages (from flair) (2019.12.20)\n",
            "Requirement already satisfied: gdown in /usr/local/lib/python3.6/dist-packages (from flair) (3.6.4)\n",
            "Requirement already satisfied: sqlitedict>=1.6.0 in /usr/local/lib/python3.6/dist-packages (from flair) (1.7.0)\n",
            "Requirement already satisfied: gensim<=3.8.3,>=3.4.0 in /usr/local/lib/python3.6/dist-packages (from flair) (3.6.0)\n",
            "Requirement already satisfied: konoha<5.0.0,>=4.0.0 in /usr/local/lib/python3.6/dist-packages (from flair) (4.6.2)\n",
            "Requirement already satisfied: lxml in /usr/local/lib/python3.6/dist-packages (from flair) (4.2.6)\n",
            "Requirement already satisfied: tqdm>=4.26.0 in /usr/local/lib/python3.6/dist-packages (from flair) (4.41.1)\n",
            "Requirement already satisfied: mpld3==0.3 in /usr/local/lib/python3.6/dist-packages (from flair) (0.3)\n",
            "Requirement already satisfied: scikit-learn>=0.21.3 in /usr/local/lib/python3.6/dist-packages (from flair) (0.22.2.post1)\n",
            "Requirement already satisfied: python-dateutil>=2.6.1 in /usr/local/lib/python3.6/dist-packages (from flair) (2.8.1)\n",
            "Requirement already satisfied: transformers<=3.5.1,>=3.5.0 in /usr/local/lib/python3.6/dist-packages (from flair) (3.5.1)\n",
            "Requirement already satisfied: sentencepiece<=0.1.91 in /usr/local/lib/python3.6/dist-packages (from flair) (0.1.91)\n",
            "Requirement already satisfied: matplotlib>=2.2.3 in /usr/local/lib/python3.6/dist-packages (from flair) (3.2.2)\n",
            "Requirement already satisfied: hyperopt>=0.1.1 in /usr/local/lib/python3.6/dist-packages (from flair) (0.1.2)\n",
            "Requirement already satisfied: janome in /usr/local/lib/python3.6/dist-packages (from flair) (0.4.1)\n",
            "Requirement already satisfied: segtok>=1.5.7 in /usr/local/lib/python3.6/dist-packages (from flair) (1.5.10)\n",
            "Requirement already satisfied: bpemb>=0.3.2 in /usr/local/lib/python3.6/dist-packages (from flair) (0.3.2)\n",
            "Requirement already satisfied: torch>=1.1.0 in /usr/local/lib/python3.6/dist-packages (from flair) (1.7.0+cu101)\n",
            "Requirement already satisfied: ftfy in /usr/local/lib/python3.6/dist-packages (from flair) (5.8)\n",
            "Requirement already satisfied: deprecated>=1.2.4 in /usr/local/lib/python3.6/dist-packages (from flair) (1.2.11)\n",
            "Requirement already satisfied: six in /usr/local/lib/python3.6/dist-packages (from langdetect->flair) (1.15.0)\n",
            "Requirement already satisfied: requests in /usr/local/lib/python3.6/dist-packages (from gdown->flair) (2.23.0)\n",
            "Requirement already satisfied: numpy>=1.11.3 in /usr/local/lib/python3.6/dist-packages (from gensim<=3.8.3,>=3.4.0->flair) (1.19.5)\n",
            "Requirement already satisfied: scipy>=0.18.1 in /usr/local/lib/python3.6/dist-packages (from gensim<=3.8.3,>=3.4.0->flair) (1.4.1)\n",
            "Requirement already satisfied: smart-open>=1.2.1 in /usr/local/lib/python3.6/dist-packages (from gensim<=3.8.3,>=3.4.0->flair) (4.1.0)\n",
            "Requirement already satisfied: overrides==3.0.0 in /usr/local/lib/python3.6/dist-packages (from konoha<5.0.0,>=4.0.0->flair) (3.0.0)\n",
            "Requirement already satisfied: joblib>=0.11 in /usr/local/lib/python3.6/dist-packages (from scikit-learn>=0.21.3->flair) (1.0.0)\n",
            "Requirement already satisfied: sacremoses in /usr/local/lib/python3.6/dist-packages (from transformers<=3.5.1,>=3.5.0->flair) (0.0.43)\n",
            "Requirement already satisfied: packaging in /usr/local/lib/python3.6/dist-packages (from transformers<=3.5.1,>=3.5.0->flair) (20.8)\n",
            "Requirement already satisfied: tokenizers==0.9.3 in /usr/local/lib/python3.6/dist-packages (from transformers<=3.5.1,>=3.5.0->flair) (0.9.3)\n",
            "Requirement already satisfied: dataclasses; python_version < \"3.7\" in /usr/local/lib/python3.6/dist-packages (from transformers<=3.5.1,>=3.5.0->flair) (0.8)\n",
            "Requirement already satisfied: protobuf in /usr/local/lib/python3.6/dist-packages (from transformers<=3.5.1,>=3.5.0->flair) (3.12.4)\n",
            "Requirement already satisfied: filelock in /usr/local/lib/python3.6/dist-packages (from transformers<=3.5.1,>=3.5.0->flair) (3.0.12)\n",
            "Requirement already satisfied: kiwisolver>=1.0.1 in /usr/local/lib/python3.6/dist-packages (from matplotlib>=2.2.3->flair) (1.3.1)\n",
            "Requirement already satisfied: pyparsing!=2.0.4,!=2.1.2,!=2.1.6,>=2.0.1 in /usr/local/lib/python3.6/dist-packages (from matplotlib>=2.2.3->flair) (2.4.7)\n",
            "Requirement already satisfied: cycler>=0.10 in /usr/local/lib/python3.6/dist-packages (from matplotlib>=2.2.3->flair) (0.10.0)\n",
            "Requirement already satisfied: networkx in /usr/local/lib/python3.6/dist-packages (from hyperopt>=0.1.1->flair) (2.5)\n",
            "Requirement already satisfied: pymongo in /usr/local/lib/python3.6/dist-packages (from hyperopt>=0.1.1->flair) (3.11.2)\n",
            "Requirement already satisfied: future in /usr/local/lib/python3.6/dist-packages (from hyperopt>=0.1.1->flair) (0.16.0)\n",
            "Requirement already satisfied: typing-extensions in /usr/local/lib/python3.6/dist-packages (from torch>=1.1.0->flair) (3.7.4.3)\n",
            "Requirement already satisfied: wcwidth in /usr/local/lib/python3.6/dist-packages (from ftfy->flair) (0.2.5)\n",
            "Requirement already satisfied: wrapt<2,>=1.10 in /usr/local/lib/python3.6/dist-packages (from deprecated>=1.2.4->flair) (1.12.1)\n",
            "Requirement already satisfied: chardet<4,>=3.0.2 in /usr/local/lib/python3.6/dist-packages (from requests->gdown->flair) (3.0.4)\n",
            "Requirement already satisfied: certifi>=2017.4.17 in /usr/local/lib/python3.6/dist-packages (from requests->gdown->flair) (2020.12.5)\n",
            "Requirement already satisfied: idna<3,>=2.5 in /usr/local/lib/python3.6/dist-packages (from requests->gdown->flair) (2.10)\n",
            "Requirement already satisfied: urllib3!=1.25.0,!=1.25.1,<1.26,>=1.21.1 in /usr/local/lib/python3.6/dist-packages (from requests->gdown->flair) (1.24.3)\n",
            "Requirement already satisfied: click in /usr/local/lib/python3.6/dist-packages (from sacremoses->transformers<=3.5.1,>=3.5.0->flair) (7.1.2)\n",
            "Requirement already satisfied: setuptools in /usr/local/lib/python3.6/dist-packages (from protobuf->transformers<=3.5.1,>=3.5.0->flair) (51.1.1)\n",
            "Requirement already satisfied: decorator>=4.3.0 in /usr/local/lib/python3.6/dist-packages (from networkx->hyperopt>=0.1.1->flair) (4.4.2)\n"
          ],
          "name": "stdout"
        }
      ]
    },
    {
      "cell_type": "code",
      "metadata": {
        "id": "43LKKP9hre4f",
        "colab": {
          "base_uri": "https://localhost:8080/"
        },
        "outputId": "ceaca377-3186-40f3-df65-8fdf2655b59d"
      },
      "source": [
        "#get a demo article and load it to memory\r\n",
        "from newspaper import Article\r\n",
        "url = 'https://www.vox.com/recode/22221173/elon-musk-tesla-foundation-philanthropy-wealthiest-person'\r\n",
        "article = Article(url)\r\n",
        "article.download()\r\n",
        "# data = open('Demo_Article.json','r')\r\n",
        "article.html\r\n",
        "article.parse()\r\n",
        "article.authors"
      ],
      "execution_count": 3,
      "outputs": [
        {
          "output_type": "execute_result",
          "data": {
            "text/plain": [
              "['Theodore Schleifer',\n",
              " 'Zeeshan Aleem',\n",
              " 'Cameron Peters',\n",
              " 'Alex Ward',\n",
              " 'Aja Romano',\n",
              " 'Jan']"
            ]
          },
          "metadata": {
            "tags": []
          },
          "execution_count": 3
        }
      ]
    },
    {
      "cell_type": "code",
      "metadata": {
        "id": "7CFqgSikrfAK",
        "colab": {
          "base_uri": "https://localhost:8080/"
        },
        "outputId": "fcb1780b-a338-44bf-cd43-4e05a90b475b"
      },
      "source": [
        "len(article.text)"
      ],
      "execution_count": 4,
      "outputs": [
        {
          "output_type": "execute_result",
          "data": {
            "text/plain": [
              "7795"
            ]
          },
          "metadata": {
            "tags": []
          },
          "execution_count": 4
        }
      ]
    },
    {
      "cell_type": "code",
      "metadata": {
        "id": "EnKwiEbbrfHX",
        "colab": {
          "base_uri": "https://localhost:8080/"
        },
        "outputId": "f997a114-668e-428b-85cd-f73f23e9f36e"
      },
      "source": [
        "# Convert the free text into tokens\r\n",
        "tokens = word_tokenize(article.text)\r\n",
        "print(tokens)\r\n"
      ],
      "execution_count": 5,
      "outputs": [
        {
          "output_type": "stream",
          "text": [
            "['The', 'richest', 'person', 'in', 'the', 'world', 'would', 'like', 'your', 'help', 'giving', 'away', 'his', 'billions', 'of', 'dollars', '.', 'One', 'of', 'the', 'first', 'things', 'that', 'Elon', 'Musk', ',', 'the', 'founder', 'and', 'CEO', 'of', 'Tesla', ',', 'did', 'upon', 'climbing', 'to', 'the', 'top', 'of', 'American', 'capitalism', 'last', 'week', 'was', 'to', 'ask', 'for', 'any', 'advice', 'about', 'how', 'to', 'climb', 'the', 'ranks', 'of', 'philanthropy', '.', 'Now', 'that', 'he', 'has', 'more', 'money', 'than', 'anyone', 'else', 'on', 'the', 'planet', ',', 'Musk', 'is', 'likely', 'to', 'come', 'under', 'far', 'greater', 'scrutiny', 'than', 'he', 'ever', 'has', 'about', 'how', 'he', 'gives', 'it', 'away', '—', 'or', 'doesn', '’', 't', '.', 'Amazon', 'founder', 'Jeff', 'Bezos', ',', 'whom', 'Musk', 'displaced', 'from', 'the', 'top', 'ranking', ',', 'drew', 'more', 'and', 'more', 'negative', 'attention', 'for', 'his', 'penny-pinching', 'philanthropy', 'as', 'he', 'became', 'wealthier', 'and', 'wealthier', ',', 'and', 'Musk', 'will', 'probably', 'encounter', 'a', 'similar', 'dynamic', '.', 'Bezos', 'turned', 'to', 'Twitter', 'for', 'advice', 'as', 'that', 'scrutiny', 'mounted', ',', 'and', 'Musk', 'is', 'following', 'the', 'same', 'playbook', '.', 'Btw', ',', 'critical', 'feedback', 'is', 'always', 'super', 'appreciated', ',', 'as', 'well', 'as', 'ways', 'to', 'donate', 'money', 'that', 'really', 'make', 'a', 'difference', '(', 'way', 'harder', 'than', 'it', 'seems', ')', '—', 'Elon', 'Musk', '(', '@', 'elonmusk', ')', 'January', '8', ',', '2021', 'Musk', '’', 's', 'tweet', 'lays', 'bare', 'two', 'truths', ':', 'He', 'is', 'certainly', 'correct', 'that', 'billionaire', 'philanthropy', 'is', 'difficult', '—', 'many', 'of', 'his', 'fellow', 'tech', 'titans', 'have', 'struggled', 'to', 'give', 'away', 'their', 'money', 'effectively', '.', 'But', 'it', '’', 's', 'also', 'true', 'that', 'many', 'billionaires', 'have', 'declined', 'to', 'give', 'away', 'large', 'amounts', 'of', 'their', 'money', ',', 'partially', 'out', 'of', 'fear', 'of', 'screwing', 'up', 'at', 'making', 'a', 'difference', ',', 'and', 'that', 'describes', 'Musk', '’', 's', 'own', 'giving', 'up', 'to', 'this', 'point', '.', 'Musk', 'has', 'given', 'relatively', 'small', 'amounts', 'of', 'his', 'wealth', ',', 'a', 'history', 'that', 'his', 'tweet', 'and', 'his', 'rise', 'to', 'top-billionaire', 'status', 'is', 'highlighting', '.', 'Musk', '’', 's', 'main', 'charitable', 'vehicle', 'has', 'been', 'the', 'Musk', 'Foundation', ',', 'which', 'he', 'founded', 'in', '2002', '.', 'In', 'an', 'age', 'of', 'philanthropic', 'showmanship', ',', 'the', 'Musk', 'Foundation', 'is', 'almost', 'entertaining', 'in', 'its', 'simplicity', 'and', 'yet', 'is', 'strikingly', 'opaque', ':', 'The', 'entire', 'website', 'is', '33', 'words', 'on', 'a', 'plain-text', 'Yahoo', 'page', 'with', 'no', 'links', ',', 'staff', 'information', ',', 'or', 'contact', 'forms', '(', '“', 'I', 'wrote', 'that', 'masterpiece', 'myself', 'in', 'HTML', '1.0', ',', '”', 'Musk', 'said', 'at', 'one', 'point', '.', ')', 'All', 'that', 'is', 'included', 'is', 'five', 'bullet', 'points', 'outlining', 'the', 'fields', 'that', 'the', 'foundation', 'supports', '.', 'Musk', 'has', 'also', 'signed', 'the', 'Giving', 'Pledge', '—', 'the', 'commitment', 'to', 'give', 'away', 'at', 'least', 'half', 'of', 'one', '’', 's', 'money', 'to', 'charity', '—', 'but', 'he', 'is', 'one', 'of', 'its', 'few', 'signatories', 'not', 'to', 'make', 'their', 'pledge', 'letter', 'publicly', 'available', 'on', 'the', 'program', '’', 's', 'website', '.', 'The', 'main', 'place', 'where', 'Musk', 'has', 'been', 'more', 'voluble', ',', 'naturally', ',', 'is', 'on', 'Twitter', ',', 'where', 'he', 'periodically', 'reveals', 'tidbits', 'about', 'his', 'philanthropic', 'thinking', 'to', 'Tesla', 'fans', 'who', 'beseech', 'him', 'for', 'gifts', 'or', 'details', '.', 'Sometimes', 'he', '’', 'll', 'promise', 'to', 'award', 'money', 'from', 'his', 'foundation', 'to', 'followers', 'who', 'tweet', 'at', 'him', '.', 'Until', '2016', ',', 'Musk', 'gave', 'relatively', 'little', 'money', 'to', 'his', 'foundation', 'which', 'then', 'gave', 'little', 'to', 'nonprofits', ',', 'according', 'to', 'the', 'tax', 'filings', 'that', 'foundations', 'must', 'file', '.', 'Then', 'in', 'May', '2016', ',', 'Musk', 'donated', '$', '250', 'million', 'in', 'Tesla', 'stock', 'to', 'his', 'foundation', ',', 'but', 'that', 'money', 'has', 'also', 'been', 'slow', 'to', 'get', 'out', 'the', 'door', '.', 'So', 'during', 'the', '16-year', 'period', 'between', 'the', 'foundation', '’', 's', 'founding', 'in', '2002', 'and', 'mid-2018', ',', 'the', 'last', 'year', 'on', 'file', ',', 'the', 'philanthropy', 'has', 'only', 'given', 'about', '$', '25', 'million', 'directly', 'to', 'nonprofit', 'groups', ',', 'with', '$', '10', 'million', 'of', 'that', 'going', 'to', 'support', 'OpenAI', ',', 'a', 'nonprofit', 'founded', 'by', 'Musk', 'and', 'entrepreneur', 'Sam', 'Altman', '.', 'After', '2016', ',', 'the', 'foundation', 'routed', 'about', '$', '50', 'million', 'to', 'donor-advised', 'funds', '(', 'DAFs', ')', ',', 'which', 'are', 'separate', 'philanthropic', 'vehicles', 'that', 'don', '’', 't', 'disclose', 'their', 'gifts', 'and', 'also', 'allow', 'foundations', 'to', 'circumvent', 'a', 'requirement', 'to', 'send', '5', 'percent', 'of', 'their', 'assets', 'elsewhere', 'every', 'year', '.', 'A', 'Musk', 'spokesperson', 'told', 'Forbes', 'last', 'year', 'that', 'those', 'DAFs', 'had', 'donated', 'a', 'total', 'of', '$', '75', 'million', 'over', 'their', 'lifetimes', 'to', 'nonprofits', '.', 'That', '$', '75', 'million', ',', 'when', 'combined', 'with', 'his', 'foundation', '’', 's', '$', '25', 'million', 'worth', 'of', 'direct', 'gifts', 'through', '2018', ',', 'means', 'Musk', 'has', 'given', 'away', 'about', '$', '100', 'million', 'to', 'charity', 'through', 'his', 'foundation', 'and', 'his', 'DAFs', '.', '(', 'This', 'figure', 'doesn', '’', 't', 'include', 'money', 'possibly', 'donated', 'by', 'his', 'foundation', 'after', '2018', 'or', 'money', 'donated', 'not', 'through', 'a', 'foundation', 'or', 'DAF', '.', ')', 'That', 'math', 'works', 'out', 'to', 'Musk', 'donating', 'about', '0.05', 'percent', 'of', 'his', 'current', 'net', 'worth', 'to', 'charity', 'so', 'far', '.', 'That', 'figure', 'also', 'tracks', 'with', 'what', 'Musk', 'has', 'said', 'publicly', '—', 'in', '2018', ',', 'he', 'said', 'that', 'he', 'had', 'sold', 'about', '$', '100', 'million', 'worth', 'of', 'Tesla', 'stock', 'to', 'finance', 'his', 'charity', '.', 'Representatives', 'for', 'Musk', 'didn', '’', 't', 'respond', 'to', 'Recode', '’', 's', 'request', 'for', 'comment', '.', 'Because', 'around', 'three-quarters', 'of', 'Musk', '’', 's', 'donations', 'to', 'date', 'have', 'come', 'through', 'DAFs', ',', 'which', 'don', '’', 't', 'have', 'to', 'file', 'similar', 'public', 'tax', 'documents', ',', 'it', 'is', 'harder', 'to', 'track', 'what', 'specific', 'nonprofits', 'he', 'is', 'supporting', '.', 'That', '’', 's', 'somewhat', 'intentional', ':', 'Musk', 'has', 'said', 'his', 'grants', 'are', '“', '(', 'almost', 'always', ')', 'anonymous', ',', '”', 'although', 'that', 'would', 'only', 'be', 'technically', 'true', 'for', 'donations', 'from', 'outside', 'the', 'walls', 'of', 'the', 'foundation', '(', 'though', 'Musk', 'has', 'said', 'incorrectly', 'that', 'his', 'foundation', 'donations', 'are', '“', 'anonymous', ',', '”', 'too', '.', ')', 'There', 'have', 'been', 'some', 'announcements', 'of', 'major', 'gifts', 'from', 'grantees', ',', 'though', '.', 'In', 'addition', 'to', 'the', '$', '10', 'million', 'from', 'the', 'foundation', 'to', 'OpenAI', ',', 'Musk', 'donated', 'at', 'least', '$', '10', 'million', 'to', 'the', 'Future', 'of', 'Life', 'Institute', ',', 'which', 'researches', 'safety', 'in', 'artificial', 'intelligence', ';', '$', '10', 'million', 'for', 'a', 'prize', 'focused', 'on', 'promoting', 'global', 'literacy', ';', 'and', '$', '6', 'million', 'to', 'the', 'Sierra', 'Club', ',', 'a', 'donation', 'that', 'was', 'originally', 'anonymous', 'and', 'then', 'made', 'public', 'after', 'Musk', 'encouraged', 'the', 'organization', 'to', 'do', 'so', '.', 'Musk', 'has', 'also', 'said', 'that', 'he', 'is', '“', 'one', 'of', 'the', 'top', 'donors', '”', 'to', 'the', 'American', 'Civil', 'Liberties', 'Union', ',', 'without', 'disclosing', 'a', 'precise', 'amount', '.', 'But', 'those', 'donations', 'all', 'happened', 'at', 'a', 'quainter', 'time', 'in', 'Musk', '’', 's', 'wealth', 'history', '.', 'Just', 'a', 'year', 'ago', ',', 'Musk', 'was', 'testifying', 'under', 'oath', 'that', 'he', 'was', 'worth', 'about', '$', '20', 'billion', ',', 'although', 'as', 'with', 'other', 'billionaire', 'tech', 'founders', ',', 'most', 'of', 'that', 'money', 'resides', 'in', 'illiquid', 'stock', 'that', 'a', 'CEO', 'is', 'often', 'reluctant', 'to', 'sell', '.', 'Now', 'Bloomberg', 'estimates', 'his', 'net', 'worth', 'as', 'over', '10', 'times', 'that', '.', 'And', 'as', 'he', 'is', 'now', 'the', 'world', '’', 's', 'wealthiest', 'person', ',', 'more', 'eyeballs', 'will', 'be', 'on', 'his', 'every', 'move', '.', 'Progressive', 'activists', 'and', 'politicians', 'have', 'increasingly', 'turned', 'their', 'ire', 'on', 'a', 'few', 'high-profile', 'billionaires', '—', 'sending', 'a', 'guillotine', 'to', 'Bezos', '’', 's', 'mansion', 'at', 'one', 'point', ',', 'for', 'instance', '—', 'as', 'a', 'way', 'to', 'criticize', 'American', 'income', 'inequality', '.', 'Billionaires', ',', 'though', ',', 'have', 'used', 'their', 'philanthropy', 'as', 'a', 'counterargument', 'to', 'higher', 'taxes', 'that', 'would', 'close', 'inequality', ',', 'pointing', 'to', 'the', 'good', 'they', 'are', 'doing', 'today', 'for', 'the', 'world', 'with', 'the', 'fortunes', '.', 'Musk', ',', 'who', 'has', 'bristled', 'at', 'the', 'label', '“', 'billionaire', '”', 'and', 'recently', 'moved', 'himself', 'and', 'his', 'foundation', 'to', 'Texas', ',', 'has', 'said', 'that', 'his', 'big', 'philanthropic', 'investments', 'are', 'still', 'decades', 'away', ',', 'which', 'could', 'frustrate', 'the', 'left', '.', 'The', 'entrepreneur', 'has', 'said', 'that', 'while', 'he', 'would', 'sell', 'some', 'more', 'Tesla', 'shares', '“', 'every', 'few', 'years', '”', 'for', 'philanthropy', ',', '“', 'major', 'disbursements', '”', 'from', 'his', 'charities', 'will', 'only', 'come', 'in', 'about', '20', 'years', ',', '“', 'when', 'Tesla', 'is', 'in', 'steady', 'state.', '”', 'That', 'would', 'be', 'around', 'when', 'Musk', 'is', 'nearing', '70', 'years', 'old', '.', 'But', 'he', 'does', 'appear', 'to', 'have', 'a', 'clear', 'idea', 'of', 'how', 'he', 'wants', 'to', 'spend', 'his', 'fortune', 'at', 'that', 'point', '.', 'He', 'has', 'already', 'outlined', 'two', 'broad', 'buckets', 'for', 'his', 'wealth', ':', 'half', 'for', 'Earth', ',', 'and', 'half', 'for', 'Mars', '.', '“', 'Will', 'use', 'that', 'to', 'make', 'life', 'multiplanetary', ',', 'help', 'education', '&', 'environment', 'on', 'Earth', 'w', 'my', 'foundation', '.', 'Just', 'don', '’', 't', 'want', 'us', 'to', 'be', 'sad', 'about', 'the', 'future', ',', '”', 'he', 'said', 'of', 'his', 'wealth', 'in', '2018', '.', '“', 'About', 'half', 'my', 'money', 'is', 'intended', 'for', 'problems', 'on', 'Earth', ',', 'half', 'to', 'help', 'establish', 'a', 'self-sustaining', 'city', 'on', 'Mars', 'to', 'ensure', 'continuation', 'of', 'life', 'in', 'case', 'we', 'get', 'hit', 'by', 'a', 'meteor', 'or', 'WW3', 'happens', '&', 'we', 'destroy', 'ourselves', ',', '”', 'he', 'told', 'another', 'follower', 'a', 'few', 'months', 'later', '.', 'He', '’', 's', 'already', 'starting', 'to', 'make', 'some', 'more', 'gifts', '.', 'On', 'Friday', ',', 'Barstool', 'Sports', 'announced', 'that', 'Musk', 'had', 'made', 'a', 'fund', 'that', 'it', 'organized', 'to', 'support', 'by', 'Barstool', 'Sports', 'for', 'small', 'businesses', '.', 'Musk', 'is', 'not', 'as', 'showy', 'with', 'his', 'material', 'comforts', 'as', 'other', 'tech', 'billionaires', '—', 'he', 'is', 'in', 'the', 'process', 'of', 'selling', 'all', 'of', 'his', 'homes', ',', 'and', 'has', 'not', 'displayed', 'the', 'same', 'taste', 'for', 'yachts', 'or', 'other', 'trifles', '.', 'From', 'Musk', '’', 's', 'point', 'of', 'view', ',', 'he', '’', 's', 'saving', 'up', '.', '“', 'It', '’', 's', 'going', 'to', 'take', 'a', 'lot', 'of', 'resources', 'to', 'build', 'a', 'city', 'on', 'Mars', ',', '”', 'he', 'told', 'an', 'interviewer', 'last', 'month', '.', '“', 'I', 'want', 'to', 'be', 'able', 'to', 'contribute', 'as', 'much', 'as', 'possible', '.', '”']\n"
          ],
          "name": "stdout"
        }
      ]
    },
    {
      "cell_type": "code",
      "metadata": {
        "id": "lJJeaI4PrfN4",
        "colab": {
          "base_uri": "https://localhost:8080/"
        },
        "outputId": "919b8621-9b17-4d61-e071-c9ec058582a1"
      },
      "source": [
        "#identify unique words and single char words\r\n",
        "print(len(tokens))\r\n",
        "unique = set(tokens)\r\n",
        "print('# of Unique tokens',len(unique))\r\n",
        "print('# of tokens / len of unique tokens',len(tokens)/len(unique))"
      ],
      "execution_count": 6,
      "outputs": [
        {
          "output_type": "stream",
          "text": [
            "1545\n",
            "# of Unique tokens 572\n",
            "# of tokens / len of unique tokens 2.7010489510489513\n"
          ],
          "name": "stdout"
        }
      ]
    },
    {
      "cell_type": "code",
      "metadata": {
        "id": "tnft7v0ZrfVm",
        "colab": {
          "base_uri": "https://localhost:8080/"
        },
        "outputId": "eb3653f2-6f8f-41d8-e63e-9d54699bcce0"
      },
      "source": [
        "#lets sort here\r\n",
        "sorted(unique)\r\n",
        "single=[w for w in unique if len(w) == 1 ]\r\n",
        "print(len(single))\r\n",
        "single"
      ],
      "execution_count": 7,
      "outputs": [
        {
          "output_type": "stream",
          "text": [
            "22\n"
          ],
          "name": "stdout"
        },
        {
          "output_type": "execute_result",
          "data": {
            "text/plain": [
              "['8',\n",
              " 'I',\n",
              " 't',\n",
              " '&',\n",
              " '“',\n",
              " ';',\n",
              " '5',\n",
              " '.',\n",
              " '$',\n",
              " ',',\n",
              " '(',\n",
              " ')',\n",
              " 's',\n",
              " ':',\n",
              " '@',\n",
              " '’',\n",
              " '—',\n",
              " 'a',\n",
              " '”',\n",
              " 'w',\n",
              " '6',\n",
              " 'A']"
            ]
          },
          "metadata": {
            "tags": []
          },
          "execution_count": 7
        }
      ]
    },
    {
      "cell_type": "code",
      "metadata": {
        "id": "bQCC98MWzabD",
        "colab": {
          "base_uri": "https://localhost:8080/",
          "height": 295
        },
        "outputId": "00d98da5-7bdb-4ebe-ee07-3ae27554b135"
      },
      "source": [
        "# Frequency distribution of the words\r\n",
        "%matplotlib inline\r\n",
        "tokens.count('gluten')\r\n",
        "fd = nltk.FreqDist(tokens)\r\n",
        "fd.most_common(10)\r\n",
        "fd.plot(10)"
      ],
      "execution_count": 8,
      "outputs": [
        {
          "output_type": "display_data",
          "data": {
            "image/png": "[encoded data removed]",
            "text/plain": [
              "<Figure size 432x288 with 1 Axes>"
            ]
          },
          "metadata": {
            "tags": [],
            "needs_background": "light"
          }
        }
      ]
    },
    {
      "cell_type": "code",
      "metadata": {
        "id": "yMURej7MzmWr",
        "colab": {
          "base_uri": "https://localhost:8080/"
        },
        "outputId": "482024eb-16e4-4dbe-f18d-52381ee5bb70"
      },
      "source": [
        "# How long are the words?\r\n",
        "fd_wlen = nltk.FreqDist([len(w) for w in unique])\r\n",
        "fd_wlen"
      ],
      "execution_count": 9,
      "outputs": [
        {
          "output_type": "execute_result",
          "data": {
            "text/plain": [
              "FreqDist({1: 22,\n",
              "          2: 33,\n",
              "          3: 57,\n",
              "          4: 98,\n",
              "          5: 78,\n",
              "          6: 69,\n",
              "          7: 60,\n",
              "          8: 51,\n",
              "          9: 39,\n",
              "          10: 24,\n",
              "          11: 17,\n",
              "          12: 13,\n",
              "          13: 4,\n",
              "          14: 3,\n",
              "          15: 4})"
            ]
          },
          "metadata": {
            "tags": []
          },
          "execution_count": 9
        }
      ]
    },
    {
      "cell_type": "code",
      "metadata": {
        "id": "pmzFc7t5z6kw",
        "colab": {
          "base_uri": "https://localhost:8080/"
        },
        "outputId": "b8a6c666-d1ff-45e3-e19c-564b5a14270d"
      },
      "source": [
        "#text preprocessing: remove punctuations\r\n",
        "tokens_nop = [ t for t in tokens if t not in string.punctuation + \"\".join(['’' , '“', '”' , '—']) ]\r\n",
        "tokens_nop\r\n",
        "\r\n",
        "# Convert all characters to Lower case\r\n",
        "tokens_lower=[ t.lower() for t in tokens_nop ]\r\n",
        "\r\n",
        "# Create a stopword list from the standard list of stopwords available in nltk\r\n",
        "stop = stopwords.words('english')\r\n",
        "\r\n",
        "# Remove all these stopwords from the text\r\n",
        "tokens_nostop=[ t for t in tokens_lower if t not in stop ]\r\n",
        "\r\n",
        "#remove number like characters \r\n",
        "tokens_nostop = [x for x in tokens_nostop if not any(c.isdigit() for c in x)]\r\n",
        "FreqDist(tokens_nostop).most_common(10)"
      ],
      "execution_count": 10,
      "outputs": [
        {
          "output_type": "execute_result",
          "data": {
            "text/plain": [
              "[('musk', 36),\n",
              " ('foundation', 17),\n",
              " ('million', 13),\n",
              " ('money', 12),\n",
              " ('said', 9),\n",
              " ('away', 7),\n",
              " ('one', 6),\n",
              " ('tesla', 6),\n",
              " ('philanthropy', 6),\n",
              " ('also', 6)]"
            ]
          },
          "metadata": {
            "tags": []
          },
          "execution_count": 10
        }
      ]
    },
    {
      "cell_type": "code",
      "metadata": {
        "id": "kp0H-Cf3zzJ5",
        "colab": {
          "base_uri": "https://localhost:8080/"
        },
        "outputId": "d06fbf3a-f37f-40b4-e2f3-2e5feb690e86"
      },
      "source": [
        "# The snowball stemmer -  which supports 13 non-English languages as well!\r\n",
        "snowball = nltk.SnowballStemmer('english')\r\n",
        "tokens_snow = [ snowball.stem(t) for t in tokens_nostop ]\r\n",
        "print(tokens_snow[:10])"
      ],
      "execution_count": 11,
      "outputs": [
        {
          "output_type": "stream",
          "text": [
            "['richest', 'person', 'world', 'would', 'like', 'help', 'give', 'away', 'billion', 'dollar']\n"
          ],
          "name": "stdout"
        }
      ]
    },
    {
      "cell_type": "code",
      "metadata": {
        "id": "GeJD0ne0BB7J"
      },
      "source": [
        "import wordcloud\r\n",
        "from wordcloud import WordCloud, ImageColorGenerator\r\n",
        "import matplotlib.pyplot as plt\r\n",
        "import numpy as np\r\n",
        "from PIL import Image\r\n",
        "import urllib"
      ],
      "execution_count": 59,
      "outputs": []
    },
    {
      "cell_type": "code",
      "metadata": {
        "colab": {
          "base_uri": "https://localhost:8080/",
          "height": 198
        },
        "id": "zCn1GLJvBDLH",
        "outputId": "e555f4b9-da92-43b9-ac9a-8cb5cf8902df"
      },
      "source": [
        "# Let's use Snowball Stemmer's result.\r\n",
        "# Further cleaning: filter off anything with less than 3 characters\r\n",
        "nltk.FreqDist(tokens_snow).most_common(100)\r\n",
        "tokens_clean = [ t for t in tokens_snow if len(t) >= 3 ]\r\n",
        "len(tokens_snow)\r\n",
        "len(tokens_clean)\r\n",
        "nltk.FreqDist(tokens_clean).most_common(50)\r\n",
        "fd_clean = nltk.FreqDist(tokens_clean)\r\n",
        "text_clean=\" \".join(tokens_clean)\r\n",
        "\r\n",
        "wc = WordCloud(background_color=\"white\").generate(text_clean)\r\n",
        "\r\n",
        "plt.imshow(wc, interpolation='bilinear')\r\n",
        "plt.axis(\"off\")\r\n",
        "plt.show()"
      ],
      "execution_count": 61,
      "outputs": [
        {
          "output_type": "display_data",
          "data": {
            "image/png": "[encoded data removed]",
            "text/plain": [
              "<Figure size 432x288 with 1 Axes>"
            ]
          },
          "metadata": {
            "tags": [],
            "needs_background": "light"
          }
        }
      ]
    },
    {
      "cell_type": "code",
      "metadata": {
        "collapsed": true,
        "id": "gR0u6WPeuYsX",
        "colab": {
          "base_uri": "https://localhost:8080/"
        },
        "outputId": "3c4e426a-905f-4004-9d58-27dce6370702"
      },
      "source": [
        "import spacy\n",
        "nlp = spacy.load(\"en_core_web_sm\")\n",
        "doc =  nlp(\"Elon Musk first passed Bezos to claim the title of world’s richest person last Friday, but then dropped to the No. two spot on Monday as Tesla shares fell nearly 8%.\")\n",
        "for token in doc:\n",
        "    print(token.text, token.pos_, token.dep_)"
      ],
      "execution_count": 12,
      "outputs": [
        {
          "output_type": "stream",
          "text": [
            "Elon PROPN compound\n",
            "Musk PROPN nsubj\n",
            "first ADV advmod\n",
            "passed VERB ROOT\n",
            "Bezos PROPN dobj\n",
            "to PART aux\n",
            "claim VERB advcl\n",
            "the DET det\n",
            "title NOUN dobj\n",
            "of ADP prep\n",
            "world NOUN pobj\n",
            "’s PART punct\n",
            "richest ADJ amod\n",
            "person NOUN appos\n",
            "last ADJ amod\n",
            "Friday PROPN npadvmod\n",
            ", PUNCT punct\n",
            "but CCONJ cc\n",
            "then ADV advmod\n",
            "dropped VERB conj\n",
            "to ADP prep\n",
            "the DET det\n",
            "No NOUN dep\n",
            ". NOUN nmod\n",
            "two NUM nummod\n",
            "spot NOUN pobj\n",
            "on ADP prep\n",
            "Monday PROPN pobj\n",
            "as SCONJ mark\n",
            "Tesla PROPN compound\n",
            "shares NOUN nsubj\n",
            "fell VERB advcl\n",
            "nearly ADV advmod\n",
            "8 NUM nummod\n",
            "% NOUN npadvmod\n",
            ". PUNCT punct\n"
          ],
          "name": "stdout"
        }
      ]
    },
    {
      "cell_type": "code",
      "metadata": {
        "id": "YAIiJpJpvCIN",
        "colab": {
          "base_uri": "https://localhost:8080/"
        },
        "outputId": "647056e1-c766-413d-fbda-1b7f4810ca06"
      },
      "source": [
        "for ent in doc.ents:\r\n",
        "    print(ent.text, ent.start_char, ent.end_char, ent.label_)"
      ],
      "execution_count": 13,
      "outputs": [
        {
          "output_type": "stream",
          "text": [
            "Elon Musk 0 9 PERSON\n",
            "Bezos 23 28 PERSON\n",
            "last Friday 74 85 DATE\n",
            "two 115 118 CARDINAL\n",
            "Monday 127 133 DATE\n",
            "Tesla 137 142 ORG\n",
            "nearly 8% 155 164 PERCENT\n"
          ],
          "name": "stdout"
        }
      ]
    },
    {
      "cell_type": "markdown",
      "metadata": {
        "id": "H76JPLHGuYsd"
      },
      "source": [
        "POST Tag followed by NE Chunk"
      ]
    },
    {
      "cell_type": "code",
      "metadata": {
        "id": "IGIXUFubuYse",
        "colab": {
          "base_uri": "https://localhost:8080/"
        },
        "outputId": "b881493a-157a-4f36-a1c8-cc7e3aca1a58"
      },
      "source": [
        "for chunk in doc.noun_chunks:\n",
        "    print(chunk.text, chunk.root.text, chunk.root.dep_,\n",
        "            chunk.root.head.text)"
      ],
      "execution_count": 21,
      "outputs": [
        {
          "output_type": "stream",
          "text": [
            "Elon Musk Musk nsubj passed\n",
            "Bezos Bezos dobj passed\n",
            "the title title dobj claim\n",
            "world world pobj of\n",
            "richest person person appos title\n",
            "the No. two spot spot pobj to\n",
            "Monday Monday pobj on\n",
            "Tesla shares shares nsubj fell\n"
          ],
          "name": "stdout"
        }
      ]
    },
    {
      "cell_type": "code",
      "metadata": {
        "id": "4LQ7Ul4guYsf"
      },
      "source": [
        "# object and subject constants\n",
        "OBJECT_DEPS = {\"dobj\", \"dative\", \"attr\", \"oprd\"}\n",
        "SUBJECT_DEPS = {\"nsubj\", \"nsubjpass\", \"csubj\", \"agent\", \"expl\"}\n",
        "# tags that define wether the word is wh-\n",
        "WH_WORDS = {\"WP\", \"WP$\", \"WRB\"}\n",
        "\n",
        "# extract the subject, object and verb from the input\n",
        "def extract_svo(doc):\n",
        "    sub = []\n",
        "    at = []\n",
        "    ve = []\n",
        "    for token in doc:\n",
        "        # is this a verb?\n",
        "        if token.pos_ == \"VERB\":\n",
        "            ve.append(token.text)\n",
        "        # is this the object?\n",
        "        if token.dep_ in OBJECT_DEPS or token.head.dep_ in OBJECT_DEPS:\n",
        "            at.append(token.text)\n",
        "        # is this the subject?\n",
        "        if token.dep_ in SUBJECT_DEPS or token.head.dep_ in SUBJECT_DEPS:\n",
        "            sub.append(token.text)\n",
        "    return \" \".join(sub).strip().lower(), \" \".join(ve).strip().lower(), \" \".join(at).strip().lower()\n",
        "\n",
        "def is_question(doc):\n",
        "    # is the first token a verb?\n",
        "    if len(doc) > 0 and doc[0].pos_ == \"VERB\":\n",
        "        return True, \"\"\n",
        "    # go over all words\n",
        "    for token in doc:\n",
        "        # is it a wh- word?\n",
        "        if token.tag_ in WH_WORDS:\n",
        "            return True, token.text.lower()\n",
        "    return False, \"\""
      ],
      "execution_count": 16,
      "outputs": []
    },
    {
      "cell_type": "code",
      "metadata": {
        "collapsed": true,
        "id": "2Q00-eZsuYsf"
      },
      "source": [
        "subject, verb, attribute = extract_svo(doc)"
      ],
      "execution_count": 22,
      "outputs": []
    },
    {
      "cell_type": "code",
      "metadata": {
        "collapsed": true,
        "id": "rlpB_iH1uYsf",
        "colab": {
          "base_uri": "https://localhost:8080/",
          "height": 35
        },
        "outputId": "f8fdc3db-d599-48ff-b977-5ea98729fb47"
      },
      "source": [
        "subject"
      ],
      "execution_count": 23,
      "outputs": [
        {
          "output_type": "execute_result",
          "data": {
            "application/vnd.google.colaboratory.intrinsic+json": {
              "type": "string"
            },
            "text/plain": [
              "'elon musk tesla shares'"
            ]
          },
          "metadata": {
            "tags": []
          },
          "execution_count": 23
        }
      ]
    },
    {
      "cell_type": "code",
      "metadata": {
        "id": "1xV2L2W4w-dK",
        "colab": {
          "base_uri": "https://localhost:8080/",
          "height": 35
        },
        "outputId": "4bff3f12-e90e-4a0f-d902-bd458c0a3b36"
      },
      "source": [
        "verb"
      ],
      "execution_count": 19,
      "outputs": [
        {
          "output_type": "execute_result",
          "data": {
            "application/vnd.google.colaboratory.intrinsic+json": {
              "type": "string"
            },
            "text/plain": [
              "'passed claim dropped fell'"
            ]
          },
          "metadata": {
            "tags": []
          },
          "execution_count": 19
        }
      ]
    },
    {
      "cell_type": "code",
      "metadata": {
        "id": "w-qY-WmixBIA",
        "colab": {
          "base_uri": "https://localhost:8080/",
          "height": 35
        },
        "outputId": "88328ed1-20c9-4fe0-8077-6404df0f4ebb"
      },
      "source": [
        "attribute"
      ],
      "execution_count": 20,
      "outputs": [
        {
          "output_type": "execute_result",
          "data": {
            "application/vnd.google.colaboratory.intrinsic+json": {
              "type": "string"
            },
            "text/plain": [
              "'bezos the title of ’s person'"
            ]
          },
          "metadata": {
            "tags": []
          },
          "execution_count": 20
        }
      ]
    },
    {
      "cell_type": "code",
      "metadata": {
        "colab": {
          "base_uri": "https://localhost:8080/"
        },
        "id": "unbfnO92xJdt",
        "outputId": "ed4b033f-0a48-49f9-ec51-5bc8ee0f1a0b"
      },
      "source": [
        "from flair.models import TextClassifier\r\n",
        "from flair.data import Sentence\r\n",
        "\r\n",
        "classifier = TextClassifier.load('en-sentiment')\r\n",
        "sentence = Sentence(doc.text)\r\n",
        "classifier.predict(sentence)\r\n",
        "print(doc.text)\r\n",
        "print(type(doc.text))\r\n",
        "print('The sentence is:', sentence.labels)\r\n",
        "\r\n",
        "\r\n"
      ],
      "execution_count": 33,
      "outputs": [
        {
          "output_type": "stream",
          "text": [
            "2021-01-18 00:24:03,009 loading file /root/.flair/models/sentiment-en-mix-distillbert_3.1.pt\n",
            "Elon Musk first passed Bezos to claim the title of world’s richest person last Friday, but then dropped to the No. two spot on Monday as Tesla shares fell nearly 8%.\n",
            "<class 'str'>\n",
            "The sentence is: [NEGATIVE (0.9995)]\n"
          ],
          "name": "stdout"
        }
      ]
    },
    {
      "cell_type": "code",
      "metadata": {
        "colab": {
          "base_uri": "https://localhost:8080/"
        },
        "id": "Trz4uAGI0H7s",
        "outputId": "7a0fe0a7-4267-4e85-9893-c27b5ec1fc66"
      },
      "source": [
        "from ibm_watson import ToneAnalyzerV3\r\n",
        "from ibm_cloud_sdk_core.authenticators import IAMAuthenticator\r\n",
        "\r\n",
        "authenticator = IAMAuthenticator('ElQoBZw54M3T7MguJWppYjUj2DN9uYyiomhpCaa4pkB0')\r\n",
        "version = '2021-01-18'\r\n",
        "tone_analyzer = ToneAnalyzerV3(\r\n",
        "    version=version,\r\n",
        "    authenticator=authenticator\r\n",
        ")\r\n",
        "\r\n",
        "tone_analyzer.set_service_url('https://api.us-south.tone-analyzer.watson.cloud.ibm.com/instances/133fb2cc-0314-48b9-b027-c4965e15bd56')\r\n",
        "\r\n",
        "\r\n",
        "result = tone_analyzer.tone(\r\n",
        "    doc.text,\r\n",
        "    content_type='text/plain;charset=utf-8', \r\n",
        "    content_language = 'en'\r\n",
        ").get_result()\r\n",
        "\r\n",
        "print(doc.text, \"\\n\")\r\n",
        "\r\n",
        "pp =pprint.PrettyPrinter(indent = 4)\r\n",
        "pp.pprint(result)"
      ],
      "execution_count": 57,
      "outputs": [
        {
          "output_type": "stream",
          "text": [
            "Elon Musk first passed Bezos to claim the title of world’s richest person last Friday, but then dropped to the No. two spot on Monday as Tesla shares fell nearly 8%.\n",
            "{   'document_tone': {   'tones': [   {   'score': 0.567827,\n",
            "                                          'tone_id': 'sadness',\n",
            "                                          'tone_name': 'Sadness'}]}}\n"
          ],
          "name": "stdout"
        }
      ]
    },
    {
      "cell_type": "code",
      "metadata": {
        "colab": {
          "base_uri": "https://localhost:8080/"
        },
        "id": "5vyZQUP5-Q_d",
        "outputId": "3bdbdc88-c6a8-455a-af9c-aeff435954c5"
      },
      "source": [
        "result = tone_analyzer.tone(\r\n",
        "    article.text,\r\n",
        "    content_type='text/plain;charset=utf-8', \r\n",
        "    content_language = 'en'\r\n",
        ").get_result()\r\n",
        "\r\n",
        "pp.pprint(result)"
      ],
      "execution_count": 58,
      "outputs": [
        {
          "output_type": "stream",
          "text": [
            "{   'document_tone': {   'tones': [   {   'score': 0.574646,\n",
            "                                          'tone_id': 'sadness',\n",
            "                                          'tone_name': 'Sadness'},\n",
            "                                      {   'score': 0.604453,\n",
            "                                          'tone_id': 'joy',\n",
            "                                          'tone_name': 'Joy'},\n",
            "                                      {   'score': 0.558428,\n",
            "                                          'tone_id': 'tentative',\n",
            "                                          'tone_name': 'Tentative'},\n",
            "                                      {   'score': 0.652251,\n",
            "                                          'tone_id': 'analytical',\n",
            "                                          'tone_name': 'Analytical'}]},\n",
            "    'sentences_tone': [   {   'sentence_id': 0,\n",
            "                              'text': 'The richest person in the world would '\n",
            "                                      'like your help giving away his billions '\n",
            "                                      'of dollars.',\n",
            "                              'tones': [   {   'score': 0.712201,\n",
            "                                               'tone_id': 'joy',\n",
            "                                               'tone_name': 'Joy'}]},\n",
            "                          {   'sentence_id': 1,\n",
            "                              'text': 'One of the first things that Elon Musk, '\n",
            "                                      'the founder and CEO of Tesla, did upon '\n",
            "                                      'climbing to the top of American '\n",
            "                                      'capitalism last week was to ask for any '\n",
            "                                      'advice about how to climb the ranks of '\n",
            "                                      'philanthropy.',\n",
            "                              'tones': [   {   'score': 0.527318,\n",
            "                                               'tone_id': 'analytical',\n",
            "                                               'tone_name': 'Analytical'}]},\n",
            "                          {   'sentence_id': 2,\n",
            "                              'text': 'Now that he has more money than anyone '\n",
            "                                      'else on the planet, Musk is likely to '\n",
            "                                      'come under far greater scrutiny than he '\n",
            "                                      'ever has about how he gives it away — '\n",
            "                                      'or doesn’t.',\n",
            "                              'tones': [   {   'score': 0.786991,\n",
            "                                               'tone_id': 'tentative',\n",
            "                                               'tone_name': 'Tentative'}]},\n",
            "                          {   'sentence_id': 3,\n",
            "                              'text': 'Amazon founder Jeff Bezos, whom Musk '\n",
            "                                      'displaced from the top ranking, drew '\n",
            "                                      'more and more negative attention for '\n",
            "                                      'his penny-pinching philanthropy as he '\n",
            "                                      'became wealthier and wealthier, and '\n",
            "                                      'Musk will probably encounter a similar '\n",
            "                                      'dynamic.',\n",
            "                              'tones': [   {   'score': 0.560098,\n",
            "                                               'tone_id': 'analytical',\n",
            "                                               'tone_name': 'Analytical'}]},\n",
            "                          {   'sentence_id': 4,\n",
            "                              'text': 'Bezos turned to Twitter for advice as '\n",
            "                                      'that scrutiny mounted, and Musk is '\n",
            "                                      'following the same playbook.',\n",
            "                              'tones': []},\n",
            "                          {   'sentence_id': 5,\n",
            "                              'text': 'Btw, critical feedback is always super '\n",
            "                                      'appreciated, as well as ways to donate '\n",
            "                                      'money that really make a difference '\n",
            "                                      '(way harder than it seems) — Elon Musk '\n",
            "                                      '(@elonmusk) January 8, 2021',\n",
            "                              'tones': [   {   'score': 0.555297,\n",
            "                                               'tone_id': 'joy',\n",
            "                                               'tone_name': 'Joy'}]},\n",
            "                          {'sentence_id': 6, 'text': '', 'tones': []},\n",
            "                          {   'sentence_id': 7,\n",
            "                              'text': 'Musk’s tweet lays bare two truths: He '\n",
            "                                      'is certainly correct that billionaire '\n",
            "                                      'philanthropy is difficult — many of his '\n",
            "                                      'fellow tech titans have struggled to '\n",
            "                                      'give away their money effectively.',\n",
            "                              'tones': [   {   'score': 0.74055,\n",
            "                                               'tone_id': 'sadness',\n",
            "                                               'tone_name': 'Sadness'},\n",
            "                                           {   'score': 0.751512,\n",
            "                                               'tone_id': 'confident',\n",
            "                                               'tone_name': 'Confident'},\n",
            "                                           {   'score': 0.762356,\n",
            "                                               'tone_id': 'analytical',\n",
            "                                               'tone_name': 'Analytical'}]},\n",
            "                          {   'sentence_id': 8,\n",
            "                              'text': 'But it’s also true that many '\n",
            "                                      'billionaires have declined to give away '\n",
            "                                      'large amounts of their money, partially '\n",
            "                                      'out of fear of screwing up at making a '\n",
            "                                      'difference, and that describes Musk’s '\n",
            "                                      'own giving up to this point.',\n",
            "                              'tones': [   {   'score': 0.726439,\n",
            "                                               'tone_id': 'fear',\n",
            "                                               'tone_name': 'Fear'}]},\n",
            "                          {   'sentence_id': 9,\n",
            "                              'text': 'Musk has given relatively small amounts '\n",
            "                                      'of his wealth, a history that his tweet '\n",
            "                                      'and his rise to top-billionaire status '\n",
            "                                      'is highlighting.',\n",
            "                              'tones': [   {   'score': 0.638776,\n",
            "                                               'tone_id': 'joy',\n",
            "                                               'tone_name': 'Joy'}]},\n",
            "                          {   'sentence_id': 10,\n",
            "                              'text': 'Musk’s main charitable vehicle has been '\n",
            "                                      'the Musk Foundation, which he founded '\n",
            "                                      'in 2002.',\n",
            "                              'tones': [   {   'score': 0.801827,\n",
            "                                               'tone_id': 'analytical',\n",
            "                                               'tone_name': 'Analytical'}]},\n",
            "                          {   'sentence_id': 11,\n",
            "                              'text': 'In an age of philanthropic showmanship, '\n",
            "                                      'the Musk Foundation is almost '\n",
            "                                      'entertaining in its simplicity and yet '\n",
            "                                      'is strikingly opaque: The entire '\n",
            "                                      'website is 33 words on a plain-text '\n",
            "                                      'Yahoo page with no links, staff '\n",
            "                                      'information, or contact forms (“I wrote '\n",
            "                                      'that masterpiece myself in HTML 1.0,” '\n",
            "                                      'Musk said at one point.)',\n",
            "                              'tones': [   {   'score': 0.612825,\n",
            "                                               'tone_id': 'analytical',\n",
            "                                               'tone_name': 'Analytical'}]},\n",
            "                          {   'sentence_id': 12,\n",
            "                              'text': 'All that is included is five bullet '\n",
            "                                      'points outlining the fields that the '\n",
            "                                      'foundation supports.',\n",
            "                              'tones': [   {   'score': 0.727798,\n",
            "                                               'tone_id': 'confident',\n",
            "                                               'tone_name': 'Confident'},\n",
            "                                           {   'score': 0.532616,\n",
            "                                               'tone_id': 'analytical',\n",
            "                                               'tone_name': 'Analytical'}]},\n",
            "                          {   'sentence_id': 13,\n",
            "                              'text': 'Musk has also signed the Giving Pledge '\n",
            "                                      '— the commitment to give away at least '\n",
            "                                      'half of one’s money to charity — but he '\n",
            "                                      'is one of its few signatories not to '\n",
            "                                      'make their pledge letter publicly '\n",
            "                                      'available on the program’s website.',\n",
            "                              'tones': [   {   'score': 0.515794,\n",
            "                                               'tone_id': 'sadness',\n",
            "                                               'tone_name': 'Sadness'}]},\n",
            "                          {   'sentence_id': 14,\n",
            "                              'text': 'The main place where Musk has been more '\n",
            "                                      'voluble, naturally, is on Twitter, '\n",
            "                                      'where he periodically reveals tidbits '\n",
            "                                      'about his philanthropic thinking to '\n",
            "                                      'Tesla fans who beseech him for gifts or '\n",
            "                                      'details.',\n",
            "                              'tones': [   {   'score': 0.69426,\n",
            "                                               'tone_id': 'joy',\n",
            "                                               'tone_name': 'Joy'}]},\n",
            "                          {   'sentence_id': 15,\n",
            "                              'text': 'Sometimes he’ll promise to award money '\n",
            "                                      'from his foundation to followers who '\n",
            "                                      'tweet at him.',\n",
            "                              'tones': [   {   'score': 0.574204,\n",
            "                                               'tone_id': 'joy',\n",
            "                                               'tone_name': 'Joy'},\n",
            "                                           {   'score': 0.647986,\n",
            "                                               'tone_id': 'tentative',\n",
            "                                               'tone_name': 'Tentative'},\n",
            "                                           {   'score': 0.532616,\n",
            "                                               'tone_id': 'analytical',\n",
            "                                               'tone_name': 'Analytical'}]},\n",
            "                          {   'sentence_id': 16,\n",
            "                              'text': 'Until 2016, Musk gave relatively little '\n",
            "                                      'money to his foundation which then gave '\n",
            "                                      'little to nonprofits, according to the '\n",
            "                                      'tax filings that foundations must file.',\n",
            "                              'tones': [   {   'score': 0.907142,\n",
            "                                               'tone_id': 'analytical',\n",
            "                                               'tone_name': 'Analytical'}]},\n",
            "                          {   'sentence_id': 17,\n",
            "                              'text': 'Then in May 2016, Musk donated $250 '\n",
            "                                      'million in Tesla stock to his '\n",
            "                                      'foundation, but that money has also '\n",
            "                                      'been slow to get out the door.',\n",
            "                              'tones': []},\n",
            "                          {   'sentence_id': 18,\n",
            "                              'text': 'So during the 16-year period between '\n",
            "                                      'the foundation’s founding in 2002 and '\n",
            "                                      'mid-2018, the last year on file, the '\n",
            "                                      'philanthropy has only given about $25 '\n",
            "                                      'million directly to nonprofit groups, '\n",
            "                                      'with $10 million of that going to '\n",
            "                                      'support OpenAI, a nonprofit founded by '\n",
            "                                      'Musk and entrepreneur Sam Altman.',\n",
            "                              'tones': [   {   'score': 0.641492,\n",
            "                                               'tone_id': 'joy',\n",
            "                                               'tone_name': 'Joy'}]},\n",
            "                          {   'sentence_id': 19,\n",
            "                              'text': 'After 2016, the foundation routed about '\n",
            "                                      '$50 million to donor-advised funds '\n",
            "                                      '(DAFs), which are separate '\n",
            "                                      'philanthropic vehicles that don’t '\n",
            "                                      'disclose their gifts and also allow '\n",
            "                                      'foundations to circumvent a requirement '\n",
            "                                      'to send 5 percent of their assets '\n",
            "                                      'elsewhere every year.',\n",
            "                              'tones': [   {   'score': 0.762356,\n",
            "                                               'tone_id': 'analytical',\n",
            "                                               'tone_name': 'Analytical'}]},\n",
            "                          {   'sentence_id': 20,\n",
            "                              'text': 'A Musk spokesperson told Forbes last '\n",
            "                                      'year that those DAFs had donated a '\n",
            "                                      'total of $75 million over their '\n",
            "                                      'lifetimes to nonprofits.',\n",
            "                              'tones': []},\n",
            "                          {   'sentence_id': 21,\n",
            "                              'text': 'That $75 million, when combined with '\n",
            "                                      'his foundation’s $25 million worth of '\n",
            "                                      'direct gifts through 2018, means Musk '\n",
            "                                      'has given away about $100 million to '\n",
            "                                      'charity through his foundation and his '\n",
            "                                      'DAFs.',\n",
            "                              'tones': [   {   'score': 0.721034,\n",
            "                                               'tone_id': 'joy',\n",
            "                                               'tone_name': 'Joy'},\n",
            "                                           {   'score': 0.664451,\n",
            "                                               'tone_id': 'analytical',\n",
            "                                               'tone_name': 'Analytical'}]},\n",
            "                          {   'sentence_id': 22,\n",
            "                              'text': '(This figure doesn’t include money '\n",
            "                                      'possibly donated by his foundation '\n",
            "                                      'after 2018 or money donated not through '\n",
            "                                      'a foundation or DAF.)',\n",
            "                              'tones': [   {   'score': 0.91961,\n",
            "                                               'tone_id': 'tentative',\n",
            "                                               'tone_name': 'Tentative'},\n",
            "                                           {   'score': 0.801827,\n",
            "                                               'tone_id': 'analytical',\n",
            "                                               'tone_name': 'Analytical'}]},\n",
            "                          {   'sentence_id': 23,\n",
            "                              'text': 'That math works out to Musk donating '\n",
            "                                      'about 0.05 percent of his current net '\n",
            "                                      'worth to charity so far.',\n",
            "                              'tones': [   {   'score': 0.842108,\n",
            "                                               'tone_id': 'analytical',\n",
            "                                               'tone_name': 'Analytical'}]},\n",
            "                          {   'sentence_id': 24,\n",
            "                              'text': 'That figure also tracks with what Musk '\n",
            "                                      'has said publicly — in 2018, he said '\n",
            "                                      'that he had sold about $100 million '\n",
            "                                      'worth of Tesla stock to finance his '\n",
            "                                      'charity.',\n",
            "                              'tones': []},\n",
            "                          {   'sentence_id': 25,\n",
            "                              'text': 'Representatives for Musk didn’t respond '\n",
            "                                      'to Recode’s request for comment.',\n",
            "                              'tones': []},\n",
            "                          {   'sentence_id': 26,\n",
            "                              'text': 'Because around three-quarters of Musk’s '\n",
            "                                      'donations to date have come through '\n",
            "                                      'DAFs, which don’t have to file similar '\n",
            "                                      'public tax documents, it is harder to '\n",
            "                                      'track what specific nonprofits he is '\n",
            "                                      'supporting.',\n",
            "                              'tones': []},\n",
            "                          {   'sentence_id': 27,\n",
            "                              'text': 'That’s somewhat intentional: Musk has '\n",
            "                                      'said his grants are “(almost always) '\n",
            "                                      'anonymous,” although that would only be '\n",
            "                                      'technically true for donations from '\n",
            "                                      'outside the walls of the foundation '\n",
            "                                      '(though Musk has said incorrectly that '\n",
            "                                      'his foundation donations are '\n",
            "                                      '“anonymous,” too.)',\n",
            "                              'tones': [   {   'score': 0.728394,\n",
            "                                               'tone_id': 'analytical',\n",
            "                                               'tone_name': 'Analytical'}]},\n",
            "                          {   'sentence_id': 28,\n",
            "                              'text': 'There have been some announcements of '\n",
            "                                      'major gifts from grantees, though.',\n",
            "                              'tones': [   {   'score': 0.786991,\n",
            "                                               'tone_id': 'tentative',\n",
            "                                               'tone_name': 'Tentative'}]},\n",
            "                          {   'sentence_id': 29,\n",
            "                              'text': 'In addition to the $10 million from the '\n",
            "                                      'foundation to OpenAI, Musk donated at '\n",
            "                                      'least $10 million to the Future of Life '\n",
            "                                      'Institute, which researches safety in '\n",
            "                                      'artificial intelligence; $10 million '\n",
            "                                      'for a prize focused on promoting global '\n",
            "                                      'literacy; and $6 million to the Sierra '\n",
            "                                      'Club, a donation that was originally '\n",
            "                                      'anonymous and then made public after '\n",
            "                                      'Musk encouraged the organization to do '\n",
            "                                      'so.',\n",
            "                              'tones': [   {   'score': 0.660212,\n",
            "                                               'tone_id': 'joy',\n",
            "                                               'tone_name': 'Joy'},\n",
            "                                           {   'score': 0.572858,\n",
            "                                               'tone_id': 'analytical',\n",
            "                                               'tone_name': 'Analytical'}]},\n",
            "                          {   'sentence_id': 30,\n",
            "                              'text': 'Musk has also said that he is “one of '\n",
            "                                      'the top donors” to the American Civil '\n",
            "                                      'Liberties Union, without disclosing a '\n",
            "                                      'precise amount.',\n",
            "                              'tones': [   {   'score': 0.560944,\n",
            "                                               'tone_id': 'confident',\n",
            "                                               'tone_name': 'Confident'}]},\n",
            "                          {   'sentence_id': 31,\n",
            "                              'text': 'But those donations all happened at a '\n",
            "                                      'quainter time in Musk’s wealth history.',\n",
            "                              'tones': [   {   'score': 0.67818,\n",
            "                                               'tone_id': 'joy',\n",
            "                                               'tone_name': 'Joy'},\n",
            "                                           {   'score': 0.775702,\n",
            "                                               'tone_id': 'confident',\n",
            "                                               'tone_name': 'Confident'}]},\n",
            "                          {   'sentence_id': 32,\n",
            "                              'text': 'Just a year ago, Musk was testifying '\n",
            "                                      'under oath that he was worth about $20 '\n",
            "                                      'billion, although as with other '\n",
            "                                      'billionaire tech founders, most of that '\n",
            "                                      'money resides in illiquid stock that a '\n",
            "                                      'CEO is often reluctant to sell.',\n",
            "                              'tones': [   {   'score': 0.628267,\n",
            "                                               'tone_id': 'tentative',\n",
            "                                               'tone_name': 'Tentative'}]},\n",
            "                          {   'sentence_id': 33,\n",
            "                              'text': 'Now Bloomberg estimates his net worth '\n",
            "                                      'as over 10 times that.',\n",
            "                              'tones': []},\n",
            "                          {   'sentence_id': 34,\n",
            "                              'text': 'And as he is now the world’s wealthiest '\n",
            "                                      'person, more eyeballs will be on his '\n",
            "                                      'every move.',\n",
            "                              'tones': [   {   'score': 0.507293,\n",
            "                                               'tone_id': 'joy',\n",
            "                                               'tone_name': 'Joy'},\n",
            "                                           {   'score': 0.6821,\n",
            "                                               'tone_id': 'confident',\n",
            "                                               'tone_name': 'Confident'}]},\n",
            "                          {   'sentence_id': 35,\n",
            "                              'text': 'Progressive activists and politicians '\n",
            "                                      'have increasingly turned their ire on a '\n",
            "                                      'few high-profile billionaires — sending '\n",
            "                                      'a guillotine to Bezos’s mansion at one '\n",
            "                                      'point, for instance — as a way to '\n",
            "                                      'criticize American income inequality.',\n",
            "                              'tones': [   {   'score': 0.682143,\n",
            "                                               'tone_id': 'analytical',\n",
            "                                               'tone_name': 'Analytical'}]},\n",
            "                          {   'sentence_id': 36,\n",
            "                              'text': 'Billionaires, though, have used their '\n",
            "                                      'philanthropy as a counterargument to '\n",
            "                                      'higher taxes that would close '\n",
            "                                      'inequality, pointing to the good they '\n",
            "                                      'are doing today for the world with the '\n",
            "                                      'fortunes.',\n",
            "                              'tones': [   {   'score': 0.623102,\n",
            "                                               'tone_id': 'joy',\n",
            "                                               'tone_name': 'Joy'}]},\n",
            "                          {   'sentence_id': 37,\n",
            "                              'text': 'Musk, who has bristled at the label '\n",
            "                                      '“billionaire” and recently moved '\n",
            "                                      'himself and his foundation to Texas, '\n",
            "                                      'has said that his big philanthropic '\n",
            "                                      'investments are still decades away, '\n",
            "                                      'which could frustrate the left.',\n",
            "                              'tones': [   {   'score': 0.795703,\n",
            "                                               'tone_id': 'sadness',\n",
            "                                               'tone_name': 'Sadness'}]},\n",
            "                          {   'sentence_id': 38,\n",
            "                              'text': 'The entrepreneur has said that while he '\n",
            "                                      'would sell some more Tesla shares '\n",
            "                                      '“every few years” for philanthropy, '\n",
            "                                      '“major disbursements” from his '\n",
            "                                      'charities will only come in about 20 '\n",
            "                                      'years, “when Tesla is in steady state.”',\n",
            "                              'tones': [   {   'score': 0.588932,\n",
            "                                               'tone_id': 'joy',\n",
            "                                               'tone_name': 'Joy'}]},\n",
            "                          {   'sentence_id': 39,\n",
            "                              'text': 'That would be around when Musk is '\n",
            "                                      'nearing 70 years old.',\n",
            "                              'tones': [   {   'score': 0.786991,\n",
            "                                               'tone_id': 'tentative',\n",
            "                                               'tone_name': 'Tentative'}]},\n",
            "                          {   'sentence_id': 40,\n",
            "                              'text': 'But he does appear to have a clear idea '\n",
            "                                      'of how he wants to spend his fortune at '\n",
            "                                      'that point.',\n",
            "                              'tones': [   {   'score': 0.579367,\n",
            "                                               'tone_id': 'analytical',\n",
            "                                               'tone_name': 'Analytical'}]},\n",
            "                          {   'sentence_id': 41,\n",
            "                              'text': 'He has already outlined two broad '\n",
            "                                      'buckets for his wealth: half for Earth, '\n",
            "                                      'and half for Mars.',\n",
            "                              'tones': []},\n",
            "                          {   'sentence_id': 42,\n",
            "                              'text': '“Will use that to make life '\n",
            "                                      'multiplanetary, help education & '\n",
            "                                      'environment on Earth w my foundation.',\n",
            "                              'tones': [   {   'score': 0.734293,\n",
            "                                               'tone_id': 'joy',\n",
            "                                               'tone_name': 'Joy'}]},\n",
            "                          {   'sentence_id': 43,\n",
            "                              'text': 'Just don’t want us to be sad about the '\n",
            "                                      'future,” he said of his wealth in 2018.',\n",
            "                              'tones': [   {   'score': 0.854124,\n",
            "                                               'tone_id': 'sadness',\n",
            "                                               'tone_name': 'Sadness'},\n",
            "                                           {   'score': 0.775166,\n",
            "                                               'tone_id': 'tentative',\n",
            "                                               'tone_name': 'Tentative'}]},\n",
            "                          {   'sentence_id': 44,\n",
            "                              'text': '“About half my money is intended for '\n",
            "                                      'problems on Earth, half to help '\n",
            "                                      'establish a self-sustaining city on '\n",
            "                                      'Mars to ensure continuation of life in '\n",
            "                                      'case we get hit by a meteor or WW3 '\n",
            "                                      'happens & we destroy ourselves,” he '\n",
            "                                      'told another follower a few months '\n",
            "                                      'later.',\n",
            "                              'tones': [   {   'score': 0.640519,\n",
            "                                               'tone_id': 'sadness',\n",
            "                                               'tone_name': 'Sadness'},\n",
            "                                           {   'score': 0.781949,\n",
            "                                               'tone_id': 'analytical',\n",
            "                                               'tone_name': 'Analytical'}]},\n",
            "                          {   'sentence_id': 45,\n",
            "                              'text': 'He’s already starting to make some more '\n",
            "                                      'gifts.',\n",
            "                              'tones': [   {   'score': 0.696272,\n",
            "                                               'tone_id': 'joy',\n",
            "                                               'tone_name': 'Joy'},\n",
            "                                           {   'score': 0.88939,\n",
            "                                               'tone_id': 'tentative',\n",
            "                                               'tone_name': 'Tentative'}]},\n",
            "                          {   'sentence_id': 46,\n",
            "                              'text': 'On Friday, Barstool Sports announced '\n",
            "                                      'that Musk had made a fund that it '\n",
            "                                      'organized to support by Barstool Sports '\n",
            "                                      'for small businesses.',\n",
            "                              'tones': [   {   'score': 0.631233,\n",
            "                                               'tone_id': 'joy',\n",
            "                                               'tone_name': 'Joy'}]},\n",
            "                          {   'sentence_id': 47,\n",
            "                              'text': 'Musk is not as showy with his material '\n",
            "                                      'comforts as other tech billionaires — '\n",
            "                                      'he is in the process of selling all of '\n",
            "                                      'his homes, and has not displayed the '\n",
            "                                      'same taste for yachts or other trifles.',\n",
            "                              'tones': [   {   'score': 0.528568,\n",
            "                                               'tone_id': 'joy',\n",
            "                                               'tone_name': 'Joy'}]},\n",
            "                          {   'sentence_id': 48,\n",
            "                              'text': 'From Musk’s point of view, he’s saving '\n",
            "                                      'up.',\n",
            "                              'tones': [   {   'score': 0.920855,\n",
            "                                               'tone_id': 'analytical',\n",
            "                                               'tone_name': 'Analytical'}]},\n",
            "                          {   'sentence_id': 49,\n",
            "                              'text': '“It’s going to take a lot of resources '\n",
            "                                      'to build a city on Mars,” he told an '\n",
            "                                      'interviewer last month.',\n",
            "                              'tones': []},\n",
            "                          {   'sentence_id': 50,\n",
            "                              'text': '“I want to be able to contribute as '\n",
            "                                      'much as possible.”',\n",
            "                              'tones': [   {   'score': 0.786991,\n",
            "                                               'tone_id': 'tentative',\n",
            "                                               'tone_name': 'Tentative'}]}]}\n"
          ],
          "name": "stdout"
        }
      ]
    }
  ]
}