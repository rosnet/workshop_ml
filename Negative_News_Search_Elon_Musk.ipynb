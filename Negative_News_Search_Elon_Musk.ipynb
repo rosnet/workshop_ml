{
 "cells": [
  {
   "cell_type": "markdown",
   "metadata": {
    "id": "Rq5y_xT64NP9"
   },
   "source": [
    "##LOADING PACKAGES WE WILL USE"
   ]
  },
  {
   "cell_type": "code",
   "execution_count": 26,
   "metadata": {
    "colab": {
     "base_uri": "https://localhost:8080/"
    },
    "id": "8gdM4brhrckA",
    "outputId": "99496ede-c58b-480e-ca7c-ef28c51b9114"
   },
   "outputs": [
    {
     "name": "stdout",
     "output_type": "stream",
     "text": [
      "Requirement already satisfied: newspaper3k in /usr/local/lib/python3.6/dist-packages (0.2.8)\n",
      "Requirement already satisfied: tinysegmenter==0.3 in /usr/local/lib/python3.6/dist-packages (from newspaper3k) (0.3)\n",
      "Requirement already satisfied: nltk>=3.2.1 in /usr/local/lib/python3.6/dist-packages (from newspaper3k) (3.2.5)\n",
      "Requirement already satisfied: requests>=2.10.0 in /usr/local/lib/python3.6/dist-packages (from newspaper3k) (2.23.0)\n",
      "Requirement already satisfied: cssselect>=0.9.2 in /usr/local/lib/python3.6/dist-packages (from newspaper3k) (1.1.0)\n",
      "Requirement already satisfied: python-dateutil>=2.5.3 in /usr/local/lib/python3.6/dist-packages (from newspaper3k) (2.8.1)\n",
      "Requirement already satisfied: feedfinder2>=0.0.4 in /usr/local/lib/python3.6/dist-packages (from newspaper3k) (0.0.4)\n",
      "Requirement already satisfied: feedparser>=5.2.1 in /usr/local/lib/python3.6/dist-packages (from newspaper3k) (6.0.2)\n",
      "Requirement already satisfied: jieba3k>=0.35.1 in /usr/local/lib/python3.6/dist-packages (from newspaper3k) (0.35.1)\n",
      "Requirement already satisfied: beautifulsoup4>=4.4.1 in /usr/local/lib/python3.6/dist-packages (from newspaper3k) (4.6.3)\n",
      "Requirement already satisfied: PyYAML>=3.11 in /usr/local/lib/python3.6/dist-packages (from newspaper3k) (3.13)\n",
      "Requirement already satisfied: lxml>=3.6.0 in /usr/local/lib/python3.6/dist-packages (from newspaper3k) (4.2.6)\n",
      "Requirement already satisfied: tldextract>=2.0.1 in /usr/local/lib/python3.6/dist-packages (from newspaper3k) (3.1.0)\n",
      "Requirement already satisfied: Pillow>=3.3.0 in /usr/local/lib/python3.6/dist-packages (from newspaper3k) (7.0.0)\n",
      "Requirement already satisfied: six in /usr/local/lib/python3.6/dist-packages (from nltk>=3.2.1->newspaper3k) (1.15.0)\n",
      "Requirement already satisfied: chardet<4,>=3.0.2 in /usr/local/lib/python3.6/dist-packages (from requests>=2.10.0->newspaper3k) (3.0.4)\n",
      "Requirement already satisfied: idna<3,>=2.5 in /usr/local/lib/python3.6/dist-packages (from requests>=2.10.0->newspaper3k) (2.10)\n",
      "Requirement already satisfied: certifi>=2017.4.17 in /usr/local/lib/python3.6/dist-packages (from requests>=2.10.0->newspaper3k) (2020.12.5)\n",
      "Requirement already satisfied: urllib3!=1.25.0,!=1.25.1,<1.26,>=1.21.1 in /usr/local/lib/python3.6/dist-packages (from requests>=2.10.0->newspaper3k) (1.24.3)\n",
      "Requirement already satisfied: sgmllib3k in /usr/local/lib/python3.6/dist-packages (from feedparser>=5.2.1->newspaper3k) (1.0.0)\n",
      "Requirement already satisfied: filelock>=3.0.8 in /usr/local/lib/python3.6/dist-packages (from tldextract>=2.0.1->newspaper3k) (3.0.12)\n",
      "Requirement already satisfied: requests-file>=1.4 in /usr/local/lib/python3.6/dist-packages (from tldextract>=2.0.1->newspaper3k) (1.5.1)\n",
      "Requirement already satisfied: flair in /usr/local/lib/python3.6/dist-packages (0.7)\n",
      "Requirement already satisfied: konoha<5.0.0,>=4.0.0 in /usr/local/lib/python3.6/dist-packages (from flair) (4.6.2)\n",
      "Requirement already satisfied: ftfy in /usr/local/lib/python3.6/dist-packages (from flair) (5.8)\n",
      "Requirement already satisfied: hyperopt>=0.1.1 in /usr/local/lib/python3.6/dist-packages (from flair) (0.1.2)\n",
      "Requirement already satisfied: gensim<=3.8.3,>=3.4.0 in /usr/local/lib/python3.6/dist-packages (from flair) (3.6.0)\n",
      "Requirement already satisfied: scikit-learn>=0.21.3 in /usr/local/lib/python3.6/dist-packages (from flair) (0.22.2.post1)\n",
      "Requirement already satisfied: lxml in /usr/local/lib/python3.6/dist-packages (from flair) (4.2.6)\n",
      "Requirement already satisfied: deprecated>=1.2.4 in /usr/local/lib/python3.6/dist-packages (from flair) (1.2.11)\n",
      "Requirement already satisfied: tqdm>=4.26.0 in /usr/local/lib/python3.6/dist-packages (from flair) (4.41.1)\n",
      "Requirement already satisfied: sentencepiece<=0.1.91 in /usr/local/lib/python3.6/dist-packages (from flair) (0.1.91)\n",
      "Requirement already satisfied: langdetect in /usr/local/lib/python3.6/dist-packages (from flair) (1.0.8)\n",
      "Requirement already satisfied: gdown in /usr/local/lib/python3.6/dist-packages (from flair) (3.6.4)\n",
      "Requirement already satisfied: python-dateutil>=2.6.1 in /usr/local/lib/python3.6/dist-packages (from flair) (2.8.1)\n",
      "Requirement already satisfied: regex in /usr/local/lib/python3.6/dist-packages (from flair) (2019.12.20)\n",
      "Requirement already satisfied: matplotlib>=2.2.3 in /usr/local/lib/python3.6/dist-packages (from flair) (3.2.2)\n",
      "Requirement already satisfied: bpemb>=0.3.2 in /usr/local/lib/python3.6/dist-packages (from flair) (0.3.2)\n",
      "Requirement already satisfied: mpld3==0.3 in /usr/local/lib/python3.6/dist-packages (from flair) (0.3)\n",
      "Requirement already satisfied: tabulate in /usr/local/lib/python3.6/dist-packages (from flair) (0.8.7)\n",
      "Requirement already satisfied: torch>=1.1.0 in /usr/local/lib/python3.6/dist-packages (from flair) (1.7.0+cu101)\n",
      "Requirement already satisfied: sqlitedict>=1.6.0 in /usr/local/lib/python3.6/dist-packages (from flair) (1.7.0)\n",
      "Requirement already satisfied: segtok>=1.5.7 in /usr/local/lib/python3.6/dist-packages (from flair) (1.5.10)\n",
      "Requirement already satisfied: janome in /usr/local/lib/python3.6/dist-packages (from flair) (0.4.1)\n",
      "Requirement already satisfied: transformers<=3.5.1,>=3.5.0 in /usr/local/lib/python3.6/dist-packages (from flair) (3.5.1)\n",
      "Requirement already satisfied: overrides==3.0.0 in /usr/local/lib/python3.6/dist-packages (from konoha<5.0.0,>=4.0.0->flair) (3.0.0)\n",
      "Requirement already satisfied: wcwidth in /usr/local/lib/python3.6/dist-packages (from ftfy->flair) (0.2.5)\n",
      "Requirement already satisfied: pymongo in /usr/local/lib/python3.6/dist-packages (from hyperopt>=0.1.1->flair) (3.11.2)\n",
      "Requirement already satisfied: numpy in /usr/local/lib/python3.6/dist-packages (from hyperopt>=0.1.1->flair) (1.19.5)\n",
      "Requirement already satisfied: future in /usr/local/lib/python3.6/dist-packages (from hyperopt>=0.1.1->flair) (0.16.0)\n",
      "Requirement already satisfied: scipy in /usr/local/lib/python3.6/dist-packages (from hyperopt>=0.1.1->flair) (1.4.1)\n",
      "Requirement already satisfied: networkx in /usr/local/lib/python3.6/dist-packages (from hyperopt>=0.1.1->flair) (2.5)\n",
      "Requirement already satisfied: six in /usr/local/lib/python3.6/dist-packages (from hyperopt>=0.1.1->flair) (1.15.0)\n",
      "Requirement already satisfied: smart-open>=1.2.1 in /usr/local/lib/python3.6/dist-packages (from gensim<=3.8.3,>=3.4.0->flair) (4.1.0)\n",
      "Requirement already satisfied: joblib>=0.11 in /usr/local/lib/python3.6/dist-packages (from scikit-learn>=0.21.3->flair) (1.0.0)\n",
      "Requirement already satisfied: wrapt<2,>=1.10 in /usr/local/lib/python3.6/dist-packages (from deprecated>=1.2.4->flair) (1.12.1)\n",
      "Requirement already satisfied: requests in /usr/local/lib/python3.6/dist-packages (from gdown->flair) (2.23.0)\n",
      "Requirement already satisfied: kiwisolver>=1.0.1 in /usr/local/lib/python3.6/dist-packages (from matplotlib>=2.2.3->flair) (1.3.1)\n",
      "Requirement already satisfied: pyparsing!=2.0.4,!=2.1.2,!=2.1.6,>=2.0.1 in /usr/local/lib/python3.6/dist-packages (from matplotlib>=2.2.3->flair) (2.4.7)\n",
      "Requirement already satisfied: cycler>=0.10 in /usr/local/lib/python3.6/dist-packages (from matplotlib>=2.2.3->flair) (0.10.0)\n",
      "Requirement already satisfied: typing-extensions in /usr/local/lib/python3.6/dist-packages (from torch>=1.1.0->flair) (3.7.4.3)\n",
      "Requirement already satisfied: dataclasses in /usr/local/lib/python3.6/dist-packages (from torch>=1.1.0->flair) (0.8)\n",
      "Requirement already satisfied: packaging in /usr/local/lib/python3.6/dist-packages (from transformers<=3.5.1,>=3.5.0->flair) (20.8)\n",
      "Requirement already satisfied: tokenizers==0.9.3 in /usr/local/lib/python3.6/dist-packages (from transformers<=3.5.1,>=3.5.0->flair) (0.9.3)\n",
      "Requirement already satisfied: protobuf in /usr/local/lib/python3.6/dist-packages (from transformers<=3.5.1,>=3.5.0->flair) (3.12.4)\n",
      "Requirement already satisfied: sacremoses in /usr/local/lib/python3.6/dist-packages (from transformers<=3.5.1,>=3.5.0->flair) (0.0.43)\n",
      "Requirement already satisfied: filelock in /usr/local/lib/python3.6/dist-packages (from transformers<=3.5.1,>=3.5.0->flair) (3.0.12)\n",
      "Requirement already satisfied: decorator>=4.3.0 in /usr/local/lib/python3.6/dist-packages (from networkx->hyperopt>=0.1.1->flair) (4.4.2)\n",
      "Requirement already satisfied: chardet<4,>=3.0.2 in /usr/local/lib/python3.6/dist-packages (from requests->gdown->flair) (3.0.4)\n",
      "Requirement already satisfied: idna<3,>=2.5 in /usr/local/lib/python3.6/dist-packages (from requests->gdown->flair) (2.10)\n",
      "Requirement already satisfied: certifi>=2017.4.17 in /usr/local/lib/python3.6/dist-packages (from requests->gdown->flair) (2020.12.5)\n",
      "Requirement already satisfied: urllib3!=1.25.0,!=1.25.1,<1.26,>=1.21.1 in /usr/local/lib/python3.6/dist-packages (from requests->gdown->flair) (1.24.3)\n",
      "Requirement already satisfied: setuptools in /usr/local/lib/python3.6/dist-packages (from protobuf->transformers<=3.5.1,>=3.5.0->flair) (51.1.1)\n",
      "Requirement already satisfied: click in /usr/local/lib/python3.6/dist-packages (from sacremoses->transformers<=3.5.1,>=3.5.0->flair) (7.1.2)\n",
      "Requirement already up-to-date: ibm-watson>=4.7.1 in /usr/local/lib/python3.6/dist-packages (5.1.0)\n",
      "Requirement already satisfied, skipping upgrade: ibm-cloud-sdk-core>=3.3.6 in /usr/local/lib/python3.6/dist-packages (from ibm-watson>=4.7.1) (3.3.6)\n",
      "Requirement already satisfied, skipping upgrade: python-dateutil>=2.5.3 in /usr/local/lib/python3.6/dist-packages (from ibm-watson>=4.7.1) (2.8.1)\n",
      "Requirement already satisfied, skipping upgrade: websocket-client==0.48.0 in /usr/local/lib/python3.6/dist-packages (from ibm-watson>=4.7.1) (0.48.0)\n",
      "Requirement already satisfied, skipping upgrade: requests<3.0,>=2.0 in /usr/local/lib/python3.6/dist-packages (from ibm-watson>=4.7.1) (2.23.0)\n",
      "Requirement already satisfied, skipping upgrade: PyJWT<3.0.0,>=2.0.0a1 in /usr/local/lib/python3.6/dist-packages (from ibm-cloud-sdk-core>=3.3.6->ibm-watson>=4.7.1) (2.0.1)\n",
      "Requirement already satisfied, skipping upgrade: six>=1.5 in /usr/local/lib/python3.6/dist-packages (from python-dateutil>=2.5.3->ibm-watson>=4.7.1) (1.15.0)\n",
      "Requirement already satisfied, skipping upgrade: idna<3,>=2.5 in /usr/local/lib/python3.6/dist-packages (from requests<3.0,>=2.0->ibm-watson>=4.7.1) (2.10)\n",
      "Requirement already satisfied, skipping upgrade: chardet<4,>=3.0.2 in /usr/local/lib/python3.6/dist-packages (from requests<3.0,>=2.0->ibm-watson>=4.7.1) (3.0.4)\n",
      "Requirement already satisfied, skipping upgrade: urllib3!=1.25.0,!=1.25.1,<1.26,>=1.21.1 in /usr/local/lib/python3.6/dist-packages (from requests<3.0,>=2.0->ibm-watson>=4.7.1) (1.24.3)\n",
      "Requirement already satisfied, skipping upgrade: certifi>=2017.4.17 in /usr/local/lib/python3.6/dist-packages (from requests<3.0,>=2.0->ibm-watson>=4.7.1) (2020.12.5)\n",
      "Requirement already satisfied: tabulate in /usr/local/lib/python3.6/dist-packages (0.8.7)\n"
     ]
    }
   ],
   "source": [
    "#In this cell we are importing some python packages that we will use for our DATA EXPLORATION\n",
    "\n",
    "import os\n",
    "import json\n",
    "import string\n",
    "import nltk\n",
    "from nltk import word_tokenize, FreqDist\n",
    "import spacy\n",
    "from nltk.corpus import stopwords\n",
    "import pprint\n",
    "\n",
    "#To download an article from the internet\n",
    "from newspaper import Article\n",
    "\n",
    "#To make tables\n",
    "import pandas as pd\n",
    "\n",
    "#Importing some packages that are useful for generating Word Clouds\n",
    "import wordcloud\n",
    "from wordcloud import WordCloud, ImageColorGenerator\n",
    "import matplotlib.pyplot as plt\n",
    "import numpy as np\n",
    "from PIL import Image\n",
    "import urllib\n",
    "\n",
    "#Here we are installing some packages that are not already installed in google colab\n",
    "!pip install newspaper3k\n",
    "!pip install flair\n",
    "!pip install --upgrade \"ibm-watson>=4.7.1\"\n"
   ]
  },
  {
   "cell_type": "code",
   "execution_count": 3,
   "metadata": {
    "colab": {
     "base_uri": "https://localhost:8080/"
    },
    "id": "5Qlu6EW3revE",
    "outputId": "c51382b3-0350-41d5-e83e-158025173e67"
   },
   "outputs": [
    {
     "name": "stdout",
     "output_type": "stream",
     "text": [
      "[nltk_data] Downloading package punkt to /root/nltk_data...\n",
      "[nltk_data]   Unzipping tokenizers/punkt.zip.\n",
      "[nltk_data] Downloading package stopwords to /root/nltk_data...\n",
      "[nltk_data]   Unzipping corpora/stopwords.zip.\n",
      "[nltk_data] Downloading package wordnet to /root/nltk_data...\n",
      "[nltk_data]   Unzipping corpora/wordnet.zip.\n"
     ]
    },
    {
     "data": {
      "text/plain": [
       "True"
      ]
     },
     "execution_count": 3,
     "metadata": {
      "tags": []
     },
     "output_type": "execute_result"
    }
   ],
   "source": [
    "#Here we are downloading some English Grammar related data that we use later\n",
    "nltk.download(\"punkt\")\n",
    "nltk.download(\"stopwords\")\n",
    "nltk.download('wordnet')\n"
   ]
  },
  {
   "cell_type": "markdown",
   "metadata": {
    "id": "VXudVe5r4G1Q"
   },
   "source": [
    "## EXPLORING DATA - A Cursory Look at the Article"
   ]
  },
  {
   "cell_type": "code",
   "execution_count": 4,
   "metadata": {
    "id": "ZPO6S4SCqsfn"
   },
   "outputs": [],
   "source": [
    "vox_article = 'https://www.vox.com/recode/22221173/elon-musk-tesla-foundation-philanthropy-wealthiest-person'\n"
   ]
  },
  {
   "cell_type": "code",
   "execution_count": 5,
   "metadata": {
    "colab": {
     "base_uri": "https://localhost:8080/"
    },
    "id": "43LKKP9hre4f",
    "outputId": "2cf670c9-d1f7-4481-8e20-04f8d52420a3"
   },
   "outputs": [
    {
     "data": {
      "text/plain": [
       "['Theodore Schleifer',\n",
       " 'Nicole Narea',\n",
       " 'Fabiola Cineas',\n",
       " 'Alissa Wilkinson',\n",
       " 'Anya Van Wagtendonk',\n",
       " 'Emily Vanderwerff',\n",
       " 'Jan']"
      ]
     },
     "execution_count": 5,
     "metadata": {
      "tags": []
     },
     "output_type": "execute_result"
    }
   ],
   "source": [
    "#Here we want to get an article from the internet and examine it more closely. \n",
    "#SELECT AN ARTICLE\n",
    "url = vox_article\n",
    "\n",
    "\n",
    "article = Article(url)\n",
    "article.download()\n",
    "article.html\n",
    "article.parse()\n",
    "article.authors"
   ]
  },
  {
   "cell_type": "code",
   "execution_count": 6,
   "metadata": {
    "colab": {
     "base_uri": "https://localhost:8080/"
    },
    "id": "7CFqgSikrfAK",
    "outputId": "f696c6c8-9690-4645-f0bb-cf421f52f551"
   },
   "outputs": [
    {
     "data": {
      "text/plain": [
       "7795"
      ]
     },
     "execution_count": 6,
     "metadata": {
      "tags": []
     },
     "output_type": "execute_result"
    }
   ],
   "source": [
    "#How big is the article?\n",
    "len(article.text)\n"
   ]
  },
  {
   "cell_type": "code",
   "execution_count": 7,
   "metadata": {
    "colab": {
     "base_uri": "https://localhost:8080/"
    },
    "id": "EnKwiEbbrfHX",
    "outputId": "fd874ef0-dd8a-48fe-a045-0ca4c899b9f2"
   },
   "outputs": [
    {
     "name": "stdout",
     "output_type": "stream",
     "text": [
      "['The', 'richest', 'person', 'in', 'the', 'world', 'would', 'like', 'your', 'help', 'giving', 'away', 'his', 'billions', 'of', 'dollars', '.', 'One', 'of', 'the', 'first', 'things', 'that', 'Elon', 'Musk', ',', 'the', 'founder', 'and', 'CEO', 'of', 'Tesla', ',', 'did', 'upon', 'climbing', 'to', 'the', 'top', 'of', 'American', 'capitalism', 'last', 'week', 'was', 'to', 'ask', 'for', 'any', 'advice', 'about', 'how', 'to', 'climb', 'the', 'ranks', 'of', 'philanthropy', '.', 'Now', 'that', 'he', 'has', 'more', 'money', 'than', 'anyone', 'else', 'on', 'the', 'planet', ',', 'Musk', 'is', 'likely', 'to', 'come', 'under', 'far', 'greater', 'scrutiny', 'than', 'he', 'ever', 'has', 'about', 'how', 'he', 'gives', 'it', 'away', '—', 'or', 'doesn', '’', 't', '.', 'Amazon', 'founder', 'Jeff', 'Bezos', ',', 'whom', 'Musk', 'displaced', 'from', 'the', 'top', 'ranking', ',', 'drew', 'more', 'and', 'more', 'negative', 'attention', 'for', 'his', 'penny-pinching', 'philanthropy', 'as', 'he', 'became', 'wealthier', 'and', 'wealthier', ',', 'and', 'Musk', 'will', 'probably', 'encounter', 'a', 'similar', 'dynamic', '.', 'Bezos', 'turned', 'to', 'Twitter', 'for', 'advice', 'as', 'that', 'scrutiny', 'mounted', ',', 'and', 'Musk', 'is', 'following', 'the', 'same', 'playbook', '.', 'Btw', ',', 'critical', 'feedback', 'is', 'always', 'super', 'appreciated', ',', 'as', 'well', 'as', 'ways', 'to', 'donate', 'money', 'that', 'really', 'make', 'a', 'difference', '(', 'way', 'harder', 'than', 'it', 'seems', ')', '—', 'Elon', 'Musk', '(', '@', 'elonmusk', ')', 'January', '8', ',', '2021', 'Musk', '’', 's', 'tweet', 'lays', 'bare', 'two', 'truths', ':', 'He', 'is', 'certainly', 'correct', 'that', 'billionaire', 'philanthropy', 'is', 'difficult', '—', 'many', 'of', 'his', 'fellow', 'tech', 'titans', 'have', 'struggled', 'to', 'give', 'away', 'their', 'money', 'effectively', '.', 'But', 'it', '’', 's', 'also', 'true', 'that', 'many', 'billionaires', 'have', 'declined', 'to', 'give', 'away', 'large', 'amounts', 'of', 'their', 'money', ',', 'partially', 'out', 'of', 'fear', 'of', 'screwing', 'up', 'at', 'making', 'a', 'difference', ',', 'and', 'that', 'describes', 'Musk', '’', 's', 'own', 'giving', 'up', 'to', 'this', 'point', '.', 'Musk', 'has', 'given', 'relatively', 'small', 'amounts', 'of', 'his', 'wealth', ',', 'a', 'history', 'that', 'his', 'tweet', 'and', 'his', 'rise', 'to', 'top-billionaire', 'status', 'is', 'highlighting', '.', 'Musk', '’', 's', 'main', 'charitable', 'vehicle', 'has', 'been', 'the', 'Musk', 'Foundation', ',', 'which', 'he', 'founded', 'in', '2002', '.', 'In', 'an', 'age', 'of', 'philanthropic', 'showmanship', ',', 'the', 'Musk', 'Foundation', 'is', 'almost', 'entertaining', 'in', 'its', 'simplicity', 'and', 'yet', 'is', 'strikingly', 'opaque', ':', 'The', 'entire', 'website', 'is', '33', 'words', 'on', 'a', 'plain-text', 'Yahoo', 'page', 'with', 'no', 'links', ',', 'staff', 'information', ',', 'or', 'contact', 'forms', '(', '“', 'I', 'wrote', 'that', 'masterpiece', 'myself', 'in', 'HTML', '1.0', ',', '”', 'Musk', 'said', 'at', 'one', 'point', '.', ')', 'All', 'that', 'is', 'included', 'is', 'five', 'bullet', 'points', 'outlining', 'the', 'fields', 'that', 'the', 'foundation', 'supports', '.', 'Musk', 'has', 'also', 'signed', 'the', 'Giving', 'Pledge', '—', 'the', 'commitment', 'to', 'give', 'away', 'at', 'least', 'half', 'of', 'one', '’', 's', 'money', 'to', 'charity', '—', 'but', 'he', 'is', 'one', 'of', 'its', 'few', 'signatories', 'not', 'to', 'make', 'their', 'pledge', 'letter', 'publicly', 'available', 'on', 'the', 'program', '’', 's', 'website', '.', 'The', 'main', 'place', 'where', 'Musk', 'has', 'been', 'more', 'voluble', ',', 'naturally', ',', 'is', 'on', 'Twitter', ',', 'where', 'he', 'periodically', 'reveals', 'tidbits', 'about', 'his', 'philanthropic', 'thinking', 'to', 'Tesla', 'fans', 'who', 'beseech', 'him', 'for', 'gifts', 'or', 'details', '.', 'Sometimes', 'he', '’', 'll', 'promise', 'to', 'award', 'money', 'from', 'his', 'foundation', 'to', 'followers', 'who', 'tweet', 'at', 'him', '.', 'Until', '2016', ',', 'Musk', 'gave', 'relatively', 'little', 'money', 'to', 'his', 'foundation', 'which', 'then', 'gave', 'little', 'to', 'nonprofits', ',', 'according', 'to', 'the', 'tax', 'filings', 'that', 'foundations', 'must', 'file', '.', 'Then', 'in', 'May', '2016', ',', 'Musk', 'donated', '$', '250', 'million', 'in', 'Tesla', 'stock', 'to', 'his', 'foundation', ',', 'but', 'that', 'money', 'has', 'also', 'been', 'slow', 'to', 'get', 'out', 'the', 'door', '.', 'So', 'during', 'the', '16-year', 'period', 'between', 'the', 'foundation', '’', 's', 'founding', 'in', '2002', 'and', 'mid-2018', ',', 'the', 'last', 'year', 'on', 'file', ',', 'the', 'philanthropy', 'has', 'only', 'given', 'about', '$', '25', 'million', 'directly', 'to', 'nonprofit', 'groups', ',', 'with', '$', '10', 'million', 'of', 'that', 'going', 'to', 'support', 'OpenAI', ',', 'a', 'nonprofit', 'founded', 'by', 'Musk', 'and', 'entrepreneur', 'Sam', 'Altman', '.', 'After', '2016', ',', 'the', 'foundation', 'routed', 'about', '$', '50', 'million', 'to', 'donor-advised', 'funds', '(', 'DAFs', ')', ',', 'which', 'are', 'separate', 'philanthropic', 'vehicles', 'that', 'don', '’', 't', 'disclose', 'their', 'gifts', 'and', 'also', 'allow', 'foundations', 'to', 'circumvent', 'a', 'requirement', 'to', 'send', '5', 'percent', 'of', 'their', 'assets', 'elsewhere', 'every', 'year', '.', 'A', 'Musk', 'spokesperson', 'told', 'Forbes', 'last', 'year', 'that', 'those', 'DAFs', 'had', 'donated', 'a', 'total', 'of', '$', '75', 'million', 'over', 'their', 'lifetimes', 'to', 'nonprofits', '.', 'That', '$', '75', 'million', ',', 'when', 'combined', 'with', 'his', 'foundation', '’', 's', '$', '25', 'million', 'worth', 'of', 'direct', 'gifts', 'through', '2018', ',', 'means', 'Musk', 'has', 'given', 'away', 'about', '$', '100', 'million', 'to', 'charity', 'through', 'his', 'foundation', 'and', 'his', 'DAFs', '.', '(', 'This', 'figure', 'doesn', '’', 't', 'include', 'money', 'possibly', 'donated', 'by', 'his', 'foundation', 'after', '2018', 'or', 'money', 'donated', 'not', 'through', 'a', 'foundation', 'or', 'DAF', '.', ')', 'That', 'math', 'works', 'out', 'to', 'Musk', 'donating', 'about', '0.05', 'percent', 'of', 'his', 'current', 'net', 'worth', 'to', 'charity', 'so', 'far', '.', 'That', 'figure', 'also', 'tracks', 'with', 'what', 'Musk', 'has', 'said', 'publicly', '—', 'in', '2018', ',', 'he', 'said', 'that', 'he', 'had', 'sold', 'about', '$', '100', 'million', 'worth', 'of', 'Tesla', 'stock', 'to', 'finance', 'his', 'charity', '.', 'Representatives', 'for', 'Musk', 'didn', '’', 't', 'respond', 'to', 'Recode', '’', 's', 'request', 'for', 'comment', '.', 'Because', 'around', 'three-quarters', 'of', 'Musk', '’', 's', 'donations', 'to', 'date', 'have', 'come', 'through', 'DAFs', ',', 'which', 'don', '’', 't', 'have', 'to', 'file', 'similar', 'public', 'tax', 'documents', ',', 'it', 'is', 'harder', 'to', 'track', 'what', 'specific', 'nonprofits', 'he', 'is', 'supporting', '.', 'That', '’', 's', 'somewhat', 'intentional', ':', 'Musk', 'has', 'said', 'his', 'grants', 'are', '“', '(', 'almost', 'always', ')', 'anonymous', ',', '”', 'although', 'that', 'would', 'only', 'be', 'technically', 'true', 'for', 'donations', 'from', 'outside', 'the', 'walls', 'of', 'the', 'foundation', '(', 'though', 'Musk', 'has', 'said', 'incorrectly', 'that', 'his', 'foundation', 'donations', 'are', '“', 'anonymous', ',', '”', 'too', '.', ')', 'There', 'have', 'been', 'some', 'announcements', 'of', 'major', 'gifts', 'from', 'grantees', ',', 'though', '.', 'In', 'addition', 'to', 'the', '$', '10', 'million', 'from', 'the', 'foundation', 'to', 'OpenAI', ',', 'Musk', 'donated', 'at', 'least', '$', '10', 'million', 'to', 'the', 'Future', 'of', 'Life', 'Institute', ',', 'which', 'researches', 'safety', 'in', 'artificial', 'intelligence', ';', '$', '10', 'million', 'for', 'a', 'prize', 'focused', 'on', 'promoting', 'global', 'literacy', ';', 'and', '$', '6', 'million', 'to', 'the', 'Sierra', 'Club', ',', 'a', 'donation', 'that', 'was', 'originally', 'anonymous', 'and', 'then', 'made', 'public', 'after', 'Musk', 'encouraged', 'the', 'organization', 'to', 'do', 'so', '.', 'Musk', 'has', 'also', 'said', 'that', 'he', 'is', '“', 'one', 'of', 'the', 'top', 'donors', '”', 'to', 'the', 'American', 'Civil', 'Liberties', 'Union', ',', 'without', 'disclosing', 'a', 'precise', 'amount', '.', 'But', 'those', 'donations', 'all', 'happened', 'at', 'a', 'quainter', 'time', 'in', 'Musk', '’', 's', 'wealth', 'history', '.', 'Just', 'a', 'year', 'ago', ',', 'Musk', 'was', 'testifying', 'under', 'oath', 'that', 'he', 'was', 'worth', 'about', '$', '20', 'billion', ',', 'although', 'as', 'with', 'other', 'billionaire', 'tech', 'founders', ',', 'most', 'of', 'that', 'money', 'resides', 'in', 'illiquid', 'stock', 'that', 'a', 'CEO', 'is', 'often', 'reluctant', 'to', 'sell', '.', 'Now', 'Bloomberg', 'estimates', 'his', 'net', 'worth', 'as', 'over', '10', 'times', 'that', '.', 'And', 'as', 'he', 'is', 'now', 'the', 'world', '’', 's', 'wealthiest', 'person', ',', 'more', 'eyeballs', 'will', 'be', 'on', 'his', 'every', 'move', '.', 'Progressive', 'activists', 'and', 'politicians', 'have', 'increasingly', 'turned', 'their', 'ire', 'on', 'a', 'few', 'high-profile', 'billionaires', '—', 'sending', 'a', 'guillotine', 'to', 'Bezos', '’', 's', 'mansion', 'at', 'one', 'point', ',', 'for', 'instance', '—', 'as', 'a', 'way', 'to', 'criticize', 'American', 'income', 'inequality', '.', 'Billionaires', ',', 'though', ',', 'have', 'used', 'their', 'philanthropy', 'as', 'a', 'counterargument', 'to', 'higher', 'taxes', 'that', 'would', 'close', 'inequality', ',', 'pointing', 'to', 'the', 'good', 'they', 'are', 'doing', 'today', 'for', 'the', 'world', 'with', 'the', 'fortunes', '.', 'Musk', ',', 'who', 'has', 'bristled', 'at', 'the', 'label', '“', 'billionaire', '”', 'and', 'recently', 'moved', 'himself', 'and', 'his', 'foundation', 'to', 'Texas', ',', 'has', 'said', 'that', 'his', 'big', 'philanthropic', 'investments', 'are', 'still', 'decades', 'away', ',', 'which', 'could', 'frustrate', 'the', 'left', '.', 'The', 'entrepreneur', 'has', 'said', 'that', 'while', 'he', 'would', 'sell', 'some', 'more', 'Tesla', 'shares', '“', 'every', 'few', 'years', '”', 'for', 'philanthropy', ',', '“', 'major', 'disbursements', '”', 'from', 'his', 'charities', 'will', 'only', 'come', 'in', 'about', '20', 'years', ',', '“', 'when', 'Tesla', 'is', 'in', 'steady', 'state.', '”', 'That', 'would', 'be', 'around', 'when', 'Musk', 'is', 'nearing', '70', 'years', 'old', '.', 'But', 'he', 'does', 'appear', 'to', 'have', 'a', 'clear', 'idea', 'of', 'how', 'he', 'wants', 'to', 'spend', 'his', 'fortune', 'at', 'that', 'point', '.', 'He', 'has', 'already', 'outlined', 'two', 'broad', 'buckets', 'for', 'his', 'wealth', ':', 'half', 'for', 'Earth', ',', 'and', 'half', 'for', 'Mars', '.', '“', 'Will', 'use', 'that', 'to', 'make', 'life', 'multiplanetary', ',', 'help', 'education', '&', 'environment', 'on', 'Earth', 'w', 'my', 'foundation', '.', 'Just', 'don', '’', 't', 'want', 'us', 'to', 'be', 'sad', 'about', 'the', 'future', ',', '”', 'he', 'said', 'of', 'his', 'wealth', 'in', '2018', '.', '“', 'About', 'half', 'my', 'money', 'is', 'intended', 'for', 'problems', 'on', 'Earth', ',', 'half', 'to', 'help', 'establish', 'a', 'self-sustaining', 'city', 'on', 'Mars', 'to', 'ensure', 'continuation', 'of', 'life', 'in', 'case', 'we', 'get', 'hit', 'by', 'a', 'meteor', 'or', 'WW3', 'happens', '&', 'we', 'destroy', 'ourselves', ',', '”', 'he', 'told', 'another', 'follower', 'a', 'few', 'months', 'later', '.', 'He', '’', 's', 'already', 'starting', 'to', 'make', 'some', 'more', 'gifts', '.', 'On', 'Friday', ',', 'Barstool', 'Sports', 'announced', 'that', 'Musk', 'had', 'made', 'a', 'fund', 'that', 'it', 'organized', 'to', 'support', 'by', 'Barstool', 'Sports', 'for', 'small', 'businesses', '.', 'Musk', 'is', 'not', 'as', 'showy', 'with', 'his', 'material', 'comforts', 'as', 'other', 'tech', 'billionaires', '—', 'he', 'is', 'in', 'the', 'process', 'of', 'selling', 'all', 'of', 'his', 'homes', ',', 'and', 'has', 'not', 'displayed', 'the', 'same', 'taste', 'for', 'yachts', 'or', 'other', 'trifles', '.', 'From', 'Musk', '’', 's', 'point', 'of', 'view', ',', 'he', '’', 's', 'saving', 'up', '.', '“', 'It', '’', 's', 'going', 'to', 'take', 'a', 'lot', 'of', 'resources', 'to', 'build', 'a', 'city', 'on', 'Mars', ',', '”', 'he', 'told', 'an', 'interviewer', 'last', 'month', '.', '“', 'I', 'want', 'to', 'be', 'able', 'to', 'contribute', 'as', 'much', 'as', 'possible', '.', '”']\n"
     ]
    }
   ],
   "source": [
    "# What are all the pieces of words or punctuations in the text?\n",
    "tokens = word_tokenize(article.text)\n",
    "print(tokens)\n"
   ]
  },
  {
   "cell_type": "code",
   "execution_count": 8,
   "metadata": {
    "colab": {
     "base_uri": "https://localhost:8080/"
    },
    "id": "lJJeaI4PrfN4",
    "outputId": "84f70a44-d7e7-4f4e-9f75-e029251a74bf"
   },
   "outputs": [
    {
     "name": "stdout",
     "output_type": "stream",
     "text": [
      "1545\n",
      "# of Unique tokens 572\n",
      "# of tokens / len of unique tokens 2.7010489510489513\n"
     ]
    }
   ],
   "source": [
    "#How many unique words and single char words exist\n",
    "print(len(tokens))\n",
    "unique = set(tokens)\n",
    "print('# of Unique tokens',len(unique))\n",
    "print('# of tokens / len of unique tokens',len(tokens)/len(unique))"
   ]
  },
  {
   "cell_type": "code",
   "execution_count": 9,
   "metadata": {
    "colab": {
     "base_uri": "https://localhost:8080/"
    },
    "id": "tnft7v0ZrfVm",
    "outputId": "b3bdea75-8498-41ba-d22d-6758eb0bc386"
   },
   "outputs": [
    {
     "name": "stdout",
     "output_type": "stream",
     "text": [
      "22\n"
     ]
    },
    {
     "data": {
      "text/plain": [
       "['@',\n",
       " '“',\n",
       " ')',\n",
       " '’',\n",
       " 't',\n",
       " 'w',\n",
       " ':',\n",
       " '&',\n",
       " 'I',\n",
       " '$',\n",
       " '(',\n",
       " '8',\n",
       " '—',\n",
       " '6',\n",
       " 's',\n",
       " '5',\n",
       " 'a',\n",
       " ';',\n",
       " '”',\n",
       " 'A',\n",
       " '.',\n",
       " ',']"
      ]
     },
     "execution_count": 9,
     "metadata": {
      "tags": []
     },
     "output_type": "execute_result"
    }
   ],
   "source": [
    "#Lets just look at \"tokens\" of a certain length\n",
    "sorted(unique)\n",
    "single=[w for w in unique if len(w) == 1 ]\n",
    "print(len(single))\n",
    "single"
   ]
  },
  {
   "cell_type": "code",
   "execution_count": 10,
   "metadata": {
    "colab": {
     "base_uri": "https://localhost:8080/"
    },
    "id": "yMURej7MzmWr",
    "outputId": "cc45c067-59fe-410c-f114-1b933fe37246"
   },
   "outputs": [
    {
     "data": {
      "text/plain": [
       "FreqDist({1: 22,\n",
       "          2: 33,\n",
       "          3: 57,\n",
       "          4: 98,\n",
       "          5: 78,\n",
       "          6: 69,\n",
       "          7: 60,\n",
       "          8: 51,\n",
       "          9: 39,\n",
       "          10: 24,\n",
       "          11: 17,\n",
       "          12: 13,\n",
       "          13: 4,\n",
       "          14: 3,\n",
       "          15: 4})"
      ]
     },
     "execution_count": 10,
     "metadata": {
      "tags": []
     },
     "output_type": "execute_result"
    }
   ],
   "source": [
    "# How long are the words?\n",
    "fd_wlen = nltk.FreqDist([len(w) for w in unique])\n",
    "fd_wlen"
   ]
  },
  {
   "cell_type": "code",
   "execution_count": 11,
   "metadata": {
    "colab": {
     "base_uri": "https://localhost:8080/",
     "height": 332
    },
    "id": "pmzFc7t5z6kw",
    "outputId": "cea2e151-3d56-44e8-8cf2-b0c8a01d71f2"
   },
   "outputs": [
    {
     "data": {
      "image/png": "[encoded data removed]",
      "text/plain": [
       "<Figure size 432x288 with 1 Axes>"
      ]
     },
     "metadata": {
      "needs_background": "light",
      "tags": []
     },
     "output_type": "display_data"
    }
   ],
   "source": [
    "#text preprocessing: remove punctuations\n",
    "tokens_nop = [ t for t in tokens if t not in string.punctuation + \"\".join(['’' , '“', '”' , '—']) ]\n",
    "tokens_nop\n",
    "\n",
    "# Convert all characters to Lower case\n",
    "tokens_lower=[ t.lower() for t in tokens_nop ]\n",
    "\n",
    "# Create a stopword list from the standard list of stopwords available in nltk\n",
    "stop = stopwords.words('english')\n",
    "\n",
    "# Remove all these stopwords from the text\n",
    "tokens_nostop=[ t for t in tokens_lower if t not in stop ]\n",
    "\n",
    "#remove number like characters \n",
    "tokens_nostop = [x for x in tokens_nostop if not any(c.isdigit() for c in x)]\n",
    "\n",
    "# Frequency distribution of the most common words\n",
    "%matplotlib inline\n",
    "tokens.count('')\n",
    "fd = nltk.FreqDist(tokens_nostop)\n",
    "fd.most_common(10)\n",
    "fd.plot(10)"
   ]
  },
  {
   "cell_type": "code",
   "execution_count": 12,
   "metadata": {
    "colab": {
     "base_uri": "https://localhost:8080/"
    },
    "id": "kp0H-Cf3zzJ5",
    "outputId": "34da5354-0683-4108-b1b7-7d7f54bc4a5a"
   },
   "outputs": [
    {
     "name": "stdout",
     "output_type": "stream",
     "text": [
      "['richest', 'person', 'world', 'would', 'like', 'help', 'give', 'away', 'billion', 'dollar']\n"
     ]
    }
   ],
   "source": [
    "# The snowball stemmer -  which supports 13 non-English languages as well!\n",
    "snowball = nltk.SnowballStemmer('english')\n",
    "tokens_snow = [ snowball.stem(t) for t in tokens_nostop ]\n",
    "print(tokens_snow[:10])"
   ]
  },
  {
   "cell_type": "code",
   "execution_count": 13,
   "metadata": {
    "id": "GeJD0ne0BB7J"
   },
   "outputs": [],
   "source": []
  },
  {
   "cell_type": "code",
   "execution_count": 14,
   "metadata": {
    "colab": {
     "base_uri": "https://localhost:8080/",
     "height": 198
    },
    "id": "zCn1GLJvBDLH",
    "outputId": "fe1ce2c6-2b39-40c9-f4c5-a647fd6a5bfa"
   },
   "outputs": [
    {
     "data": {
      "image/png": "[encoded data removed]",
      "text/plain": [
       "<Figure size 432x288 with 1 Axes>"
      ]
     },
     "metadata": {
      "needs_background": "light",
      "tags": []
     },
     "output_type": "display_data"
    }
   ],
   "source": [
    "# Let's use Snowball Stemmer's result.\n",
    "# Further cleaning: filter off anything with less than 3 characters\n",
    "nltk.FreqDist(tokens_snow).most_common(100)\n",
    "tokens_clean = [ t for t in tokens_snow if len(t) >= 3 ]\n",
    "len(tokens_snow)\n",
    "len(tokens_clean)\n",
    "nltk.FreqDist(tokens_clean).most_common(50)\n",
    "fd_clean = nltk.FreqDist(tokens_clean)\n",
    "text_clean=\" \".join(tokens_clean)\n",
    "\n",
    "wc = WordCloud(background_color=\"white\").generate(text_clean)\n",
    "\n",
    "plt.imshow(wc, interpolation='bilinear')\n",
    "plt.axis(\"off\")\n",
    "plt.show()"
   ]
  },
  {
   "cell_type": "markdown",
   "metadata": {
    "id": "xIzxEm3i4ARf"
   },
   "source": [
    "##NAMED ENTITY RECOGNITION - How to Recognize Other Details Mentioned about the Client\n"
   ]
  },
  {
   "cell_type": "code",
   "execution_count": 15,
   "metadata": {
    "colab": {
     "base_uri": "https://localhost:8080/"
    },
    "collapsed": true,
    "id": "gR0u6WPeuYsX",
    "outputId": "ec46101f-2689-4a2e-9117-53dd8b6e977d"
   },
   "outputs": [
    {
     "name": "stdout",
     "output_type": "stream",
     "text": [
      "Elon PROPN compound\n",
      "Musk PROPN nsubj\n",
      "first ADV advmod\n",
      "passed VERB ROOT\n",
      "Bezos PROPN dobj\n",
      "to PART aux\n",
      "claim VERB advcl\n",
      "the DET det\n",
      "title NOUN dobj\n",
      "of ADP prep\n",
      "world NOUN pobj\n",
      "’s PART punct\n",
      "richest ADJ amod\n",
      "person NOUN appos\n",
      "last ADJ amod\n",
      "Friday PROPN npadvmod\n",
      ", PUNCT punct\n",
      "but CCONJ cc\n",
      "then ADV advmod\n",
      "dropped VERB conj\n",
      "to ADP prep\n",
      "the DET det\n",
      "No NOUN dep\n",
      ". NOUN nmod\n",
      "two NUM nummod\n",
      "spot NOUN pobj\n",
      "on ADP prep\n",
      "Monday PROPN pobj\n",
      "as SCONJ mark\n",
      "Tesla PROPN compound\n",
      "shares NOUN nsubj\n",
      "fell VERB advcl\n",
      "nearly ADV advmod\n",
      "8 NUM nummod\n",
      "% NOUN npadvmod\n",
      ". PUNCT punct\n"
     ]
    }
   ],
   "source": [
    "#Lets now look at the Grammatical Structure of ONE sentence from the article\n",
    "nlp = spacy.load(\"en_core_web_sm\")\n",
    "doc =  nlp(\"Elon Musk first passed Bezos to claim the title of world’s richest person last Friday, but then dropped to the No. two spot on Monday as Tesla shares fell nearly 8%.\")\n",
    "for token in doc:\n",
    "    print(token.text, token.pos_, token.dep_)"
   ]
  },
  {
   "cell_type": "code",
   "execution_count": 28,
   "metadata": {
    "colab": {
     "base_uri": "https://localhost:8080/"
    },
    "id": "YAIiJpJpvCIN",
    "outputId": "4f7230ad-9c5d-4915-ba2f-3a082eb4e04f"
   },
   "outputs": [
    {
     "name": "stdout",
     "output_type": "stream",
     "text": [
      "Elon Musk -- PERSON\n",
      "Bezos -- PERSON\n",
      "last Friday -- DATE\n",
      "two -- CARDINAL\n",
      "Monday -- DATE\n",
      "Tesla -- ORG\n",
      "nearly 8% -- PERCENT\n"
     ]
    }
   ],
   "source": [
    "for ent in doc.ents:\n",
    "    print(ent.text,\"--\", ent.label_)"
   ]
  },
  {
   "cell_type": "markdown",
   "metadata": {
    "id": "H76JPLHGuYsd"
   },
   "source": [
    "##NOUN CHUNK & SVO - Let's Now Extract Some more Information on the Client\n"
   ]
  },
  {
   "cell_type": "code",
   "execution_count": 32,
   "metadata": {
    "colab": {
     "base_uri": "https://localhost:8080/",
     "height": 142
    },
    "id": "IGIXUFubuYse",
    "outputId": "d4060aaa-eff6-49b1-812e-75015b7d8a5b"
   },
   "outputs": [
    {
     "data": {
      "text/html": [
       "<div>\n",
       "<style scoped>\n",
       "    .dataframe tbody tr th:only-of-type {\n",
       "        vertical-align: middle;\n",
       "    }\n",
       "\n",
       "    .dataframe tbody tr th {\n",
       "        vertical-align: top;\n",
       "    }\n",
       "\n",
       "    .dataframe thead th {\n",
       "        text-align: right;\n",
       "    }\n",
       "</style>\n",
       "<table border=\"1\" class=\"dataframe\">\n",
       "  <thead>\n",
       "    <tr style=\"text-align: right;\">\n",
       "      <th></th>\n",
       "      <th>Elon Musk</th>\n",
       "      <th>Bezos</th>\n",
       "      <th>the title</th>\n",
       "      <th>world</th>\n",
       "      <th>richest person</th>\n",
       "      <th>the No. two spot</th>\n",
       "      <th>Monday</th>\n",
       "      <th>Tesla shares</th>\n",
       "    </tr>\n",
       "  </thead>\n",
       "  <tbody>\n",
       "    <tr>\n",
       "      <th>Root</th>\n",
       "      <td>Musk</td>\n",
       "      <td>Bezos</td>\n",
       "      <td>title</td>\n",
       "      <td>world</td>\n",
       "      <td>person</td>\n",
       "      <td>spot</td>\n",
       "      <td>Monday</td>\n",
       "      <td>shares</td>\n",
       "    </tr>\n",
       "    <tr>\n",
       "      <th>Dep_</th>\n",
       "      <td>nsubj</td>\n",
       "      <td>dobj</td>\n",
       "      <td>dobj</td>\n",
       "      <td>pobj</td>\n",
       "      <td>appos</td>\n",
       "      <td>pobj</td>\n",
       "      <td>pobj</td>\n",
       "      <td>nsubj</td>\n",
       "    </tr>\n",
       "    <tr>\n",
       "      <th>Head_Text</th>\n",
       "      <td>passed</td>\n",
       "      <td>passed</td>\n",
       "      <td>claim</td>\n",
       "      <td>of</td>\n",
       "      <td>title</td>\n",
       "      <td>to</td>\n",
       "      <td>on</td>\n",
       "      <td>fell</td>\n",
       "    </tr>\n",
       "  </tbody>\n",
       "</table>\n",
       "</div>"
      ],
      "text/plain": [
       "          Elon Musk   Bezos the title  ... the No. two spot  Monday Tesla shares\n",
       "Root           Musk   Bezos     title  ...             spot  Monday       shares\n",
       "Dep_          nsubj    dobj      dobj  ...             pobj    pobj        nsubj\n",
       "Head_Text    passed  passed     claim  ...               to      on         fell\n",
       "\n",
       "[3 rows x 8 columns]"
      ]
     },
     "execution_count": 32,
     "metadata": {
      "tags": []
     },
     "output_type": "execute_result"
    }
   ],
   "source": [
    "sentence_dict = {}\n",
    "for chunk in doc.noun_chunks:\n",
    "    sentence_dict[chunk.text] = [chunk.root.text, chunk.root.dep_,chunk.root.head.text]\n",
    "pd.DataFrame(sentence_dict, index = [\"Root\", \"Dep_\", \"Head_Text\"])"
   ]
  },
  {
   "cell_type": "code",
   "execution_count": 18,
   "metadata": {
    "id": "4LQ7Ul4guYsf"
   },
   "outputs": [],
   "source": [
    "# object and subject constants\n",
    "OBJECT_DEPS = {\"dobj\", \"dative\", \"attr\", \"oprd\"}\n",
    "SUBJECT_DEPS = {\"nsubj\", \"nsubjpass\", \"csubj\", \"agent\", \"expl\"}\n",
    "# tags that define wether the word is wh-\n",
    "WH_WORDS = {\"WP\", \"WP$\", \"WRB\"}\n",
    "\n",
    "# extract the subject, object and verb from the input\n",
    "def extract_svo(doc):\n",
    "    sub = []\n",
    "    at = []\n",
    "    ve = []\n",
    "    for token in doc:\n",
    "        # is this a verb?\n",
    "        if token.pos_ == \"VERB\":\n",
    "            ve.append(token.text)\n",
    "        # is this the object?\n",
    "        if token.dep_ in OBJECT_DEPS or token.head.dep_ in OBJECT_DEPS:\n",
    "            at.append(token.text)\n",
    "        # is this the subject?\n",
    "        if token.dep_ in SUBJECT_DEPS or token.head.dep_ in SUBJECT_DEPS:\n",
    "            sub.append(token.text)\n",
    "    return \" \".join(sub).strip().lower(), \" \".join(ve).strip().lower(), \" \".join(at).strip().lower()\n",
    "\n",
    "def is_question(doc):\n",
    "    # is the first token a verb?\n",
    "    if len(doc) > 0 and doc[0].pos_ == \"VERB\":\n",
    "        return True, \"\"\n",
    "    # go over all words\n",
    "    for token in doc:\n",
    "        # is it a wh- word?\n",
    "        if token.tag_ in WH_WORDS:\n",
    "            return True, token.text.lower()\n",
    "    return False, \"\""
   ]
  },
  {
   "cell_type": "code",
   "execution_count": 19,
   "metadata": {
    "collapsed": true,
    "id": "2Q00-eZsuYsf"
   },
   "outputs": [],
   "source": [
    "subject_words, verb_words, object_words = extract_svo(doc)"
   ]
  },
  {
   "cell_type": "code",
   "execution_count": 20,
   "metadata": {
    "colab": {
     "base_uri": "https://localhost:8080/",
     "height": 35
    },
    "collapsed": true,
    "id": "rlpB_iH1uYsf",
    "outputId": "9b7299d9-e588-4810-f735-435e365b619a"
   },
   "outputs": [
    {
     "data": {
      "application/vnd.google.colaboratory.intrinsic+json": {
       "type": "string"
      },
      "text/plain": [
       "'elon musk tesla shares'"
      ]
     },
     "execution_count": 20,
     "metadata": {
      "tags": []
     },
     "output_type": "execute_result"
    }
   ],
   "source": [
    "subject_words"
   ]
  },
  {
   "cell_type": "code",
   "execution_count": 21,
   "metadata": {
    "colab": {
     "base_uri": "https://localhost:8080/",
     "height": 35
    },
    "id": "1xV2L2W4w-dK",
    "outputId": "99de51a4-25ed-49c8-a833-8a62fdad9649"
   },
   "outputs": [
    {
     "data": {
      "application/vnd.google.colaboratory.intrinsic+json": {
       "type": "string"
      },
      "text/plain": [
       "'passed claim dropped fell'"
      ]
     },
     "execution_count": 21,
     "metadata": {
      "tags": []
     },
     "output_type": "execute_result"
    }
   ],
   "source": [
    "verb_words"
   ]
  },
  {
   "cell_type": "code",
   "execution_count": 22,
   "metadata": {
    "colab": {
     "base_uri": "https://localhost:8080/",
     "height": 35
    },
    "id": "w-qY-WmixBIA",
    "outputId": "348a9f02-96f2-4fbf-bd55-ce422b3c563c"
   },
   "outputs": [
    {
     "data": {
      "application/vnd.google.colaboratory.intrinsic+json": {
       "type": "string"
      },
      "text/plain": [
       "'bezos the title of ’s person'"
      ]
     },
     "execution_count": 22,
     "metadata": {
      "tags": []
     },
     "output_type": "execute_result"
    }
   ],
   "source": [
    "object_words"
   ]
  },
  {
   "cell_type": "markdown",
   "metadata": {
    "id": "o2ZrawNx3c6A"
   },
   "source": [
    "##SENTIMENT ANALYSIS\n"
   ]
  },
  {
   "cell_type": "code",
   "execution_count": 33,
   "metadata": {
    "colab": {
     "base_uri": "https://localhost:8080/"
    },
    "id": "unbfnO92xJdt",
    "outputId": "41e4b35e-bb3d-433a-eb2a-a13fa6e0af5a"
   },
   "outputs": [
    {
     "name": "stdout",
     "output_type": "stream",
     "text": [
      "2021-01-19 04:18:25,200 loading file /root/.flair/models/sentiment-en-mix-distillbert_3.1.pt\n",
      "\n",
      " Elon Musk first passed Bezos to claim the title of world’s richest person last Friday, but then dropped to the No. two spot on Monday as Tesla shares fell nearly 8%. \n",
      "\n",
      "The sentence is: [NEGATIVE (0.9995)]\n"
     ]
    }
   ],
   "source": [
    "#Lets now check if the sentence we selected has a \"positive\" or \"negative\" sentiment\n",
    "\n",
    "\n",
    "from flair.models import TextClassifier\n",
    "from flair.data import Sentence\n",
    "\n",
    "classifier = TextClassifier.load('en-sentiment')\n",
    "sentence = Sentence(doc.text)\n",
    "classifier.predict(sentence)\n",
    "\n",
    "print(\"\\n\", doc.text, \"\\n\")\n",
    "\n",
    "print('The sentence is:', sentence.labels)\n",
    "\n",
    "\n"
   ]
  },
  {
   "cell_type": "code",
   "execution_count": 24,
   "metadata": {
    "colab": {
     "base_uri": "https://localhost:8080/"
    },
    "id": "Trz4uAGI0H7s",
    "outputId": "d33279e4-7ad5-420c-cb89-02adf4b0e918"
   },
   "outputs": [
    {
     "name": "stdout",
     "output_type": "stream",
     "text": [
      "Elon Musk first passed Bezos to claim the title of world’s richest person last Friday, but then dropped to the No. two spot on Monday as Tesla shares fell nearly 8%. \n",
      "\n",
      "{   'document_tone': {   'tones': [   {   'score': 0.567827,\n",
      "                                          'tone_id': 'sadness',\n",
      "                                          'tone_name': 'Sadness'}]}}\n"
     ]
    }
   ],
   "source": [
    "#To get more information other than just positive or negative, we can use a full-flegged tone analysis API from IBM\n",
    "\n",
    "from ibm_watson import ToneAnalyzerV3\n",
    "from ibm_cloud_sdk_core.authenticators import IAMAuthenticator\n",
    "\n",
    "authenticator = IAMAuthenticator('ElQoBZw54M3T7MguJWppYjUj2DN9uYyiomhpCaa4pkB0')\n",
    "version = '2021-01-18'\n",
    "tone_analyzer = ToneAnalyzerV3(\n",
    "    version=version,\n",
    "    authenticator=authenticator\n",
    ")\n",
    "\n",
    "tone_analyzer.set_service_url('https://api.us-south.tone-analyzer.watson.cloud.ibm.com/instances/133fb2cc-0314-48b9-b027-c4965e15bd56')\n",
    "\n",
    "\n",
    "result = tone_analyzer.tone(\n",
    "    doc.text,\n",
    "    content_type='text/plain;charset=utf-8', \n",
    "    content_language = 'en'\n",
    ").get_result()\n",
    "\n",
    "print(doc.text, \"\\n\")\n",
    "\n",
    "pp =pprint.PrettyPrinter(indent = 4)\n",
    "pp.pprint(result)"
   ]
  },
  {
   "cell_type": "code",
   "execution_count": 25,
   "metadata": {
    "colab": {
     "base_uri": "https://localhost:8080/"
    },
    "id": "5vyZQUP5-Q_d",
    "outputId": "4955540c-b897-48dd-ecb6-5b90f88d06f0"
   },
   "outputs": [
    {
     "name": "stdout",
     "output_type": "stream",
     "text": [
      "{   'document_tone': {   'tones': [   {   'score': 0.574646,\n",
      "                                          'tone_id': 'sadness',\n",
      "                                          'tone_name': 'Sadness'},\n",
      "                                      {   'score': 0.604453,\n",
      "                                          'tone_id': 'joy',\n",
      "                                          'tone_name': 'Joy'},\n",
      "                                      {   'score': 0.652251,\n",
      "                                          'tone_id': 'analytical',\n",
      "                                          'tone_name': 'Analytical'},\n",
      "                                      {   'score': 0.558428,\n",
      "                                          'tone_id': 'tentative',\n",
      "                                          'tone_name': 'Tentative'}]},\n",
      "    'sentences_tone': [   {   'sentence_id': 0,\n",
      "                              'text': 'The richest person in the world would '\n",
      "                                      'like your help giving away his billions '\n",
      "                                      'of dollars.',\n",
      "                              'tones': [   {   'score': 0.712201,\n",
      "                                               'tone_id': 'joy',\n",
      "                                               'tone_name': 'Joy'}]},\n",
      "                          {   'sentence_id': 1,\n",
      "                              'text': 'One of the first things that Elon Musk, '\n",
      "                                      'the founder and CEO of Tesla, did upon '\n",
      "                                      'climbing to the top of American '\n",
      "                                      'capitalism last week was to ask for any '\n",
      "                                      'advice about how to climb the ranks of '\n",
      "                                      'philanthropy.',\n",
      "                              'tones': [   {   'score': 0.527318,\n",
      "                                               'tone_id': 'analytical',\n",
      "                                               'tone_name': 'Analytical'}]},\n",
      "                          {   'sentence_id': 2,\n",
      "                              'text': 'Now that he has more money than anyone '\n",
      "                                      'else on the planet, Musk is likely to '\n",
      "                                      'come under far greater scrutiny than he '\n",
      "                                      'ever has about how he gives it away — '\n",
      "                                      'or doesn’t.',\n",
      "                              'tones': [   {   'score': 0.786991,\n",
      "                                               'tone_id': 'tentative',\n",
      "                                               'tone_name': 'Tentative'}]},\n",
      "                          {   'sentence_id': 3,\n",
      "                              'text': 'Amazon founder Jeff Bezos, whom Musk '\n",
      "                                      'displaced from the top ranking, drew '\n",
      "                                      'more and more negative attention for '\n",
      "                                      'his penny-pinching philanthropy as he '\n",
      "                                      'became wealthier and wealthier, and '\n",
      "                                      'Musk will probably encounter a similar '\n",
      "                                      'dynamic.',\n",
      "                              'tones': [   {   'score': 0.560098,\n",
      "                                               'tone_id': 'analytical',\n",
      "                                               'tone_name': 'Analytical'}]},\n",
      "                          {   'sentence_id': 4,\n",
      "                              'text': 'Bezos turned to Twitter for advice as '\n",
      "                                      'that scrutiny mounted, and Musk is '\n",
      "                                      'following the same playbook.',\n",
      "                              'tones': []},\n",
      "                          {   'sentence_id': 5,\n",
      "                              'text': 'Btw, critical feedback is always super '\n",
      "                                      'appreciated, as well as ways to donate '\n",
      "                                      'money that really make a difference '\n",
      "                                      '(way harder than it seems) — Elon Musk '\n",
      "                                      '(@elonmusk) January 8, 2021',\n",
      "                              'tones': [   {   'score': 0.555297,\n",
      "                                               'tone_id': 'joy',\n",
      "                                               'tone_name': 'Joy'}]},\n",
      "                          {'sentence_id': 6, 'text': '', 'tones': []},\n",
      "                          {   'sentence_id': 7,\n",
      "                              'text': 'Musk’s tweet lays bare two truths: He '\n",
      "                                      'is certainly correct that billionaire '\n",
      "                                      'philanthropy is difficult — many of his '\n",
      "                                      'fellow tech titans have struggled to '\n",
      "                                      'give away their money effectively.',\n",
      "                              'tones': [   {   'score': 0.74055,\n",
      "                                               'tone_id': 'sadness',\n",
      "                                               'tone_name': 'Sadness'},\n",
      "                                           {   'score': 0.762356,\n",
      "                                               'tone_id': 'analytical',\n",
      "                                               'tone_name': 'Analytical'},\n",
      "                                           {   'score': 0.751512,\n",
      "                                               'tone_id': 'confident',\n",
      "                                               'tone_name': 'Confident'}]},\n",
      "                          {   'sentence_id': 8,\n",
      "                              'text': 'But it’s also true that many '\n",
      "                                      'billionaires have declined to give away '\n",
      "                                      'large amounts of their money, partially '\n",
      "                                      'out of fear of screwing up at making a '\n",
      "                                      'difference, and that describes Musk’s '\n",
      "                                      'own giving up to this point.',\n",
      "                              'tones': [   {   'score': 0.726439,\n",
      "                                               'tone_id': 'fear',\n",
      "                                               'tone_name': 'Fear'}]},\n",
      "                          {   'sentence_id': 9,\n",
      "                              'text': 'Musk has given relatively small amounts '\n",
      "                                      'of his wealth, a history that his tweet '\n",
      "                                      'and his rise to top-billionaire status '\n",
      "                                      'is highlighting.',\n",
      "                              'tones': [   {   'score': 0.638776,\n",
      "                                               'tone_id': 'joy',\n",
      "                                               'tone_name': 'Joy'}]},\n",
      "                          {   'sentence_id': 10,\n",
      "                              'text': 'Musk’s main charitable vehicle has been '\n",
      "                                      'the Musk Foundation, which he founded '\n",
      "                                      'in 2002.',\n",
      "                              'tones': [   {   'score': 0.801827,\n",
      "                                               'tone_id': 'analytical',\n",
      "                                               'tone_name': 'Analytical'}]},\n",
      "                          {   'sentence_id': 11,\n",
      "                              'text': 'In an age of philanthropic showmanship, '\n",
      "                                      'the Musk Foundation is almost '\n",
      "                                      'entertaining in its simplicity and yet '\n",
      "                                      'is strikingly opaque: The entire '\n",
      "                                      'website is 33 words on a plain-text '\n",
      "                                      'Yahoo page with no links, staff '\n",
      "                                      'information, or contact forms (“I wrote '\n",
      "                                      'that masterpiece myself in HTML 1.0,” '\n",
      "                                      'Musk said at one point.)',\n",
      "                              'tones': [   {   'score': 0.612825,\n",
      "                                               'tone_id': 'analytical',\n",
      "                                               'tone_name': 'Analytical'}]},\n",
      "                          {   'sentence_id': 12,\n",
      "                              'text': 'All that is included is five bullet '\n",
      "                                      'points outlining the fields that the '\n",
      "                                      'foundation supports.',\n",
      "                              'tones': [   {   'score': 0.532616,\n",
      "                                               'tone_id': 'analytical',\n",
      "                                               'tone_name': 'Analytical'},\n",
      "                                           {   'score': 0.727798,\n",
      "                                               'tone_id': 'confident',\n",
      "                                               'tone_name': 'Confident'}]},\n",
      "                          {   'sentence_id': 13,\n",
      "                              'text': 'Musk has also signed the Giving Pledge '\n",
      "                                      '— the commitment to give away at least '\n",
      "                                      'half of one’s money to charity — but he '\n",
      "                                      'is one of its few signatories not to '\n",
      "                                      'make their pledge letter publicly '\n",
      "                                      'available on the program’s website.',\n",
      "                              'tones': [   {   'score': 0.515794,\n",
      "                                               'tone_id': 'sadness',\n",
      "                                               'tone_name': 'Sadness'}]},\n",
      "                          {   'sentence_id': 14,\n",
      "                              'text': 'The main place where Musk has been more '\n",
      "                                      'voluble, naturally, is on Twitter, '\n",
      "                                      'where he periodically reveals tidbits '\n",
      "                                      'about his philanthropic thinking to '\n",
      "                                      'Tesla fans who beseech him for gifts or '\n",
      "                                      'details.',\n",
      "                              'tones': [   {   'score': 0.69426,\n",
      "                                               'tone_id': 'joy',\n",
      "                                               'tone_name': 'Joy'}]},\n",
      "                          {   'sentence_id': 15,\n",
      "                              'text': 'Sometimes he’ll promise to award money '\n",
      "                                      'from his foundation to followers who '\n",
      "                                      'tweet at him.',\n",
      "                              'tones': [   {   'score': 0.574204,\n",
      "                                               'tone_id': 'joy',\n",
      "                                               'tone_name': 'Joy'},\n",
      "                                           {   'score': 0.532616,\n",
      "                                               'tone_id': 'analytical',\n",
      "                                               'tone_name': 'Analytical'},\n",
      "                                           {   'score': 0.647986,\n",
      "                                               'tone_id': 'tentative',\n",
      "                                               'tone_name': 'Tentative'}]},\n",
      "                          {   'sentence_id': 16,\n",
      "                              'text': 'Until 2016, Musk gave relatively little '\n",
      "                                      'money to his foundation which then gave '\n",
      "                                      'little to nonprofits, according to the '\n",
      "                                      'tax filings that foundations must file.',\n",
      "                              'tones': [   {   'score': 0.907142,\n",
      "                                               'tone_id': 'analytical',\n",
      "                                               'tone_name': 'Analytical'}]},\n",
      "                          {   'sentence_id': 17,\n",
      "                              'text': 'Then in May 2016, Musk donated $250 '\n",
      "                                      'million in Tesla stock to his '\n",
      "                                      'foundation, but that money has also '\n",
      "                                      'been slow to get out the door.',\n",
      "                              'tones': []},\n",
      "                          {   'sentence_id': 18,\n",
      "                              'text': 'So during the 16-year period between '\n",
      "                                      'the foundation’s founding in 2002 and '\n",
      "                                      'mid-2018, the last year on file, the '\n",
      "                                      'philanthropy has only given about $25 '\n",
      "                                      'million directly to nonprofit groups, '\n",
      "                                      'with $10 million of that going to '\n",
      "                                      'support OpenAI, a nonprofit founded by '\n",
      "                                      'Musk and entrepreneur Sam Altman.',\n",
      "                              'tones': [   {   'score': 0.641492,\n",
      "                                               'tone_id': 'joy',\n",
      "                                               'tone_name': 'Joy'}]},\n",
      "                          {   'sentence_id': 19,\n",
      "                              'text': 'After 2016, the foundation routed about '\n",
      "                                      '$50 million to donor-advised funds '\n",
      "                                      '(DAFs), which are separate '\n",
      "                                      'philanthropic vehicles that don’t '\n",
      "                                      'disclose their gifts and also allow '\n",
      "                                      'foundations to circumvent a requirement '\n",
      "                                      'to send 5 percent of their assets '\n",
      "                                      'elsewhere every year.',\n",
      "                              'tones': [   {   'score': 0.762356,\n",
      "                                               'tone_id': 'analytical',\n",
      "                                               'tone_name': 'Analytical'}]},\n",
      "                          {   'sentence_id': 20,\n",
      "                              'text': 'A Musk spokesperson told Forbes last '\n",
      "                                      'year that those DAFs had donated a '\n",
      "                                      'total of $75 million over their '\n",
      "                                      'lifetimes to nonprofits.',\n",
      "                              'tones': []},\n",
      "                          {   'sentence_id': 21,\n",
      "                              'text': 'That $75 million, when combined with '\n",
      "                                      'his foundation’s $25 million worth of '\n",
      "                                      'direct gifts through 2018, means Musk '\n",
      "                                      'has given away about $100 million to '\n",
      "                                      'charity through his foundation and his '\n",
      "                                      'DAFs.',\n",
      "                              'tones': [   {   'score': 0.721034,\n",
      "                                               'tone_id': 'joy',\n",
      "                                               'tone_name': 'Joy'},\n",
      "                                           {   'score': 0.664451,\n",
      "                                               'tone_id': 'analytical',\n",
      "                                               'tone_name': 'Analytical'}]},\n",
      "                          {   'sentence_id': 22,\n",
      "                              'text': '(This figure doesn’t include money '\n",
      "                                      'possibly donated by his foundation '\n",
      "                                      'after 2018 or money donated not through '\n",
      "                                      'a foundation or DAF.)',\n",
      "                              'tones': [   {   'score': 0.801827,\n",
      "                                               'tone_id': 'analytical',\n",
      "                                               'tone_name': 'Analytical'},\n",
      "                                           {   'score': 0.91961,\n",
      "                                               'tone_id': 'tentative',\n",
      "                                               'tone_name': 'Tentative'}]},\n",
      "                          {   'sentence_id': 23,\n",
      "                              'text': 'That math works out to Musk donating '\n",
      "                                      'about 0.05 percent of his current net '\n",
      "                                      'worth to charity so far.',\n",
      "                              'tones': [   {   'score': 0.842108,\n",
      "                                               'tone_id': 'analytical',\n",
      "                                               'tone_name': 'Analytical'}]},\n",
      "                          {   'sentence_id': 24,\n",
      "                              'text': 'That figure also tracks with what Musk '\n",
      "                                      'has said publicly — in 2018, he said '\n",
      "                                      'that he had sold about $100 million '\n",
      "                                      'worth of Tesla stock to finance his '\n",
      "                                      'charity.',\n",
      "                              'tones': []},\n",
      "                          {   'sentence_id': 25,\n",
      "                              'text': 'Representatives for Musk didn’t respond '\n",
      "                                      'to Recode’s request for comment.',\n",
      "                              'tones': []},\n",
      "                          {   'sentence_id': 26,\n",
      "                              'text': 'Because around three-quarters of Musk’s '\n",
      "                                      'donations to date have come through '\n",
      "                                      'DAFs, which don’t have to file similar '\n",
      "                                      'public tax documents, it is harder to '\n",
      "                                      'track what specific nonprofits he is '\n",
      "                                      'supporting.',\n",
      "                              'tones': []},\n",
      "                          {   'sentence_id': 27,\n",
      "                              'text': 'That’s somewhat intentional: Musk has '\n",
      "                                      'said his grants are “(almost always) '\n",
      "                                      'anonymous,” although that would only be '\n",
      "                                      'technically true for donations from '\n",
      "                                      'outside the walls of the foundation '\n",
      "                                      '(though Musk has said incorrectly that '\n",
      "                                      'his foundation donations are '\n",
      "                                      '“anonymous,” too.)',\n",
      "                              'tones': [   {   'score': 0.728394,\n",
      "                                               'tone_id': 'analytical',\n",
      "                                               'tone_name': 'Analytical'}]},\n",
      "                          {   'sentence_id': 28,\n",
      "                              'text': 'There have been some announcements of '\n",
      "                                      'major gifts from grantees, though.',\n",
      "                              'tones': [   {   'score': 0.786991,\n",
      "                                               'tone_id': 'tentative',\n",
      "                                               'tone_name': 'Tentative'}]},\n",
      "                          {   'sentence_id': 29,\n",
      "                              'text': 'In addition to the $10 million from the '\n",
      "                                      'foundation to OpenAI, Musk donated at '\n",
      "                                      'least $10 million to the Future of Life '\n",
      "                                      'Institute, which researches safety in '\n",
      "                                      'artificial intelligence; $10 million '\n",
      "                                      'for a prize focused on promoting global '\n",
      "                                      'literacy; and $6 million to the Sierra '\n",
      "                                      'Club, a donation that was originally '\n",
      "                                      'anonymous and then made public after '\n",
      "                                      'Musk encouraged the organization to do '\n",
      "                                      'so.',\n",
      "                              'tones': [   {   'score': 0.660212,\n",
      "                                               'tone_id': 'joy',\n",
      "                                               'tone_name': 'Joy'},\n",
      "                                           {   'score': 0.572858,\n",
      "                                               'tone_id': 'analytical',\n",
      "                                               'tone_name': 'Analytical'}]},\n",
      "                          {   'sentence_id': 30,\n",
      "                              'text': 'Musk has also said that he is “one of '\n",
      "                                      'the top donors” to the American Civil '\n",
      "                                      'Liberties Union, without disclosing a '\n",
      "                                      'precise amount.',\n",
      "                              'tones': [   {   'score': 0.560944,\n",
      "                                               'tone_id': 'confident',\n",
      "                                               'tone_name': 'Confident'}]},\n",
      "                          {   'sentence_id': 31,\n",
      "                              'text': 'But those donations all happened at a '\n",
      "                                      'quainter time in Musk’s wealth history.',\n",
      "                              'tones': [   {   'score': 0.67818,\n",
      "                                               'tone_id': 'joy',\n",
      "                                               'tone_name': 'Joy'},\n",
      "                                           {   'score': 0.775702,\n",
      "                                               'tone_id': 'confident',\n",
      "                                               'tone_name': 'Confident'}]},\n",
      "                          {   'sentence_id': 32,\n",
      "                              'text': 'Just a year ago, Musk was testifying '\n",
      "                                      'under oath that he was worth about $20 '\n",
      "                                      'billion, although as with other '\n",
      "                                      'billionaire tech founders, most of that '\n",
      "                                      'money resides in illiquid stock that a '\n",
      "                                      'CEO is often reluctant to sell.',\n",
      "                              'tones': [   {   'score': 0.628267,\n",
      "                                               'tone_id': 'tentative',\n",
      "                                               'tone_name': 'Tentative'}]},\n",
      "                          {   'sentence_id': 33,\n",
      "                              'text': 'Now Bloomberg estimates his net worth '\n",
      "                                      'as over 10 times that.',\n",
      "                              'tones': []},\n",
      "                          {   'sentence_id': 34,\n",
      "                              'text': 'And as he is now the world’s wealthiest '\n",
      "                                      'person, more eyeballs will be on his '\n",
      "                                      'every move.',\n",
      "                              'tones': [   {   'score': 0.507293,\n",
      "                                               'tone_id': 'joy',\n",
      "                                               'tone_name': 'Joy'},\n",
      "                                           {   'score': 0.6821,\n",
      "                                               'tone_id': 'confident',\n",
      "                                               'tone_name': 'Confident'}]},\n",
      "                          {   'sentence_id': 35,\n",
      "                              'text': 'Progressive activists and politicians '\n",
      "                                      'have increasingly turned their ire on a '\n",
      "                                      'few high-profile billionaires — sending '\n",
      "                                      'a guillotine to Bezos’s mansion at one '\n",
      "                                      'point, for instance — as a way to '\n",
      "                                      'criticize American income inequality.',\n",
      "                              'tones': [   {   'score': 0.682143,\n",
      "                                               'tone_id': 'analytical',\n",
      "                                               'tone_name': 'Analytical'}]},\n",
      "                          {   'sentence_id': 36,\n",
      "                              'text': 'Billionaires, though, have used their '\n",
      "                                      'philanthropy as a counterargument to '\n",
      "                                      'higher taxes that would close '\n",
      "                                      'inequality, pointing to the good they '\n",
      "                                      'are doing today for the world with the '\n",
      "                                      'fortunes.',\n",
      "                              'tones': [   {   'score': 0.623102,\n",
      "                                               'tone_id': 'joy',\n",
      "                                               'tone_name': 'Joy'}]},\n",
      "                          {   'sentence_id': 37,\n",
      "                              'text': 'Musk, who has bristled at the label '\n",
      "                                      '“billionaire” and recently moved '\n",
      "                                      'himself and his foundation to Texas, '\n",
      "                                      'has said that his big philanthropic '\n",
      "                                      'investments are still decades away, '\n",
      "                                      'which could frustrate the left.',\n",
      "                              'tones': [   {   'score': 0.795703,\n",
      "                                               'tone_id': 'sadness',\n",
      "                                               'tone_name': 'Sadness'}]},\n",
      "                          {   'sentence_id': 38,\n",
      "                              'text': 'The entrepreneur has said that while he '\n",
      "                                      'would sell some more Tesla shares '\n",
      "                                      '“every few years” for philanthropy, '\n",
      "                                      '“major disbursements” from his '\n",
      "                                      'charities will only come in about 20 '\n",
      "                                      'years, “when Tesla is in steady state.”',\n",
      "                              'tones': [   {   'score': 0.588932,\n",
      "                                               'tone_id': 'joy',\n",
      "                                               'tone_name': 'Joy'}]},\n",
      "                          {   'sentence_id': 39,\n",
      "                              'text': 'That would be around when Musk is '\n",
      "                                      'nearing 70 years old.',\n",
      "                              'tones': [   {   'score': 0.786991,\n",
      "                                               'tone_id': 'tentative',\n",
      "                                               'tone_name': 'Tentative'}]},\n",
      "                          {   'sentence_id': 40,\n",
      "                              'text': 'But he does appear to have a clear idea '\n",
      "                                      'of how he wants to spend his fortune at '\n",
      "                                      'that point.',\n",
      "                              'tones': [   {   'score': 0.579367,\n",
      "                                               'tone_id': 'analytical',\n",
      "                                               'tone_name': 'Analytical'}]},\n",
      "                          {   'sentence_id': 41,\n",
      "                              'text': 'He has already outlined two broad '\n",
      "                                      'buckets for his wealth: half for Earth, '\n",
      "                                      'and half for Mars.',\n",
      "                              'tones': []},\n",
      "                          {   'sentence_id': 42,\n",
      "                              'text': '“Will use that to make life '\n",
      "                                      'multiplanetary, help education & '\n",
      "                                      'environment on Earth w my foundation.',\n",
      "                              'tones': [   {   'score': 0.734293,\n",
      "                                               'tone_id': 'joy',\n",
      "                                               'tone_name': 'Joy'}]},\n",
      "                          {   'sentence_id': 43,\n",
      "                              'text': 'Just don’t want us to be sad about the '\n",
      "                                      'future,” he said of his wealth in 2018.',\n",
      "                              'tones': [   {   'score': 0.854124,\n",
      "                                               'tone_id': 'sadness',\n",
      "                                               'tone_name': 'Sadness'},\n",
      "                                           {   'score': 0.775166,\n",
      "                                               'tone_id': 'tentative',\n",
      "                                               'tone_name': 'Tentative'}]},\n",
      "                          {   'sentence_id': 44,\n",
      "                              'text': '“About half my money is intended for '\n",
      "                                      'problems on Earth, half to help '\n",
      "                                      'establish a self-sustaining city on '\n",
      "                                      'Mars to ensure continuation of life in '\n",
      "                                      'case we get hit by a meteor or WW3 '\n",
      "                                      'happens & we destroy ourselves,” he '\n",
      "                                      'told another follower a few months '\n",
      "                                      'later.',\n",
      "                              'tones': [   {   'score': 0.640519,\n",
      "                                               'tone_id': 'sadness',\n",
      "                                               'tone_name': 'Sadness'},\n",
      "                                           {   'score': 0.781949,\n",
      "                                               'tone_id': 'analytical',\n",
      "                                               'tone_name': 'Analytical'}]},\n",
      "                          {   'sentence_id': 45,\n",
      "                              'text': 'He’s already starting to make some more '\n",
      "                                      'gifts.',\n",
      "                              'tones': [   {   'score': 0.696272,\n",
      "                                               'tone_id': 'joy',\n",
      "                                               'tone_name': 'Joy'},\n",
      "                                           {   'score': 0.88939,\n",
      "                                               'tone_id': 'tentative',\n",
      "                                               'tone_name': 'Tentative'}]},\n",
      "                          {   'sentence_id': 46,\n",
      "                              'text': 'On Friday, Barstool Sports announced '\n",
      "                                      'that Musk had made a fund that it '\n",
      "                                      'organized to support by Barstool Sports '\n",
      "                                      'for small businesses.',\n",
      "                              'tones': [   {   'score': 0.631233,\n",
      "                                               'tone_id': 'joy',\n",
      "                                               'tone_name': 'Joy'}]},\n",
      "                          {   'sentence_id': 47,\n",
      "                              'text': 'Musk is not as showy with his material '\n",
      "                                      'comforts as other tech billionaires — '\n",
      "                                      'he is in the process of selling all of '\n",
      "                                      'his homes, and has not displayed the '\n",
      "                                      'same taste for yachts or other trifles.',\n",
      "                              'tones': [   {   'score': 0.528568,\n",
      "                                               'tone_id': 'joy',\n",
      "                                               'tone_name': 'Joy'}]},\n",
      "                          {   'sentence_id': 48,\n",
      "                              'text': 'From Musk’s point of view, he’s saving '\n",
      "                                      'up.',\n",
      "                              'tones': [   {   'score': 0.920855,\n",
      "                                               'tone_id': 'analytical',\n",
      "                                               'tone_name': 'Analytical'}]},\n",
      "                          {   'sentence_id': 49,\n",
      "                              'text': '“It’s going to take a lot of resources '\n",
      "                                      'to build a city on Mars,” he told an '\n",
      "                                      'interviewer last month.',\n",
      "                              'tones': []},\n",
      "                          {   'sentence_id': 50,\n",
      "                              'text': '“I want to be able to contribute as '\n",
      "                                      'much as possible.”',\n",
      "                              'tones': [   {   'score': 0.786991,\n",
      "                                               'tone_id': 'tentative',\n",
      "                                               'tone_name': 'Tentative'}]}]}\n"
     ]
    }
   ],
   "source": [
    "#Lets now look at the range of tones used in the entire article.\n",
    "\n",
    "result = tone_analyzer.tone(\n",
    "    article.text,\n",
    "    content_type='text/plain;charset=utf-8', \n",
    "    content_language = 'en'\n",
    ").get_result()\n",
    "\n",
    "pp.pprint(result)"
   ]
  }
 ],
 "metadata": {
  "colab": {
   "name": "NER Extractor with Regular Expression.ipynb",
   "provenance": []
  },
  "kernelspec": {
   "display_name": "Python 3",
   "language": "python",
   "name": "python3"
  },
  "language_info": {
   "codemirror_mode": {
    "name": "ipython",
    "version": 3
   },
   "file_extension": ".py",
   "mimetype": "text/x-python",
   "name": "python",
   "nbconvert_exporter": "python",
   "pygments_lexer": "ipython3",
   "version": "3.6.9"
  }
 },
 "nbformat": 4,
 "nbformat_minor": 1
}
