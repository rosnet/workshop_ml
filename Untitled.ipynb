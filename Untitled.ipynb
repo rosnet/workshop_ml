{
 "cells": [
  {
   "cell_type": "code",
   "execution_count": 5,
   "metadata": {},
   "outputs": [
    {
     "name": "stdout",
     "output_type": "stream",
     "text": [
      "Looking in indexes: https://nexus-tp.ubs.net/repository/proxy-pypi-oss-python-org/simple\n",
      "Requirement already satisfied: nltk in c:\\programs\\miniconda3_x64\\envs\\jup369\\lib\\site-packages (3.4.5)\n",
      "Requirement already satisfied: six in c:\\programs\\miniconda3_x64\\envs\\jup369\\lib\\site-packages (from nltk) (1.12.0)\n"
     ]
    }
   ],
   "source": [
    "!pip install -i https://nexus-tp.ubs.net/repository/proxy-pypi-oss-python-org/simple --trusted-host nexus-tp.ubs.net nltk"
   ]
  },
  {
   "cell_type": "code",
   "execution_count": 14,
   "metadata": {},
   "outputs": [
    {
     "name": "stderr",
     "output_type": "stream",
     "text": [
      "[nltk_data] Error loading punkt: <urlopen error [Errno 11001]\n",
      "[nltk_data]     getaddrinfo failed>\n"
     ]
    },
    {
     "data": {
      "text/plain": [
       "False"
      ]
     },
     "execution_count": 14,
     "metadata": {},
     "output_type": "execute_result"
    }
   ],
   "source": [
    "import nltk\n",
    "from nltk.tokenize import word_tokenize\n",
    "nltk.download('punkt')\n",
    "#text = \"After sleeping for four hours, he decided to sleep for another four\"\n",
    "#tokens = word_tokenize(text)\n",
    "#tokens\n"
   ]
  }
 ],
 "metadata": {
  "kernelspec": {
   "display_name": "Python 3",
   "language": "python",
   "name": "python3"
  }
 },
 "nbformat": 4,
 "nbformat_minor": 2
}
